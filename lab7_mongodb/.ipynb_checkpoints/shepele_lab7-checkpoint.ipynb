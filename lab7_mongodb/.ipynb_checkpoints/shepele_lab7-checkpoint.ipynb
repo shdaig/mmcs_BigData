{
 "cells": [
  {
   "cell_type": "code",
   "execution_count": 1,
   "id": "05b9f514-bef5-40f8-87ee-45f542745bc2",
   "metadata": {},
   "outputs": [],
   "source": [
    "from pymongo import MongoClient\n",
    "from datetime import datetime\n",
    "from dateutil import parser\n",
    "from dateutil.relativedelta import relativedelta"
   ]
  },
  {
   "cell_type": "code",
   "execution_count": 2,
   "id": "6bd7d7fb-411c-4c36-955f-841d72d0635d",
   "metadata": {},
   "outputs": [],
   "source": [
    "def get_client():\n",
    "    CONNECTION_STRING = \"mongodb://127.0.0.1:27017/\"\n",
    "    client = MongoClient(CONNECTION_STRING)\n",
    "    return client"
   ]
  },
  {
   "cell_type": "code",
   "execution_count": 3,
   "id": "ed276cb4-114b-4833-8ffc-609d4fbb9b44",
   "metadata": {},
   "outputs": [],
   "source": [
    "client = get_client()"
   ]
  },
  {
   "cell_type": "markdown",
   "id": "37d1a54d-604e-4aee-8489-0ad243d3cc2e",
   "metadata": {},
   "source": [
    "### **Курсы**"
   ]
  },
  {
   "cell_type": "code",
   "execution_count": 4,
   "id": "625d74f6-4b45-49a3-8287-4f6a3af5180e",
   "metadata": {},
   "outputs": [],
   "source": [
    "course_1 = {\n",
    "    \"_id\" : \"C001\",\n",
    "    \"name\" : \"Neural Networks and Deep Learning\",\n",
    "    \"duration\" : 4,\n",
    "    \"start_date\" : parser.parse('2023-03-20T00:00:00.000Z'),\n",
    "    \"end_date\" : parser.parse('2023-04-17T00:00:00.000Z'),\n",
    "    \"description\" : \"You will be familiar with the significant technological trends driving the rise of deep learning; build, train, and apply fully connected deep neural networks; implement efficient (vectorized) neural networks; identify key parameters in a neural network’s architecture; and apply deep learning to your own applications.\",\n",
    "    \"lecturer\" : \"Andrew Ng\",\n",
    "    \"price\" : 900\n",
    "}"
   ]
  },
  {
   "cell_type": "code",
   "execution_count": 5,
   "id": "00d88cf1-d0fe-4009-b0a6-3dd28e4383d5",
   "metadata": {
    "tags": []
   },
   "outputs": [],
   "source": [
    "course_2 = {\n",
    "    \"_id\" : \"C002\",\n",
    "    \"name\" : \"Structuring Machine Learning Projects\",\n",
    "    \"duration\" : 4,\n",
    "    \"start_date\" : parser.parse('2023-04-24T00:00:00.000Z'),\n",
    "    \"end_date\" : parser.parse('2023-05-22T00:00:00.000Z'),\n",
    "    \"description\" : \"You will be able to diagnose errors in a machine learning system; prioritize strategies for reducing errors; understand complex ML settings, such as mismatched training/test sets, and comparing to and/or surpassing human-level performance; and apply end-to-end learning, transfer learning, and multi-task learning.\",\n",
    "    \"lecturer\" : \"Andrew Ng\",\n",
    "    \"price\" : 750\n",
    "}"
   ]
  },
  {
   "cell_type": "code",
   "execution_count": 6,
   "id": "6e6ea036-f60c-4a25-81fc-0747b7a39cae",
   "metadata": {},
   "outputs": [],
   "source": [
    "course_3 = {\n",
    "    \"_id\" : \"C003\",\n",
    "    \"name\" : \"Convolutional Neural Networks\",\n",
    "    \"duration\" : 4,\n",
    "    \"start_date\" : parser.parse('2023-05-29T00:00:00.000Z'),\n",
    "    \"end_date\" : parser.parse('2023-06-26T00:00:00.000Z'),\n",
    "    \"description\" : \"You will be able to build a convolutional neural network, including recent variations such as residual networks; apply convolutional networks to visual detection and recognition tasks; and use neural style transfer to generate art and apply these algorithms to a variety of image, video, and other 2D or 3D data.\",\n",
    "    \"lecturer\" : \"Andrew Ng\",\n",
    "    \"price\" : 850\n",
    "}"
   ]
  },
  {
   "cell_type": "code",
   "execution_count": 7,
   "id": "0644df9b-03f7-4a52-b782-898be9608358",
   "metadata": {},
   "outputs": [],
   "source": [
    "courses_collection = client.courseradb.courses"
   ]
  },
  {
   "cell_type": "code",
   "execution_count": 8,
   "id": "ac1258e7-8fce-4f00-9348-8d36615f2fa7",
   "metadata": {},
   "outputs": [
    {
     "data": {
      "text/plain": [
       "<pymongo.results.InsertOneResult at 0x7fd82cf1bb50>"
      ]
     },
     "execution_count": 8,
     "metadata": {},
     "output_type": "execute_result"
    }
   ],
   "source": [
    "courses_collection.insert_one(course_1)\n",
    "courses_collection.insert_one(course_2)\n",
    "courses_collection.insert_one(course_3)"
   ]
  },
  {
   "cell_type": "markdown",
   "id": "f59641d6-5c5a-471c-9d53-ed606f603cf8",
   "metadata": {},
   "source": [
    "### **Пользователи**"
   ]
  },
  {
   "cell_type": "code",
   "execution_count": 9,
   "id": "ba6354b8-33d4-4b1b-b99c-ace887197e73",
   "metadata": {},
   "outputs": [],
   "source": [
    "user_1 = {\n",
    "    \"_id\" : \"U001\",\n",
    "    \"course_id\" : [\"C001\", \"C002\", \"C003\"],\n",
    "    \"full_name\" : \"Tilda Swinton\",\n",
    "    \"birthdate\" : parser.parse('1990-10-05T00:00:00.000Z'),\n",
    "    \"phone\" : \"+13859372865\",\n",
    "    \"corporate_client\" : False,\n",
    "    \"country\" : \"UK\",\n",
    "    \"city\" : \"London\",\n",
    "    \"online\" : False,\n",
    "    \"wish_list\" : []\n",
    "}"
   ]
  },
  {
   "cell_type": "code",
   "execution_count": 10,
   "id": "8888b063-9ea6-4005-83e1-555d612b3396",
   "metadata": {},
   "outputs": [],
   "source": [
    "user_2 = {\n",
    "    \"_id\" : \"U002\",\n",
    "    \"course_id\" : [\"C001\", \"C003\"],\n",
    "    \"full_name\" : \"Frances McDormand\",\n",
    "    \"birthdate\" : parser.parse('1997-06-23T00:00:00.000Z'),\n",
    "    \"phone\" : \"+13859573905\",\n",
    "    \"corporate_client\" : False,\n",
    "    \"country\" : \"USA\",\n",
    "    \"city\" : \"New York\",\n",
    "    \"online\" : False,\n",
    "    \"wish_list\" : []\n",
    "}"
   ]
  },
  {
   "cell_type": "code",
   "execution_count": 11,
   "id": "1118eb58-83b1-4216-b956-7e66f570d590",
   "metadata": {},
   "outputs": [],
   "source": [
    "user_3 = {\n",
    "    \"_id\" : \"U003\",\n",
    "    \"course_id\" : [\"C002\", \"C003\"],\n",
    "    \"full_name\" : \"Bill Murray\",\n",
    "    \"birthdate\" : parser.parse('1991-09-21T00:00:00.000Z'),\n",
    "    \"phone\" : \"+79859572314\",\n",
    "    \"corporate_client\" : True,\n",
    "    \"country\" : \"Russia\",\n",
    "    \"city\" : \"Rosov-on-Don\",\n",
    "    \"online\" : False,\n",
    "    \"wish_list\" : []\n",
    "}"
   ]
  },
  {
   "cell_type": "code",
   "execution_count": 12,
   "id": "54e14512-f969-4584-b1ed-30330b7b82f6",
   "metadata": {},
   "outputs": [],
   "source": [
    "user_4 = {\n",
    "    \"_id\" : \"U004\",\n",
    "    \"course_id\" : [\"C001\", \"C002\"],\n",
    "    \"full_name\" : \"Timothee Chalamet\",\n",
    "    \"birthdate\" : parser.parse('1995-12-27T00:00:00.000Z'),\n",
    "    \"phone\" : \"+147395720573\",\n",
    "    \"corporate_client\" : True,\n",
    "    \"country\" : \"USA\",\n",
    "    \"city\" : \"Pittsburgh\",\n",
    "    \"online\" : False,\n",
    "    \"wish_list\" : []\n",
    "}"
   ]
  },
  {
   "cell_type": "code",
   "execution_count": 13,
   "id": "33b2f5ff-c9b6-48ea-b897-d4558f750cb8",
   "metadata": {},
   "outputs": [],
   "source": [
    "user_5 = {\n",
    "    \"_id\" : \"U005\",\n",
    "    \"course_id\" : [\"C001\", \"C002\", \"C003\"],\n",
    "    \"full_name\" : \"Adrien Brody\",\n",
    "    \"birthdate\" : parser.parse('2000-04-14T00:00:00.000Z'),\n",
    "    \"phone\" : \"+19652970265\",\n",
    "    \"corporate_client\" : False,\n",
    "    \"country\" : \"Algeria\",\n",
    "    \"city\" : \"Algeria\",\n",
    "    \"online\" : False,\n",
    "    \"wish_list\" : []\n",
    "}"
   ]
  },
  {
   "cell_type": "code",
   "execution_count": 14,
   "id": "175b043c-ddf2-44e6-8e4d-733782d643c6",
   "metadata": {},
   "outputs": [],
   "source": [
    "user_6 = {\n",
    "    \"_id\" : \"U006\",\n",
    "    \"course_id\" : [\"C003\"],\n",
    "    \"full_name\" : \"Jeffrey Wright\",\n",
    "    \"birthdate\" : parser.parse('1999-05-27T00:00:00.000Z'),\n",
    "    \"phone\" : \"+15238265826\",\n",
    "    \"corporate_client\" : True,\n",
    "    \"country\" : \"USA\",\n",
    "    \"city\" : \"Washington\",\n",
    "    \"online\" : False,\n",
    "    \"wish_list\" : []\n",
    "}"
   ]
  },
  {
   "cell_type": "code",
   "execution_count": 15,
   "id": "823dd874-2ccd-4095-a93a-1fce958540b8",
   "metadata": {},
   "outputs": [],
   "source": [
    "user_7 = {\n",
    "    \"_id\" : \"U007\",\n",
    "    \"course_id\" : [\"C001\", \"C003\"],\n",
    "    \"full_name\" : \"Lyna Khoudri\",\n",
    "    \"birthdate\" : parser.parse('2001-03-03T00:00:00.000Z'),\n",
    "    \"phone\" : \"+158265926492\",\n",
    "    \"corporate_client\" : False,\n",
    "    \"country\" : \"USA\",\n",
    "    \"city\" : \"Pittsburgh\",\n",
    "    \"online\" : False,\n",
    "    \"wish_list\" : []\n",
    "}"
   ]
  },
  {
   "cell_type": "code",
   "execution_count": 16,
   "id": "6d90d307-e0e9-4819-b9d4-d55ba20df399",
   "metadata": {},
   "outputs": [],
   "source": [
    "users_collection = client.courseradb.users"
   ]
  },
  {
   "cell_type": "code",
   "execution_count": 17,
   "id": "1b71b262-8939-4cfe-94e9-346613d542ed",
   "metadata": {},
   "outputs": [
    {
     "data": {
      "text/plain": [
       "<pymongo.results.InsertManyResult at 0x7fd82cf1b460>"
      ]
     },
     "execution_count": 17,
     "metadata": {},
     "output_type": "execute_result"
    }
   ],
   "source": [
    "users_collection.insert_many([user_1, user_2, user_3, user_4, user_5, user_6, user_7])"
   ]
  },
  {
   "cell_type": "markdown",
   "id": "419cafbe-9e4a-4165-a963-9cc3a0af3719",
   "metadata": {},
   "source": [
    "### **Задание 1**"
   ]
  },
  {
   "cell_type": "code",
   "execution_count": 19,
   "id": "ecc2052a-37fa-41cf-949b-59c6a1496092",
   "metadata": {},
   "outputs": [],
   "source": [
    "pipeline = [\n",
    "    {\n",
    "        '$lookup': {\n",
    "            'from': 'courses',\n",
    "            'localField': 'course_id',\n",
    "            'foreignField': '_id',\n",
    "            'as': 'course'\n",
    "        }\n",
    "    },\n",
    "    {\n",
    "        '$unwind': '$course'\n",
    "    },\n",
    "    {\n",
    "        '$group': {\n",
    "            '_id': '$course.name',\n",
    "            'avg_age': {\n",
    "                '$avg': {\n",
    "                    '$subtract': [\n",
    "                        { '$year' : datetime.now()}, \n",
    "                        { '$year' : '$birthdate'}\n",
    "                    ]\n",
    "                }\n",
    "            }\n",
    "        }\n",
    "    }\n",
    "]"
   ]
  },
  {
   "cell_type": "code",
   "execution_count": 20,
   "id": "a3bd59dc-a22f-49f6-aea6-65960fb34619",
   "metadata": {},
   "outputs": [
    {
     "name": "stdout",
     "output_type": "stream",
     "text": [
      "Neural Networks and Deep Learning - Avg age: 26.4\n",
      "Structuring Machine Learning Projects - Avg age: 29.0\n",
      "Convolutional Neural Networks - Avg age: 26.666666666666668\n"
     ]
    }
   ],
   "source": [
    "result = users_collection.aggregate(pipeline)\n",
    "\n",
    "for data in result:\n",
    "    print(f'{data[\"_id\"]} - Avg age: {data[\"avg_age\"]}')"
   ]
  },
  {
   "cell_type": "markdown",
   "id": "97b7dc9c-1919-4f55-9674-eef993dbead3",
   "metadata": {},
   "source": [
    "### **Задание 2**"
   ]
  },
  {
   "cell_type": "code",
   "execution_count": 21,
   "id": "1fa3e703-04be-4c3f-9154-2af5271949d9",
   "metadata": {},
   "outputs": [],
   "source": [
    "pipeline = [\n",
    "    {\n",
    "        '$lookup': {\n",
    "            'from': 'courses',\n",
    "            'localField': 'course_id',\n",
    "            'foreignField': '_id',\n",
    "            'as': 'course'\n",
    "        }\n",
    "    },\n",
    "    {\n",
    "        '$unwind': '$course'\n",
    "    },\n",
    "    {\n",
    "        '$group': {\n",
    "            '_id': '$course.name',\n",
    "            'individual_clients': {\n",
    "                '$sum': {\n",
    "                    '$cond': [\n",
    "                        {'$eq': ['$corporate_client', False]}, 1, 0\n",
    "                    ]\n",
    "                }\n",
    "            },\n",
    "            'corporate_clients': {\n",
    "                '$sum': {\n",
    "                    '$cond': [\n",
    "                        {'$eq': ['$corporate_client', True]}, 1, 0\n",
    "                    ]\n",
    "                }\n",
    "            }\n",
    "        }\n",
    "    },\n",
    "    {\n",
    "        '$match': {\n",
    "            '$expr': {'$gt': ['$individual_clients', '$corporate_clients']}\n",
    "        }\n",
    "    },\n",
    "    {\n",
    "        '$project': {\n",
    "            'percentage': {\n",
    "                '$multiply': [\n",
    "                    {\n",
    "                        '$divide': [\n",
    "                            '$individual_clients', {'$add': ['$individual_clients', '$corporate_clients']}\n",
    "                        ]\n",
    "                    }, 100\n",
    "                ]\n",
    "            }\n",
    "        }\n",
    "    }\n",
    "]"
   ]
  },
  {
   "cell_type": "code",
   "execution_count": 22,
   "id": "cf7126ca-1197-43b3-8405-d7db0ba0efd7",
   "metadata": {},
   "outputs": [
    {
     "name": "stdout",
     "output_type": "stream",
     "text": [
      "Convolutional Neural Networks - Percentage ratio of individual_clients: 66.66666666666666%\n",
      "Neural Networks and Deep Learning - Percentage ratio of individual_clients: 80.0%\n"
     ]
    }
   ],
   "source": [
    "result = users_collection.aggregate(pipeline)\n",
    "\n",
    "for data in result:\n",
    "    print(f'{data[\"_id\"]} - Percentage ratio of individual_clients: {data[\"percentage\"]}%')"
   ]
  },
  {
   "cell_type": "markdown",
   "id": "eb806447-1bb4-46fa-a8f3-0d4d1a161c18",
   "metadata": {},
   "source": [
    "### **Задание 3**"
   ]
  },
  {
   "cell_type": "code",
   "execution_count": 24,
   "id": "96068590-e414-411c-8188-0f78151ab049",
   "metadata": {},
   "outputs": [],
   "source": [
    "query = {\n",
    "    'end_date': {'$lt': datetime.now()}\n",
    "}"
   ]
  },
  {
   "cell_type": "code",
   "execution_count": 25,
   "id": "f08c8424-43b9-47b2-85e2-86822d2d5806",
   "metadata": {},
   "outputs": [
    {
     "name": "stdout",
     "output_type": "stream",
     "text": [
      "Курсы, которые уже завершились:\n",
      "- Neural Networks and Deep Learning ( end_date: 2023-04-17 00:00:00 )\n",
      "- Structuring Machine Learning Projects ( end_date: 2023-05-22 00:00:00 )\n"
     ]
    }
   ],
   "source": [
    "courses = courses_collection.find(query)\n",
    "\n",
    "print(\"Курсы, которые уже завершились:\")\n",
    "\n",
    "for course in courses:\n",
    "    print(f'- {course[\"name\"]} ( end_date: {course[\"end_date\"]} )')"
   ]
  },
  {
   "cell_type": "markdown",
   "id": "e52d8c5c-71b2-482b-b6d9-57613111c3a5",
   "metadata": {},
   "source": [
    "### **Задание 4**"
   ]
  },
  {
   "cell_type": "code",
   "execution_count": 26,
   "id": "02bd1595-909b-4662-afd9-9f06a3e5aa25",
   "metadata": {},
   "outputs": [],
   "source": [
    "pipeline = [\n",
    "    {\n",
    "        '$lookup': {\n",
    "            'from': 'courses',\n",
    "            'localField': 'course_id',\n",
    "            'foreignField': '_id',\n",
    "            'as': 'course'\n",
    "        }\n",
    "    },\n",
    "    {\n",
    "        '$unwind': '$course'\n",
    "    },\n",
    "    {\n",
    "        '$match': {\n",
    "            '$expr': {'$lt': [datetime.now(), '$course.start_date']}\n",
    "        }\n",
    "    },\n",
    "    {\n",
    "        '$group': {\n",
    "            '_id': '$course.name',\n",
    "            'start_date': { \"$first\": \"$course.start_date\" },\n",
    "            'clients_count': {\n",
    "                '$sum': 1\n",
    "            }\n",
    "        }\n",
    "    }\n",
    "]"
   ]
  },
  {
   "cell_type": "code",
   "execution_count": 27,
   "id": "25c1809b-68f6-487c-a83e-2a5db26f9545",
   "metadata": {},
   "outputs": [
    {
     "name": "stdout",
     "output_type": "stream",
     "text": [
      "Курсы, которые еще предстоят и количество записавшихся на них пользователе:\n",
      "Convolutional Neural Networks (Начало: 2023-05-29 00:00:00) - К-во пользователей: 6\n"
     ]
    }
   ],
   "source": [
    "result = users_collection.aggregate(pipeline)\n",
    "\n",
    "print(\"Курсы, которые еще предстоят и количество записавшихся на них пользователе:\")\n",
    "\n",
    "for data in result:\n",
    "    print(f\"{data['_id']} (Начало: {data['start_date']}) - К-во пользователей: {data['clients_count']}\")"
   ]
  },
  {
   "cell_type": "markdown",
   "id": "6acca7c5-0f10-4a81-9fed-3d56f4b8456f",
   "metadata": {},
   "source": [
    "### **Задание 5**"
   ]
  },
  {
   "cell_type": "code",
   "execution_count": 28,
   "id": "8a6adfb9-5366-4bb7-9ae8-0734c4970bcd",
   "metadata": {},
   "outputs": [],
   "source": [
    "pipeline = [\n",
    "    {\n",
    "        '$lookup': {\n",
    "            'from': 'courses',\n",
    "            'localField': 'course_id',\n",
    "            'foreignField': '_id',\n",
    "            'as': 'course'\n",
    "        }\n",
    "    },\n",
    "    {\n",
    "        '$unwind': '$course'\n",
    "    },\n",
    "    {\n",
    "        '$match': {\n",
    "            '$expr': {'$gt': [datetime.now(), '$course.start_date']}\n",
    "        }\n",
    "    },\n",
    "    {\n",
    "        '$group': {\n",
    "            '_id': '$course.name',\n",
    "            'start_date': { \"$first\": \"$course.start_date\" },\n",
    "            'cash': {\n",
    "                '$sum': '$course.price'\n",
    "            },\n",
    "        }\n",
    "    }\n",
    "]"
   ]
  },
  {
   "cell_type": "code",
   "execution_count": 29,
   "id": "9698d28c-8ecb-4394-98cb-298a61d2cfe1",
   "metadata": {},
   "outputs": [
    {
     "name": "stdout",
     "output_type": "stream",
     "text": [
      "Курсы, которые еще предстоят и количество записавшихся на них пользователе:\n",
      "Neural Networks and Deep Learning (Начало: 2023-03-20 00:00:00) - Прибыль : 4500\n",
      "Structuring Machine Learning Projects (Начало: 2023-04-24 00:00:00) - Прибыль : 3000\n"
     ]
    }
   ],
   "source": [
    "result = users_collection.aggregate(pipeline)\n",
    "\n",
    "print(\"Курсы, которые еще предстоят и количество записавшихся на них пользователе:\")\n",
    "\n",
    "for data in result:\n",
    "    print(f\"{data['_id']} (Начало: {data['start_date']}) - Прибыль : {data['cash']}\")"
   ]
  },
  {
   "cell_type": "code",
   "execution_count": null,
   "id": "caadd447-0415-408d-a9b3-929d85470f5d",
   "metadata": {},
   "outputs": [],
   "source": []
  }
 ],
 "metadata": {
  "kernelspec": {
   "display_name": "Python 3 (ipykernel)",
   "language": "python",
   "name": "python3"
  },
  "language_info": {
   "codemirror_mode": {
    "name": "ipython",
    "version": 3
   },
   "file_extension": ".py",
   "mimetype": "text/x-python",
   "name": "python",
   "nbconvert_exporter": "python",
   "pygments_lexer": "ipython3",
   "version": "3.10.11"
  }
 },
 "nbformat": 4,
 "nbformat_minor": 5
}
