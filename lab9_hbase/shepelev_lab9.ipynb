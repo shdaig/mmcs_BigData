{
 "cells": [
  {
   "cell_type": "code",
   "execution_count": 307,
   "id": "46bcf8cc-02e6-410b-bc81-4118899194fa",
   "metadata": {},
   "outputs": [],
   "source": [
    "import happybase\n",
    "import pandas as pd\n",
    "from datetime import datetime"
   ]
  },
  {
   "cell_type": "markdown",
   "id": "02436dae-9137-4f17-909b-6f8b72829c22",
   "metadata": {},
   "source": [
    "# **Подключение**"
   ]
  },
  {
   "cell_type": "code",
   "execution_count": 66,
   "id": "764948c6-9dc6-49a9-8a0b-f19fb1b8cb4e",
   "metadata": {},
   "outputs": [],
   "source": [
    "connection = happybase.Connection('localhost', \n",
    "                                  port=9090)"
   ]
  },
  {
   "cell_type": "markdown",
   "id": "4cf57c43-822c-4afa-89b3-b90d2bded340",
   "metadata": {},
   "source": [
    "# **Создание таблиц**"
   ]
  },
  {
   "cell_type": "code",
   "execution_count": null,
   "id": "2c549323-dd3c-4fe7-9715-bcc5926f6de1",
   "metadata": {},
   "outputs": [],
   "source": [
    "connection.create_table(\n",
    "    'courses',\n",
    "    {\n",
    "        'info': dict(),\n",
    "    }\n",
    ")"
   ]
  },
  {
   "cell_type": "code",
   "execution_count": null,
   "id": "34b20a95-36cb-4cc2-85e8-69e9751d1b34",
   "metadata": {},
   "outputs": [],
   "source": [
    "connection.create_table(\n",
    "    'users',\n",
    "    {\n",
    "        'info': dict(),\n",
    "        'courses': dict(),\n",
    "    }\n",
    ")"
   ]
  },
  {
   "cell_type": "code",
   "execution_count": 38,
   "id": "e398ad4a-5060-4f86-b164-27dede9465ee",
   "metadata": {},
   "outputs": [
    {
     "data": {
      "text/plain": [
       "[b'courses', b'users']"
      ]
     },
     "execution_count": 38,
     "metadata": {},
     "output_type": "execute_result"
    }
   ],
   "source": [
    "connection.tables()"
   ]
  },
  {
   "cell_type": "markdown",
   "id": "65059acb-ab71-4dbc-91e0-138f36b702ab",
   "metadata": {},
   "source": [
    "# **Заполнение БД**"
   ]
  },
  {
   "cell_type": "code",
   "execution_count": 67,
   "id": "4f7d4059-4759-4ae6-9d08-b5ddf1660f52",
   "metadata": {},
   "outputs": [],
   "source": [
    "courses_table = connection.table('courses')\n",
    "users_table = connection.table('users')"
   ]
  },
  {
   "cell_type": "code",
   "execution_count": 29,
   "id": "6d727a9a-b395-41b2-af36-507da86be870",
   "metadata": {},
   "outputs": [],
   "source": [
    "courses_table.put(b'C001', \n",
    "                   {\n",
    "                       b'info:name': b'Neural Networks and Deep Learning', \n",
    "                       b'info:duration': b'4', \n",
    "                       b'info:start_date': b'2023-03-20T00:00:00.000Z', \n",
    "                       b'info:end_date': b'2023-03-20T00:00:00.000Z', \n",
    "                       b'info:description': b'Course 1 description', \n",
    "                       b'info:lecturer': b'Andrew Ng', \n",
    "                       b'info:price': b'900'\n",
    "                   }\n",
    "                  )"
   ]
  },
  {
   "cell_type": "code",
   "execution_count": 30,
   "id": "e5fb8a90-9ba0-410a-9226-01a70fe79b52",
   "metadata": {},
   "outputs": [],
   "source": [
    "courses_table.put(b'C002', \n",
    "                   {\n",
    "                       b'info:name': b'Structuring Machine Learning Projects', \n",
    "                       b'info:duration': b'4', \n",
    "                       b'info:start_date': b'2023-04-24T00:00:00.000Z', \n",
    "                       b'info:end_date': b'2023-05-22T00:00:00.000Z', \n",
    "                       b'info:description': b'Course 2 description', \n",
    "                       b'info:lecturer': b'Andrew Ng', \n",
    "                       b'info:price': b'750'}\n",
    "                  )"
   ]
  },
  {
   "cell_type": "code",
   "execution_count": 31,
   "id": "d0fc0601-26c3-4489-9682-f9f94d002139",
   "metadata": {},
   "outputs": [],
   "source": [
    "courses_table.put(b'C003', \n",
    "                   {\n",
    "                       b'info:name': b'Convolutional Neural Networks', \n",
    "                       b'info:duration': b'4', \n",
    "                       b'info:start_date': b'2023-05-29T00:00:00.000Z', \n",
    "                       b'info:end_date': b'2023-06-26T00:00:00.000Z', \n",
    "                       b'info:description': b'Course 3 description', \n",
    "                       b'info:lecturer': b'Andrew Ng', \n",
    "                       b'info:price': b'850'}\n",
    "                  )"
   ]
  },
  {
   "cell_type": "code",
   "execution_count": 40,
   "id": "01068957-61c0-4353-8865-81af4bdfbaf5",
   "metadata": {},
   "outputs": [],
   "source": [
    "users_table.put(b'U001', \n",
    "                {\n",
    "                    b'info:name': b'Tilda Swinton', \n",
    "                    b'info:birth_date': b'1990-10-05',            \n",
    "                    b'info:corporate_client': b'False', \n",
    "                    b'courses:C001': b'',\n",
    "                    b'courses:C002': b'',\n",
    "                    b'courses:C003': b''\n",
    "                }\n",
    "               )"
   ]
  },
  {
   "cell_type": "code",
   "execution_count": 41,
   "id": "3b79fa1e-ea07-46a3-88e0-842be9998066",
   "metadata": {},
   "outputs": [],
   "source": [
    "users_table.put(b'U002', \n",
    "                {\n",
    "                    b'info:name': b'Frances McDormand', \n",
    "                    b'info:birth_date': b'1997-06-23',            \n",
    "                    b'info:corporate_client': b'False', \n",
    "                    b'courses:C001': b'',\n",
    "                    b'courses:C003': b''\n",
    "                }\n",
    "               )"
   ]
  },
  {
   "cell_type": "code",
   "execution_count": 42,
   "id": "2f7e0fae-81d3-41ea-ad00-20b20cbb6934",
   "metadata": {},
   "outputs": [],
   "source": [
    "users_table.put(b'U003', \n",
    "                {\n",
    "                    b'info:name': b'Bill Murray', \n",
    "                    b'info:birth_date': b'1991-09-21',            \n",
    "                    b'info:corporate_client': b'True', \n",
    "                    b'courses:C002': b'',\n",
    "                    b'courses:C003': b''\n",
    "                }\n",
    "               )"
   ]
  },
  {
   "cell_type": "code",
   "execution_count": 43,
   "id": "6c38dee8-a3d2-4ce4-b9cc-aa4738b92582",
   "metadata": {},
   "outputs": [],
   "source": [
    "users_table.put(b'U004', \n",
    "                {\n",
    "                    b'info:name': b'Timothee Chalamet', \n",
    "                    b'info:birth_date': b'1995-12-27',            \n",
    "                    b'info:corporate_client': b'True', \n",
    "                    b'courses:C001': b'',\n",
    "                    b'courses:C002': b''\n",
    "                }\n",
    "               )"
   ]
  },
  {
   "cell_type": "code",
   "execution_count": 44,
   "id": "5507a1c5-ce52-4f97-808b-5a4e74b58e6d",
   "metadata": {},
   "outputs": [],
   "source": [
    "users_table.put(b'U005', \n",
    "                {\n",
    "                    b'info:name': b'Adrien Brody', \n",
    "                    b'info:birth_date': b'2000-04-14',            \n",
    "                    b'info:corporate_client': b'False', \n",
    "                    b'courses:C001': b'',\n",
    "                    b'courses:C002': b'',\n",
    "                    b'courses:C003': b''\n",
    "                }\n",
    "               )"
   ]
  },
  {
   "cell_type": "code",
   "execution_count": 45,
   "id": "fb9ba082-a0a6-489b-8935-0a0ccc3fce3f",
   "metadata": {},
   "outputs": [],
   "source": [
    "users_table.put(b'U006', \n",
    "                {\n",
    "                    b'info:name': b'Jeffrey Wright', \n",
    "                    b'info:birth_date': b'1999-05-27',            \n",
    "                    b'info:corporate_client': b'True', \n",
    "                    b'courses:C003': b''\n",
    "                }\n",
    "               )"
   ]
  },
  {
   "cell_type": "code",
   "execution_count": 47,
   "id": "3a59b727-5e0f-4b83-bf6f-12dad4868d19",
   "metadata": {},
   "outputs": [],
   "source": [
    "users_table.put(b'U007', \n",
    "                {\n",
    "                    b'info:name': b'Lyna Khoudri', \n",
    "                    b'info:birth_date': b'2001-03-03',            \n",
    "                    b'info:corporate_client': b'False', \n",
    "                    b'courses:C001': b'',\n",
    "                    b'courses:C003': b''\n",
    "                }\n",
    "               )"
   ]
  },
  {
   "cell_type": "markdown",
   "id": "aa79f296-6189-4572-9466-aa683bfdeb51",
   "metadata": {},
   "source": [
    "# **Подготовка данных**"
   ]
  },
  {
   "cell_type": "code",
   "execution_count": 331,
   "id": "a0019ad2-aefb-47ec-878c-93ebc9b16b73",
   "metadata": {},
   "outputs": [],
   "source": [
    "connection = happybase.Connection('localhost', \n",
    "                                  port=9090)"
   ]
  },
  {
   "cell_type": "code",
   "execution_count": 332,
   "id": "53659fa1-8e70-4d6f-8049-a4a4df62ae54",
   "metadata": {},
   "outputs": [],
   "source": [
    "courses_table = connection.table('courses')\n",
    "users_table = connection.table('users')"
   ]
  },
  {
   "cell_type": "code",
   "execution_count": 333,
   "id": "e6390d9a-0d59-4b4f-a42f-52a3e3e9785b",
   "metadata": {},
   "outputs": [],
   "source": [
    "users = []\n",
    "\n",
    "for key, data in users_table.scan():\n",
    "    users.append(key)"
   ]
  },
  {
   "cell_type": "code",
   "execution_count": null,
   "id": "544c452e-6377-4546-bfc2-180bf273742e",
   "metadata": {},
   "outputs": [
    {
     "data": {
      "text/plain": [
       "[b'U001', b'U002', b'U003', b'U004', b'U005', b'U006', b'U007']"
      ]
     },
     "execution_count": 334,
     "metadata": {},
     "output_type": "execute_result"
    }
   ],
   "source": [
    "users"
   ]
  },
  {
   "cell_type": "code",
   "execution_count": null,
   "id": "d3978504-973d-4874-9611-b687a57d8125",
   "metadata": {},
   "outputs": [],
   "source": [
    "users_df = []\n",
    "birth_date = []\n",
    "corporate_client = []\n",
    "courses = []\n",
    "\n",
    "for user in users:\n",
    "    row = users_table.row(user, columns=[b'courses'])\n",
    "    courses_list = list(row.keys())\n",
    "    for course in courses_list:\n",
    "        users_df.append(user.decode('utf-8'))\n",
    "        birth_date.append(datetime.strptime(list(users_table.row(user, columns=[b'info:birth_date']).values())[0].decode('utf-8'), \"%Y-%m-%d\").date())\n",
    "        if list(users_table.row(user, columns=[b'info:corporate_client']).values())[0] == b'True':\n",
    "            corporate_client.append(True)\n",
    "        else:\n",
    "            corporate_client.append(False)\n",
    "        courses.append(course.split(b':')[1].decode('utf-8'))"
   ]
  },
  {
   "cell_type": "code",
   "execution_count": 336,
   "id": "79592f46-c732-4536-aecc-6f08963a34da",
   "metadata": {},
   "outputs": [],
   "source": [
    "user_df = pd.DataFrame({'user_id': users_df, \n",
    "                       'birth_date': birth_date, \n",
    "                       'corporate_client': corporate_client, \n",
    "                       'course_id': courses})\n",
    "\n",
    "user_df['birth_date'] = pd.to_datetime(user_df['birth_date'])"
   ]
  },
  {
   "cell_type": "code",
   "execution_count": 337,
   "id": "e9639420-3706-41aa-a535-25df0a92cdf5",
   "metadata": {},
   "outputs": [
    {
     "data": {
      "text/html": [
       "<div>\n",
       "<style scoped>\n",
       "    .dataframe tbody tr th:only-of-type {\n",
       "        vertical-align: middle;\n",
       "    }\n",
       "\n",
       "    .dataframe tbody tr th {\n",
       "        vertical-align: top;\n",
       "    }\n",
       "\n",
       "    .dataframe thead th {\n",
       "        text-align: right;\n",
       "    }\n",
       "</style>\n",
       "<table border=\"1\" class=\"dataframe\">\n",
       "  <thead>\n",
       "    <tr style=\"text-align: right;\">\n",
       "      <th></th>\n",
       "      <th>user_id</th>\n",
       "      <th>birth_date</th>\n",
       "      <th>corporate_client</th>\n",
       "      <th>course_id</th>\n",
       "    </tr>\n",
       "  </thead>\n",
       "  <tbody>\n",
       "    <tr>\n",
       "      <th>0</th>\n",
       "      <td>U001</td>\n",
       "      <td>1990-10-05</td>\n",
       "      <td>False</td>\n",
       "      <td>C001</td>\n",
       "    </tr>\n",
       "    <tr>\n",
       "      <th>1</th>\n",
       "      <td>U001</td>\n",
       "      <td>1990-10-05</td>\n",
       "      <td>False</td>\n",
       "      <td>C002</td>\n",
       "    </tr>\n",
       "    <tr>\n",
       "      <th>2</th>\n",
       "      <td>U001</td>\n",
       "      <td>1990-10-05</td>\n",
       "      <td>False</td>\n",
       "      <td>C003</td>\n",
       "    </tr>\n",
       "    <tr>\n",
       "      <th>3</th>\n",
       "      <td>U002</td>\n",
       "      <td>1997-06-23</td>\n",
       "      <td>False</td>\n",
       "      <td>C001</td>\n",
       "    </tr>\n",
       "    <tr>\n",
       "      <th>4</th>\n",
       "      <td>U002</td>\n",
       "      <td>1997-06-23</td>\n",
       "      <td>False</td>\n",
       "      <td>C003</td>\n",
       "    </tr>\n",
       "    <tr>\n",
       "      <th>5</th>\n",
       "      <td>U003</td>\n",
       "      <td>1991-09-21</td>\n",
       "      <td>True</td>\n",
       "      <td>C002</td>\n",
       "    </tr>\n",
       "    <tr>\n",
       "      <th>6</th>\n",
       "      <td>U003</td>\n",
       "      <td>1991-09-21</td>\n",
       "      <td>True</td>\n",
       "      <td>C003</td>\n",
       "    </tr>\n",
       "    <tr>\n",
       "      <th>7</th>\n",
       "      <td>U004</td>\n",
       "      <td>1995-12-27</td>\n",
       "      <td>True</td>\n",
       "      <td>C001</td>\n",
       "    </tr>\n",
       "    <tr>\n",
       "      <th>8</th>\n",
       "      <td>U004</td>\n",
       "      <td>1995-12-27</td>\n",
       "      <td>True</td>\n",
       "      <td>C002</td>\n",
       "    </tr>\n",
       "    <tr>\n",
       "      <th>9</th>\n",
       "      <td>U005</td>\n",
       "      <td>2000-04-14</td>\n",
       "      <td>False</td>\n",
       "      <td>C001</td>\n",
       "    </tr>\n",
       "    <tr>\n",
       "      <th>10</th>\n",
       "      <td>U005</td>\n",
       "      <td>2000-04-14</td>\n",
       "      <td>False</td>\n",
       "      <td>C002</td>\n",
       "    </tr>\n",
       "    <tr>\n",
       "      <th>11</th>\n",
       "      <td>U005</td>\n",
       "      <td>2000-04-14</td>\n",
       "      <td>False</td>\n",
       "      <td>C003</td>\n",
       "    </tr>\n",
       "    <tr>\n",
       "      <th>12</th>\n",
       "      <td>U006</td>\n",
       "      <td>1999-05-27</td>\n",
       "      <td>True</td>\n",
       "      <td>C003</td>\n",
       "    </tr>\n",
       "    <tr>\n",
       "      <th>13</th>\n",
       "      <td>U007</td>\n",
       "      <td>2001-03-03</td>\n",
       "      <td>False</td>\n",
       "      <td>C001</td>\n",
       "    </tr>\n",
       "    <tr>\n",
       "      <th>14</th>\n",
       "      <td>U007</td>\n",
       "      <td>2001-03-03</td>\n",
       "      <td>False</td>\n",
       "      <td>C003</td>\n",
       "    </tr>\n",
       "  </tbody>\n",
       "</table>\n",
       "</div>"
      ],
      "text/plain": [
       "   user_id birth_date  corporate_client course_id\n",
       "0     U001 1990-10-05             False      C001\n",
       "1     U001 1990-10-05             False      C002\n",
       "2     U001 1990-10-05             False      C003\n",
       "3     U002 1997-06-23             False      C001\n",
       "4     U002 1997-06-23             False      C003\n",
       "5     U003 1991-09-21              True      C002\n",
       "6     U003 1991-09-21              True      C003\n",
       "7     U004 1995-12-27              True      C001\n",
       "8     U004 1995-12-27              True      C002\n",
       "9     U005 2000-04-14             False      C001\n",
       "10    U005 2000-04-14             False      C002\n",
       "11    U005 2000-04-14             False      C003\n",
       "12    U006 1999-05-27              True      C003\n",
       "13    U007 2001-03-03             False      C001\n",
       "14    U007 2001-03-03             False      C003"
      ]
     },
     "execution_count": 337,
     "metadata": {},
     "output_type": "execute_result"
    }
   ],
   "source": [
    "user_df"
   ]
  },
  {
   "cell_type": "code",
   "execution_count": 338,
   "id": "0ebecf5b-6683-4a9f-b774-f302ed1e6643",
   "metadata": {},
   "outputs": [],
   "source": [
    "courses = []\n",
    "\n",
    "for key, data in courses_table.scan():\n",
    "    courses.append(key)"
   ]
  },
  {
   "cell_type": "code",
   "execution_count": 339,
   "id": "d023524c-786f-4259-8d38-1e38ef915e11",
   "metadata": {},
   "outputs": [],
   "source": [
    "courses_df = []\n",
    "names = []\n",
    "start_date = []\n",
    "end_date = []\n",
    "price = []\n",
    "\n",
    "for course in courses:\n",
    "    courses_df.append(course.decode('utf-8'))\n",
    "    names.append(list(courses_table.row(course, columns=[b'info:name']).values())[0].decode('utf-8'))\n",
    "    start_date.append(datetime.strptime(list(courses_table.row(course, columns=[b'info:start_date']).values())[0].decode('utf-8'), \"%Y-%m-%dT%H:%M:%S.000Z\"))\n",
    "    end_date.append(datetime.strptime(list(courses_table.row(course, columns=[b'info:end_date']).values())[0].decode('utf-8'), \"%Y-%m-%dT%H:%M:%S.000Z\"))\n",
    "    price.append(int(list(courses_table.row(course, columns=[b'info:price']).values())[0]))"
   ]
  },
  {
   "cell_type": "code",
   "execution_count": 340,
   "id": "4ce9d6b5-7445-4ce7-acfe-764ecaea69d3",
   "metadata": {},
   "outputs": [],
   "source": [
    "course_df = pd.DataFrame({'course_id': courses_df, \n",
    "                          'name': names, \n",
    "                          'start_date': start_date, \n",
    "                          'end_date': end_date, \n",
    "                          'price': price})\n",
    "\n",
    "course_df['start_date'] = pd.to_datetime(course_df['start_date'])\n",
    "course_df['end_date'] = pd.to_datetime(course_df['end_date'])"
   ]
  },
  {
   "cell_type": "code",
   "execution_count": 341,
   "id": "2195f7a3-ec18-4c47-9317-95e363371265",
   "metadata": {},
   "outputs": [
    {
     "data": {
      "text/html": [
       "<div>\n",
       "<style scoped>\n",
       "    .dataframe tbody tr th:only-of-type {\n",
       "        vertical-align: middle;\n",
       "    }\n",
       "\n",
       "    .dataframe tbody tr th {\n",
       "        vertical-align: top;\n",
       "    }\n",
       "\n",
       "    .dataframe thead th {\n",
       "        text-align: right;\n",
       "    }\n",
       "</style>\n",
       "<table border=\"1\" class=\"dataframe\">\n",
       "  <thead>\n",
       "    <tr style=\"text-align: right;\">\n",
       "      <th></th>\n",
       "      <th>course_id</th>\n",
       "      <th>name</th>\n",
       "      <th>start_date</th>\n",
       "      <th>end_date</th>\n",
       "      <th>price</th>\n",
       "    </tr>\n",
       "  </thead>\n",
       "  <tbody>\n",
       "    <tr>\n",
       "      <th>0</th>\n",
       "      <td>C001</td>\n",
       "      <td>Neural Networks and Deep Learning</td>\n",
       "      <td>2023-03-20</td>\n",
       "      <td>2023-03-20</td>\n",
       "      <td>900</td>\n",
       "    </tr>\n",
       "    <tr>\n",
       "      <th>1</th>\n",
       "      <td>C002</td>\n",
       "      <td>Structuring Machine Learning Projects</td>\n",
       "      <td>2023-04-24</td>\n",
       "      <td>2023-05-22</td>\n",
       "      <td>750</td>\n",
       "    </tr>\n",
       "    <tr>\n",
       "      <th>2</th>\n",
       "      <td>C003</td>\n",
       "      <td>Convolutional Neural Networks</td>\n",
       "      <td>2023-05-29</td>\n",
       "      <td>2023-06-26</td>\n",
       "      <td>850</td>\n",
       "    </tr>\n",
       "  </tbody>\n",
       "</table>\n",
       "</div>"
      ],
      "text/plain": [
       "  course_id                                   name start_date   end_date  \\\n",
       "0      C001      Neural Networks and Deep Learning 2023-03-20 2023-03-20   \n",
       "1      C002  Structuring Machine Learning Projects 2023-04-24 2023-05-22   \n",
       "2      C003          Convolutional Neural Networks 2023-05-29 2023-06-26   \n",
       "\n",
       "   price  \n",
       "0    900  \n",
       "1    750  \n",
       "2    850  "
      ]
     },
     "execution_count": 341,
     "metadata": {},
     "output_type": "execute_result"
    }
   ],
   "source": [
    "course_df"
   ]
  },
  {
   "cell_type": "markdown",
   "id": "22103524-b5e5-40e0-ad71-3c9d6734aacd",
   "metadata": {},
   "source": [
    "# **1. Вывести средний возраст пользователей по каждому курсу.**"
   ]
  },
  {
   "cell_type": "code",
   "execution_count": 342,
   "id": "85d16956-6bba-4992-9644-44afba40a7b2",
   "metadata": {},
   "outputs": [],
   "source": [
    "merged_df = pd.merge(course_df, user_df, left_on='course_id', right_on='course_id')"
   ]
  },
  {
   "cell_type": "code",
   "execution_count": 343,
   "id": "52b8505a-1078-4450-a8d9-0aee0c0cd76a",
   "metadata": {},
   "outputs": [
    {
     "data": {
      "text/html": [
       "<div>\n",
       "<style scoped>\n",
       "    .dataframe tbody tr th:only-of-type {\n",
       "        vertical-align: middle;\n",
       "    }\n",
       "\n",
       "    .dataframe tbody tr th {\n",
       "        vertical-align: top;\n",
       "    }\n",
       "\n",
       "    .dataframe thead th {\n",
       "        text-align: right;\n",
       "    }\n",
       "</style>\n",
       "<table border=\"1\" class=\"dataframe\">\n",
       "  <thead>\n",
       "    <tr style=\"text-align: right;\">\n",
       "      <th></th>\n",
       "      <th>course_id</th>\n",
       "      <th>name</th>\n",
       "      <th>start_date</th>\n",
       "      <th>end_date</th>\n",
       "      <th>price</th>\n",
       "      <th>user_id</th>\n",
       "      <th>birth_date</th>\n",
       "      <th>corporate_client</th>\n",
       "    </tr>\n",
       "  </thead>\n",
       "  <tbody>\n",
       "    <tr>\n",
       "      <th>0</th>\n",
       "      <td>C001</td>\n",
       "      <td>Neural Networks and Deep Learning</td>\n",
       "      <td>2023-03-20</td>\n",
       "      <td>2023-03-20</td>\n",
       "      <td>900</td>\n",
       "      <td>U001</td>\n",
       "      <td>1990-10-05</td>\n",
       "      <td>False</td>\n",
       "    </tr>\n",
       "    <tr>\n",
       "      <th>1</th>\n",
       "      <td>C001</td>\n",
       "      <td>Neural Networks and Deep Learning</td>\n",
       "      <td>2023-03-20</td>\n",
       "      <td>2023-03-20</td>\n",
       "      <td>900</td>\n",
       "      <td>U002</td>\n",
       "      <td>1997-06-23</td>\n",
       "      <td>False</td>\n",
       "    </tr>\n",
       "    <tr>\n",
       "      <th>2</th>\n",
       "      <td>C001</td>\n",
       "      <td>Neural Networks and Deep Learning</td>\n",
       "      <td>2023-03-20</td>\n",
       "      <td>2023-03-20</td>\n",
       "      <td>900</td>\n",
       "      <td>U004</td>\n",
       "      <td>1995-12-27</td>\n",
       "      <td>True</td>\n",
       "    </tr>\n",
       "    <tr>\n",
       "      <th>3</th>\n",
       "      <td>C001</td>\n",
       "      <td>Neural Networks and Deep Learning</td>\n",
       "      <td>2023-03-20</td>\n",
       "      <td>2023-03-20</td>\n",
       "      <td>900</td>\n",
       "      <td>U005</td>\n",
       "      <td>2000-04-14</td>\n",
       "      <td>False</td>\n",
       "    </tr>\n",
       "    <tr>\n",
       "      <th>4</th>\n",
       "      <td>C001</td>\n",
       "      <td>Neural Networks and Deep Learning</td>\n",
       "      <td>2023-03-20</td>\n",
       "      <td>2023-03-20</td>\n",
       "      <td>900</td>\n",
       "      <td>U007</td>\n",
       "      <td>2001-03-03</td>\n",
       "      <td>False</td>\n",
       "    </tr>\n",
       "    <tr>\n",
       "      <th>5</th>\n",
       "      <td>C002</td>\n",
       "      <td>Structuring Machine Learning Projects</td>\n",
       "      <td>2023-04-24</td>\n",
       "      <td>2023-05-22</td>\n",
       "      <td>750</td>\n",
       "      <td>U001</td>\n",
       "      <td>1990-10-05</td>\n",
       "      <td>False</td>\n",
       "    </tr>\n",
       "    <tr>\n",
       "      <th>6</th>\n",
       "      <td>C002</td>\n",
       "      <td>Structuring Machine Learning Projects</td>\n",
       "      <td>2023-04-24</td>\n",
       "      <td>2023-05-22</td>\n",
       "      <td>750</td>\n",
       "      <td>U003</td>\n",
       "      <td>1991-09-21</td>\n",
       "      <td>True</td>\n",
       "    </tr>\n",
       "    <tr>\n",
       "      <th>7</th>\n",
       "      <td>C002</td>\n",
       "      <td>Structuring Machine Learning Projects</td>\n",
       "      <td>2023-04-24</td>\n",
       "      <td>2023-05-22</td>\n",
       "      <td>750</td>\n",
       "      <td>U004</td>\n",
       "      <td>1995-12-27</td>\n",
       "      <td>True</td>\n",
       "    </tr>\n",
       "    <tr>\n",
       "      <th>8</th>\n",
       "      <td>C002</td>\n",
       "      <td>Structuring Machine Learning Projects</td>\n",
       "      <td>2023-04-24</td>\n",
       "      <td>2023-05-22</td>\n",
       "      <td>750</td>\n",
       "      <td>U005</td>\n",
       "      <td>2000-04-14</td>\n",
       "      <td>False</td>\n",
       "    </tr>\n",
       "    <tr>\n",
       "      <th>9</th>\n",
       "      <td>C003</td>\n",
       "      <td>Convolutional Neural Networks</td>\n",
       "      <td>2023-05-29</td>\n",
       "      <td>2023-06-26</td>\n",
       "      <td>850</td>\n",
       "      <td>U001</td>\n",
       "      <td>1990-10-05</td>\n",
       "      <td>False</td>\n",
       "    </tr>\n",
       "    <tr>\n",
       "      <th>10</th>\n",
       "      <td>C003</td>\n",
       "      <td>Convolutional Neural Networks</td>\n",
       "      <td>2023-05-29</td>\n",
       "      <td>2023-06-26</td>\n",
       "      <td>850</td>\n",
       "      <td>U002</td>\n",
       "      <td>1997-06-23</td>\n",
       "      <td>False</td>\n",
       "    </tr>\n",
       "    <tr>\n",
       "      <th>11</th>\n",
       "      <td>C003</td>\n",
       "      <td>Convolutional Neural Networks</td>\n",
       "      <td>2023-05-29</td>\n",
       "      <td>2023-06-26</td>\n",
       "      <td>850</td>\n",
       "      <td>U003</td>\n",
       "      <td>1991-09-21</td>\n",
       "      <td>True</td>\n",
       "    </tr>\n",
       "    <tr>\n",
       "      <th>12</th>\n",
       "      <td>C003</td>\n",
       "      <td>Convolutional Neural Networks</td>\n",
       "      <td>2023-05-29</td>\n",
       "      <td>2023-06-26</td>\n",
       "      <td>850</td>\n",
       "      <td>U005</td>\n",
       "      <td>2000-04-14</td>\n",
       "      <td>False</td>\n",
       "    </tr>\n",
       "    <tr>\n",
       "      <th>13</th>\n",
       "      <td>C003</td>\n",
       "      <td>Convolutional Neural Networks</td>\n",
       "      <td>2023-05-29</td>\n",
       "      <td>2023-06-26</td>\n",
       "      <td>850</td>\n",
       "      <td>U006</td>\n",
       "      <td>1999-05-27</td>\n",
       "      <td>True</td>\n",
       "    </tr>\n",
       "    <tr>\n",
       "      <th>14</th>\n",
       "      <td>C003</td>\n",
       "      <td>Convolutional Neural Networks</td>\n",
       "      <td>2023-05-29</td>\n",
       "      <td>2023-06-26</td>\n",
       "      <td>850</td>\n",
       "      <td>U007</td>\n",
       "      <td>2001-03-03</td>\n",
       "      <td>False</td>\n",
       "    </tr>\n",
       "  </tbody>\n",
       "</table>\n",
       "</div>"
      ],
      "text/plain": [
       "   course_id                                   name start_date   end_date  \\\n",
       "0       C001      Neural Networks and Deep Learning 2023-03-20 2023-03-20   \n",
       "1       C001      Neural Networks and Deep Learning 2023-03-20 2023-03-20   \n",
       "2       C001      Neural Networks and Deep Learning 2023-03-20 2023-03-20   \n",
       "3       C001      Neural Networks and Deep Learning 2023-03-20 2023-03-20   \n",
       "4       C001      Neural Networks and Deep Learning 2023-03-20 2023-03-20   \n",
       "5       C002  Structuring Machine Learning Projects 2023-04-24 2023-05-22   \n",
       "6       C002  Structuring Machine Learning Projects 2023-04-24 2023-05-22   \n",
       "7       C002  Structuring Machine Learning Projects 2023-04-24 2023-05-22   \n",
       "8       C002  Structuring Machine Learning Projects 2023-04-24 2023-05-22   \n",
       "9       C003          Convolutional Neural Networks 2023-05-29 2023-06-26   \n",
       "10      C003          Convolutional Neural Networks 2023-05-29 2023-06-26   \n",
       "11      C003          Convolutional Neural Networks 2023-05-29 2023-06-26   \n",
       "12      C003          Convolutional Neural Networks 2023-05-29 2023-06-26   \n",
       "13      C003          Convolutional Neural Networks 2023-05-29 2023-06-26   \n",
       "14      C003          Convolutional Neural Networks 2023-05-29 2023-06-26   \n",
       "\n",
       "    price user_id birth_date  corporate_client  \n",
       "0     900    U001 1990-10-05             False  \n",
       "1     900    U002 1997-06-23             False  \n",
       "2     900    U004 1995-12-27              True  \n",
       "3     900    U005 2000-04-14             False  \n",
       "4     900    U007 2001-03-03             False  \n",
       "5     750    U001 1990-10-05             False  \n",
       "6     750    U003 1991-09-21              True  \n",
       "7     750    U004 1995-12-27              True  \n",
       "8     750    U005 2000-04-14             False  \n",
       "9     850    U001 1990-10-05             False  \n",
       "10    850    U002 1997-06-23             False  \n",
       "11    850    U003 1991-09-21              True  \n",
       "12    850    U005 2000-04-14             False  \n",
       "13    850    U006 1999-05-27              True  \n",
       "14    850    U007 2001-03-03             False  "
      ]
     },
     "execution_count": 343,
     "metadata": {},
     "output_type": "execute_result"
    }
   ],
   "source": [
    "merged_df"
   ]
  },
  {
   "cell_type": "code",
   "execution_count": 351,
   "id": "05cc0481-c665-4781-bd11-b7b297e50763",
   "metadata": {},
   "outputs": [],
   "source": [
    "merged_df['age'] = (datetime.now().year - merged_df['birth_date'].dt.year)"
   ]
  },
  {
   "cell_type": "code",
   "execution_count": 352,
   "id": "115bd7b1-1e25-4bcb-add4-48dde4ece309",
   "metadata": {},
   "outputs": [
    {
     "name": "stdout",
     "output_type": "stream",
     "text": [
      "name\n",
      "Convolutional Neural Networks            26.666667\n",
      "Neural Networks and Deep Learning        26.400000\n",
      "Structuring Machine Learning Projects    29.000000\n",
      "Name: age, dtype: float64\n"
     ]
    }
   ],
   "source": [
    "average_age_by_course = merged_df.groupby('name')['age'].mean()\n",
    "\n",
    "print(average_age_by_course)"
   ]
  },
  {
   "cell_type": "markdown",
   "id": "9a8def40-b3bc-4fa7-a696-b1e96d89b8b0",
   "metadata": {},
   "source": [
    "# **2. Вывести курсы в которых физических клиентов, больше чем корпоративных клиент и их процентное соотношение.**"
   ]
  },
  {
   "cell_type": "code",
   "execution_count": 353,
   "id": "09450e0e-9db3-4358-8ed1-3dc58219b648",
   "metadata": {},
   "outputs": [
    {
     "data": {
      "text/html": [
       "<div>\n",
       "<style scoped>\n",
       "    .dataframe tbody tr th:only-of-type {\n",
       "        vertical-align: middle;\n",
       "    }\n",
       "\n",
       "    .dataframe tbody tr th {\n",
       "        vertical-align: top;\n",
       "    }\n",
       "\n",
       "    .dataframe thead th {\n",
       "        text-align: right;\n",
       "    }\n",
       "</style>\n",
       "<table border=\"1\" class=\"dataframe\">\n",
       "  <thead>\n",
       "    <tr style=\"text-align: right;\">\n",
       "      <th>corporate_client</th>\n",
       "      <th>False</th>\n",
       "      <th>True</th>\n",
       "    </tr>\n",
       "    <tr>\n",
       "      <th>name</th>\n",
       "      <th></th>\n",
       "      <th></th>\n",
       "    </tr>\n",
       "  </thead>\n",
       "  <tbody>\n",
       "    <tr>\n",
       "      <th>Convolutional Neural Networks</th>\n",
       "      <td>4</td>\n",
       "      <td>2</td>\n",
       "    </tr>\n",
       "    <tr>\n",
       "      <th>Neural Networks and Deep Learning</th>\n",
       "      <td>4</td>\n",
       "      <td>1</td>\n",
       "    </tr>\n",
       "    <tr>\n",
       "      <th>Structuring Machine Learning Projects</th>\n",
       "      <td>2</td>\n",
       "      <td>2</td>\n",
       "    </tr>\n",
       "  </tbody>\n",
       "</table>\n",
       "</div>"
      ],
      "text/plain": [
       "corporate_client                       False  True \n",
       "name                                               \n",
       "Convolutional Neural Networks              4      2\n",
       "Neural Networks and Deep Learning          4      1\n",
       "Structuring Machine Learning Projects      2      2"
      ]
     },
     "execution_count": 353,
     "metadata": {},
     "output_type": "execute_result"
    }
   ],
   "source": [
    "clients_count = merged_df.groupby('name')['corporate_client'].value_counts().unstack(fill_value=0)\n",
    "clients_count"
   ]
  },
  {
   "cell_type": "code",
   "execution_count": 354,
   "id": "3e6308ea-530e-4c5c-a6b3-87949573dd35",
   "metadata": {},
   "outputs": [
    {
     "name": "stderr",
     "output_type": "stream",
     "text": [
      "/tmp/ipykernel_39546/4125502690.py:3: SettingWithCopyWarning: \n",
      "A value is trying to be set on a copy of a slice from a DataFrame.\n",
      "Try using .loc[row_indexer,col_indexer] = value instead\n",
      "\n",
      "See the caveats in the documentation: https://pandas.pydata.org/pandas-docs/stable/user_guide/indexing.html#returning-a-view-versus-a-copy\n",
      "  filtered_courses['percentage'] = (filtered_courses[False] / (filtered_courses[False] + filtered_courses[True])) * 100\n"
     ]
    }
   ],
   "source": [
    "filtered_courses = clients_count[clients_count[False] > clients_count[True]]\n",
    "\n",
    "filtered_courses['percentage'] = (filtered_courses[False] / (filtered_courses[False] + filtered_courses[True])) * 100"
   ]
  },
  {
   "cell_type": "code",
   "execution_count": 355,
   "id": "99e3ef31-187d-43be-8797-b415e86f3e6a",
   "metadata": {},
   "outputs": [
    {
     "name": "stdout",
     "output_type": "stream",
     "text": [
      "corporate_client                   percentage\n",
      "name                                         \n",
      "Convolutional Neural Networks       66.666667\n",
      "Neural Networks and Deep Learning   80.000000\n"
     ]
    }
   ],
   "source": [
    "print(filtered_courses[['percentage']])"
   ]
  },
  {
   "cell_type": "markdown",
   "id": "ac158de5-68c2-40fc-9094-a0bcd6cf9bbb",
   "metadata": {},
   "source": [
    "# **3. Вывести курсы, которые уже завершились.**"
   ]
  },
  {
   "cell_type": "code",
   "execution_count": 357,
   "id": "468be324-f163-452b-89f8-cad0f4b011ca",
   "metadata": {},
   "outputs": [
    {
     "name": "stdout",
     "output_type": "stream",
     "text": [
      "0        Neural Networks and Deep Learning\n",
      "1    Structuring Machine Learning Projects\n",
      "Name: name, dtype: object\n"
     ]
    }
   ],
   "source": [
    "current_date = datetime.now().date()\n",
    "\n",
    "finished_courses = course_df[course_df['end_date'].dt.date <= current_date]\n",
    "\n",
    "print(finished_courses['name'])"
   ]
  },
  {
   "cell_type": "markdown",
   "id": "aa3c5cc5-68fa-4065-85d0-8b31277a7c18",
   "metadata": {},
   "source": [
    "# **4. Вывести курсы, которые еще предстоят и количество записавшихся на них пользователей.**"
   ]
  },
  {
   "cell_type": "code",
   "execution_count": 359,
   "id": "e265ce66-4c8e-4ec6-80c7-722ba9bd19b9",
   "metadata": {},
   "outputs": [],
   "source": [
    "upcoming_courses = course_df[course_df['start_date'].dt.date > current_date]"
   ]
  },
  {
   "cell_type": "code",
   "execution_count": 364,
   "id": "867d2253-673c-42ca-bdf2-57bddcdaeb6f",
   "metadata": {},
   "outputs": [
    {
     "name": "stdout",
     "output_type": "stream",
     "text": [
      "Количество записавшихся пользователей:\n",
      "name\n",
      "Convolutional Neural Networks    6\n",
      "Name: user_id, dtype: int64\n"
     ]
    }
   ],
   "source": [
    "merged_df = pd.merge(upcoming_courses, user_df, left_on='course_id', right_on='course_id')\n",
    "\n",
    "users_count = merged_df.groupby('name')['user_id'].count()\n",
    "\n",
    "print(\"Количество записавшихся пользователей:\")\n",
    "print(users_count)"
   ]
  },
  {
   "cell_type": "markdown",
   "id": "f57aa0ed-cfc7-4f3b-8933-f85f5601ad36",
   "metadata": {},
   "source": [
    "# **5. Вывести полученную прибыль от курсов, которые завершились и уже проходят.**"
   ]
  },
  {
   "cell_type": "code",
   "execution_count": null,
   "id": "a6dbd3ec-4d3c-425b-ba02-25240b5801bb",
   "metadata": {},
   "outputs": [],
   "source": [
    "current_date = pd.to_datetime('now')"
   ]
  },
  {
   "cell_type": "code",
   "execution_count": 374,
   "id": "9b677629-5e28-4eb4-b08d-65e4ef29a2eb",
   "metadata": {},
   "outputs": [],
   "source": [
    "finished_courses = course_df[course_df['end_date'] < current_date]\n",
    "ongoing_courses = course_df[(course_df['start_date'] <= current_date) & (course_df['end_date'] >= current_date)]"
   ]
  },
  {
   "cell_type": "code",
   "execution_count": 375,
   "id": "cf3b7247-c3ed-4e9b-bd72-9343106bfbe2",
   "metadata": {},
   "outputs": [],
   "source": [
    "profit_finished_courses = finished_courses['price'].sum()\n",
    "profit_ongoing_courses = ongoing_courses['price'].sum()"
   ]
  },
  {
   "cell_type": "code",
   "execution_count": 377,
   "id": "0fb20308-24ff-4d2b-b14c-900170efcdc1",
   "metadata": {},
   "outputs": [
    {
     "name": "stdout",
     "output_type": "stream",
     "text": [
      "Полученная прибыль от курсов: 1650\n"
     ]
    }
   ],
   "source": [
    "print(\"Полученная прибыль от курсов:\", profit_ongoing_courses + profit_finished_courses)"
   ]
  },
  {
   "cell_type": "code",
   "execution_count": null,
   "id": "1df5269e-330f-4044-87f2-3e1589d9b8cb",
   "metadata": {},
   "outputs": [],
   "source": []
  }
 ],
 "metadata": {
  "kernelspec": {
   "display_name": "Python 3 (ipykernel)",
   "language": "python",
   "name": "python3"
  },
  "language_info": {
   "codemirror_mode": {
    "name": "ipython",
    "version": 3
   },
   "file_extension": ".py",
   "mimetype": "text/x-python",
   "name": "python",
   "nbconvert_exporter": "python",
   "pygments_lexer": "ipython3",
   "version": "3.10.11"
  }
 },
 "nbformat": 4,
 "nbformat_minor": 5
}
