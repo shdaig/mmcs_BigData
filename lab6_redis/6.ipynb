{
 "cells": [
  {
   "cell_type": "code",
   "execution_count": 2,
   "id": "b1286af3",
   "metadata": {},
   "outputs": [],
   "source": [
    "import redis\n",
    "import operator"
   ]
  },
  {
   "cell_type": "code",
   "execution_count": 3,
   "id": "0cb54789",
   "metadata": {},
   "outputs": [],
   "source": [
    "r = redis.Redis(\n",
    "  host='redis-16983.c246.us-east-1-4.ec2.cloud.redislabs.com',\n",
    "  port=16983,\n",
    "  password='mA7LxSghivQ66FkTUnrjJMG30oX3xeIQ')\n"
   ]
  },
  {
   "cell_type": "code",
   "execution_count": 5,
   "id": "34ab7a3e",
   "metadata": {
    "scrolled": true
   },
   "outputs": [
    {
     "data": {
      "text/plain": [
       "True"
      ]
     },
     "execution_count": 5,
     "metadata": {},
     "output_type": "execute_result"
    }
   ],
   "source": [
    "r.set('film:1:name', 'Hobbit 1')\n",
    "r.set('film:2:name', 'Hobbit 2')\n",
    "r.set('film:3:name', 'Hobbit 3')\n",
    "r.set('film:4:name', 'The Lord of the Rings 1')\n",
    "r.set('film:5:name', 'The Lord of the Rings 2')\n",
    "r.set('film:6:name', 'The Lord of the Rings 3')\n",
    "r.set('film:7:name', 'Pirates of the Caribbean 1')\n",
    "r.set('film:8:name', 'Pirates of the Caribbean 2')\n",
    "r.set('film:9:name', 'Pirates of the Caribbean 3')\n",
    "r.set('film:10:name', 'Pirates of the Caribbean 4')\n",
    "\n",
    "r.set('film:1:year', 2012)\n",
    "r.set('film:2:year', 2013)\n",
    "r.set('film:3:year', 2014)\n",
    "r.set('film:4:year', 2001)\n",
    "r.set('film:5:year', 2002)\n",
    "r.set('film:6:year', 2003)\n",
    "r.set('film:7:year', 2003)\n",
    "r.set('film:8:year', 2006)\n",
    "r.set('film:9:year', 2007)\n",
    "r.set('film:10:year', 2011)\n",
    "\n",
    "r.set('film:1:rate', 8.1)\n",
    "r.set('film:2:rate', 8.0)\n",
    "r.set('film:3:rate', 7.9)\n",
    "r.set('film:4:rate', 8.6)\n",
    "r.set('film:5:rate', 8.6)\n",
    "r.set('film:6:rate', 8.7)\n",
    "r.set('film:7:rate', 8.4)\n",
    "r.set('film:8:rate', 8.1)\n",
    "r.set('film:9:rate', 8.1)\n",
    "r.set('film:10:rate', 7.3)\n",
    "\n",
    "r.set('film:1:country', 'USA')\n",
    "r.set('film:2:country', 'USA')\n",
    "r.set('film:3:country', 'USA')\n",
    "r.set('film:4:country', 'USA')\n",
    "r.set('film:5:country', 'USA')\n",
    "r.set('film:6:country', 'USA')\n",
    "r.set('film:7:country', 'USA')\n",
    "r.set('film:8:country', 'USA')\n",
    "r.set('film:9:country', 'USA')\n",
    "r.set('film:10:country', 'USA')\n",
    "\n",
    "r.set('film:1:cash', 180)\n",
    "r.set('film:2:cash', 225)\n",
    "r.set('film:3:cash', 250)\n",
    "r.set('film:4:cash', 93)\n",
    "r.set('film:5:cash', 94)\n",
    "r.set('film:6:cash', 94)\n",
    "r.set('film:7:cash', 106)\n",
    "r.set('film:8:cash', 90)\n",
    "r.set('film:9:cash', 84)\n",
    "r.set('film:10:cash', 87)"
   ]
  },
  {
   "cell_type": "markdown",
   "id": "e30cae69",
   "metadata": {},
   "source": [
    "Пункт 1"
   ]
  },
  {
   "cell_type": "code",
   "execution_count": 8,
   "id": "629ed195",
   "metadata": {
    "scrolled": true
   },
   "outputs": [],
   "source": [
    "# keys = r.keys('*')\n",
    "# keys"
   ]
  },
  {
   "cell_type": "code",
   "execution_count": 7,
   "id": "a2a1d6bd",
   "metadata": {},
   "outputs": [
    {
     "name": "stdout",
     "output_type": "stream",
     "text": [
      "Sorted Films:\n",
      "Name: Hobbit 3, Year: 2014, Cash: 250\n",
      "Name: Hobbit 2, Year: 2013, Cash: 225\n",
      "Name: Hobbit 1, Year: 2012, Cash: 180\n",
      "Name: Pirates of the Caribbean 4, Year: 2011, Cash: 87\n",
      "Name: Pirates of the Caribbean 3, Year: 2007, Cash: 84\n",
      "Name: Pirates of the Caribbean 2, Year: 2006, Cash: 90\n",
      "Name: Pirates of the Caribbean 1, Year: 2003, Cash: 106\n",
      "Name: The Lord of the Rings 3, Year: 2003, Cash: 94\n",
      "Name: The Lord of the Rings 2, Year: 2002, Cash: 94\n",
      "Name: The Lord of the Rings 1, Year: 2001, Cash: 93\n"
     ]
    }
   ],
   "source": [
    "film_keys = r.keys('film:*:name')\n",
    "films = []\n",
    "\n",
    "for key in film_keys:\n",
    "    film_id = key.decode().split(':')[1]\n",
    "    name = r.get(f'film:{film_id}:name').decode()\n",
    "    year = int(r.get(f'film:{film_id}:year'))\n",
    "    cash = int(r.get(f'film:{film_id}:cash'))\n",
    "    films.append({'name': name, 'year': year, 'cash': cash})\n",
    "\n",
    "sorted_films = sorted(films, key=operator.itemgetter('year', 'cash'), reverse=True)\n",
    "print(\"Sorted Films:\")\n",
    "for film in sorted_films:\n",
    "    print(f\"Name: {film['name']}, Year: {film['year']}, Cash: {film['cash']}\")\n",
    "  "
   ]
  },
  {
   "cell_type": "markdown",
   "id": "bfd81158",
   "metadata": {},
   "source": [
    "Пункт 2"
   ]
  },
  {
   "cell_type": "code",
   "execution_count": 9,
   "id": "0844d9f8",
   "metadata": {},
   "outputs": [
    {
     "name": "stdout",
     "output_type": "stream",
     "text": [
      "Most Expensive Film:\n",
      "Name: Hobbit 3, Year: 2014, Cash: 250\n"
     ]
    }
   ],
   "source": [
    "most_expensive_film = max(films, key=operator.itemgetter('cash'))\n",
    "print(\"Most Expensive Film:\")\n",
    "print(f\"Name: {most_expensive_film['name']}, Year: {most_expensive_film['year']}, Cash: {most_expensive_film['cash']}\")\n"
   ]
  },
  {
   "cell_type": "markdown",
   "id": "fa07b18d",
   "metadata": {},
   "source": [
    "Пункт 3"
   ]
  },
  {
   "cell_type": "code",
   "execution_count": 12,
   "id": "211bbd02",
   "metadata": {},
   "outputs": [
    {
     "name": "stdout",
     "output_type": "stream",
     "text": [
      "Films with Rating >= 8.7:\n",
      "The Lord of the Rings 3\n"
     ]
    }
   ],
   "source": [
    "high_rated_films = []\n",
    "for key in film_keys:\n",
    "    film_id = key.decode().split(':')[1]\n",
    "    name = r.get(f'film:{film_id}:name').decode()\n",
    "    rate = float(r.get(f'film:{film_id}:rate'))\n",
    "    if rate >= 8.7:\n",
    "        high_rated_films.append(name)\n",
    "        \n",
    "print(\"Films with Rating >= 8.7:\")\n",
    "for film in high_rated_films:\n",
    "    print(film)"
   ]
  },
  {
   "cell_type": "markdown",
   "id": "43577434",
   "metadata": {},
   "source": [
    "Пункт 4"
   ]
  },
  {
   "cell_type": "code",
   "execution_count": 15,
   "id": "8abaace9",
   "metadata": {},
   "outputs": [
    {
     "name": "stdout",
     "output_type": "stream",
     "text": [
      "130.3\n",
      "Hobbit 1\n",
      "Hobbit 3\n",
      "Hobbit 2\n"
     ]
    }
   ],
   "source": [
    "cash_values = [film['cash'] for film in films]\n",
    "average_budget = sum(cash_values) / len(cash_values)\n",
    "high_budget_films = []\n",
    "\n",
    "for key in film_keys:\n",
    "    film_id = key.decode().split(':')[1]\n",
    "    name = r.get(f'film:{film_id}:name').decode()\n",
    "    cash = int(r.get(f'film:{film_id}:cash'))\n",
    "    if cash > average_budget:\n",
    "        high_budget_films.append(name)\n",
    "print(average_budget)\n",
    "for film in high_budget_films:\n",
    "    print(film)"
   ]
  },
  {
   "cell_type": "code",
   "execution_count": null,
   "id": "61019b0d",
   "metadata": {},
   "outputs": [],
   "source": []
  },
  {
   "cell_type": "code",
   "execution_count": null,
   "id": "5ec81760",
   "metadata": {},
   "outputs": [],
   "source": []
  },
  {
   "cell_type": "code",
   "execution_count": null,
   "id": "e8e23570",
   "metadata": {},
   "outputs": [],
   "source": []
  }
 ],
 "metadata": {
  "kernelspec": {
   "display_name": "Python 3 (ipykernel)",
   "language": "python",
   "name": "python3"
  },
  "language_info": {
   "codemirror_mode": {
    "name": "ipython",
    "version": 3
   },
   "file_extension": ".py",
   "mimetype": "text/x-python",
   "name": "python",
   "nbconvert_exporter": "python",
   "pygments_lexer": "ipython3",
   "version": "3.9.13"
  }
 },
 "nbformat": 4,
 "nbformat_minor": 5
}
