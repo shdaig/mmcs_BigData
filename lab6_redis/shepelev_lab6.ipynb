{
 "cells": [
  {
   "cell_type": "code",
   "execution_count": 39,
   "id": "b1286af3",
   "metadata": {},
   "outputs": [],
   "source": [
    "import redis\n",
    "import pandas as pd\n",
    "import numpy as np"
   ]
  },
  {
   "cell_type": "code",
   "execution_count": 3,
   "id": "0cb54789",
   "metadata": {},
   "outputs": [],
   "source": [
    "r = redis.Redis(\n",
    "  host='127.0.0.1',\n",
    "  port=6379)"
   ]
  },
  {
   "cell_type": "code",
   "execution_count": 6,
   "id": "34ab7a3e",
   "metadata": {
    "scrolled": true
   },
   "outputs": [
    {
     "data": {
      "text/plain": [
       "True"
      ]
     },
     "execution_count": 6,
     "metadata": {},
     "output_type": "execute_result"
    }
   ],
   "source": [
    "r.set('film:1:name', 'Drive')\n",
    "r.set('film:2:name', 'Demolition')\n",
    "r.set('film:3:name', 'Clerks')\n",
    "r.set('film:4:name', 'Dogma')\n",
    "r.set('film:5:name', 'Baby Driver')\n",
    "r.set('film:6:name', 'Harry Potter and the Sorcerers Stone')\n",
    "r.set('film:7:name', 'Inception')\n",
    "r.set('film:8:name', 'Snatch')\n",
    "r.set('film:9:name', 'Home Alone')\n",
    "r.set('film:10:name', 'Back to the Future')\n",
    "\n",
    "r.set('film:1:year', 2011)\n",
    "r.set('film:2:year', 2015)\n",
    "r.set('film:3:year', 1994)\n",
    "r.set('film:4:year', 1999)\n",
    "r.set('film:5:year', 2017)\n",
    "r.set('film:6:year', 2001)\n",
    "r.set('film:7:year', 2010)\n",
    "r.set('film:8:year', 2000)\n",
    "r.set('film:9:year', 1990)\n",
    "r.set('film:10:year', 1985)\n",
    "\n",
    "r.set('film:1:rate', 7.3)\n",
    "r.set('film:2:rate', 7.2)\n",
    "r.set('film:3:rate', 7.7)\n",
    "r.set('film:4:rate', 7.7)\n",
    "r.set('film:5:rate', 7.2)\n",
    "r.set('film:6:rate', 8.7)\n",
    "r.set('film:7:rate', 8.7)\n",
    "r.set('film:8:rate', 8.5)\n",
    "r.set('film:9:rate', 8.3)\n",
    "r.set('film:10:rate', 8.6)\n",
    "\n",
    "r.set('film:1:country', 'USA')\n",
    "r.set('film:2:country', 'USA')\n",
    "r.set('film:3:country', 'USA')\n",
    "r.set('film:4:country', 'USA')\n",
    "r.set('film:5:country', 'USA')\n",
    "r.set('film:6:country', 'USA')\n",
    "r.set('film:7:country', 'USA')\n",
    "r.set('film:8:country', 'USA')\n",
    "r.set('film:9:country', 'USA')\n",
    "r.set('film:10:country', 'USA')\n",
    "\n",
    "r.set('film:1:cash', 15000000)\n",
    "r.set('film:2:cash', 10000000)\n",
    "r.set('film:3:cash', 27000)\n",
    "r.set('film:4:cash', 10000000)\n",
    "r.set('film:5:cash', 34000000)\n",
    "r.set('film:6:cash', 125000000)\n",
    "r.set('film:7:cash', 160000000)\n",
    "r.set('film:8:cash', 10000000)\n",
    "r.set('film:9:cash', 18000000)\n",
    "r.set('film:10:cash', 19000000)"
   ]
  },
  {
   "cell_type": "markdown",
   "id": "e30cae69",
   "metadata": {},
   "source": [
    "### **1. Вывести отсортированный список фильмов по годам (возрастанию) и бюджету (убывание)**"
   ]
  },
  {
   "cell_type": "code",
   "execution_count": 24,
   "id": "a2a1d6bd",
   "metadata": {},
   "outputs": [],
   "source": [
    "film_keys = r.keys('film:*:name')\n",
    "names = []\n",
    "years = []\n",
    "cashs = []\n",
    "rates = []\n",
    "\n",
    "for key in film_keys:\n",
    "    film_id = key.decode().split(':')[1]\n",
    "    \n",
    "    names.append(r.get(f'film:{film_id}:name').decode())\n",
    "    years.append(int(r.get(f'film:{film_id}:year')))\n",
    "    cashs.append(int(r.get(f'film:{film_id}:cash')))\n",
    "    rates.append(float(r.get(f'film:{film_id}:rate')))\n",
    "\n",
    "films = {'name': names, 'year': years, 'cash': cashs, 'rate': rates}\n",
    "\n",
    "films_df = pd.DataFrame.from_dict(films)"
   ]
  },
  {
   "cell_type": "code",
   "execution_count": 25,
   "id": "65e0d626-bdd4-4d4f-911f-69ee6e64984b",
   "metadata": {},
   "outputs": [
    {
     "data": {
      "text/html": [
       "<div>\n",
       "<style scoped>\n",
       "    .dataframe tbody tr th:only-of-type {\n",
       "        vertical-align: middle;\n",
       "    }\n",
       "\n",
       "    .dataframe tbody tr th {\n",
       "        vertical-align: top;\n",
       "    }\n",
       "\n",
       "    .dataframe thead th {\n",
       "        text-align: right;\n",
       "    }\n",
       "</style>\n",
       "<table border=\"1\" class=\"dataframe\">\n",
       "  <thead>\n",
       "    <tr style=\"text-align: right;\">\n",
       "      <th></th>\n",
       "      <th>name</th>\n",
       "      <th>year</th>\n",
       "      <th>cash</th>\n",
       "      <th>rate</th>\n",
       "    </tr>\n",
       "  </thead>\n",
       "  <tbody>\n",
       "    <tr>\n",
       "      <th>0</th>\n",
       "      <td>Dogma</td>\n",
       "      <td>1999</td>\n",
       "      <td>10000000</td>\n",
       "      <td>7.7</td>\n",
       "    </tr>\n",
       "    <tr>\n",
       "      <th>1</th>\n",
       "      <td>Home Alone</td>\n",
       "      <td>1990</td>\n",
       "      <td>18000000</td>\n",
       "      <td>8.3</td>\n",
       "    </tr>\n",
       "    <tr>\n",
       "      <th>2</th>\n",
       "      <td>Drive</td>\n",
       "      <td>2011</td>\n",
       "      <td>15000000</td>\n",
       "      <td>7.3</td>\n",
       "    </tr>\n",
       "    <tr>\n",
       "      <th>3</th>\n",
       "      <td>Snatch</td>\n",
       "      <td>2000</td>\n",
       "      <td>10000000</td>\n",
       "      <td>8.5</td>\n",
       "    </tr>\n",
       "    <tr>\n",
       "      <th>4</th>\n",
       "      <td>Clerks</td>\n",
       "      <td>1994</td>\n",
       "      <td>27000</td>\n",
       "      <td>7.7</td>\n",
       "    </tr>\n",
       "    <tr>\n",
       "      <th>5</th>\n",
       "      <td>Harry Potter and the Sorcerers Stone</td>\n",
       "      <td>2001</td>\n",
       "      <td>125000000</td>\n",
       "      <td>8.7</td>\n",
       "    </tr>\n",
       "    <tr>\n",
       "      <th>6</th>\n",
       "      <td>Baby Driver</td>\n",
       "      <td>2017</td>\n",
       "      <td>34000000</td>\n",
       "      <td>7.2</td>\n",
       "    </tr>\n",
       "    <tr>\n",
       "      <th>7</th>\n",
       "      <td>Demolition</td>\n",
       "      <td>2015</td>\n",
       "      <td>10000000</td>\n",
       "      <td>7.2</td>\n",
       "    </tr>\n",
       "    <tr>\n",
       "      <th>8</th>\n",
       "      <td>Back to the Future</td>\n",
       "      <td>1985</td>\n",
       "      <td>19000000</td>\n",
       "      <td>8.6</td>\n",
       "    </tr>\n",
       "    <tr>\n",
       "      <th>9</th>\n",
       "      <td>Inception</td>\n",
       "      <td>2010</td>\n",
       "      <td>160000000</td>\n",
       "      <td>8.7</td>\n",
       "    </tr>\n",
       "  </tbody>\n",
       "</table>\n",
       "</div>"
      ],
      "text/plain": [
       "                                   name  year       cash  rate\n",
       "0                                 Dogma  1999   10000000   7.7\n",
       "1                            Home Alone  1990   18000000   8.3\n",
       "2                                 Drive  2011   15000000   7.3\n",
       "3                                Snatch  2000   10000000   8.5\n",
       "4                                Clerks  1994      27000   7.7\n",
       "5  Harry Potter and the Sorcerers Stone  2001  125000000   8.7\n",
       "6                           Baby Driver  2017   34000000   7.2\n",
       "7                            Demolition  2015   10000000   7.2\n",
       "8                    Back to the Future  1985   19000000   8.6\n",
       "9                             Inception  2010  160000000   8.7"
      ]
     },
     "execution_count": 25,
     "metadata": {},
     "output_type": "execute_result"
    }
   ],
   "source": [
    "films_df"
   ]
  },
  {
   "cell_type": "code",
   "execution_count": 26,
   "id": "026c30e7-253c-402c-b951-7b5113c9aebf",
   "metadata": {},
   "outputs": [
    {
     "data": {
      "text/html": [
       "<div>\n",
       "<style scoped>\n",
       "    .dataframe tbody tr th:only-of-type {\n",
       "        vertical-align: middle;\n",
       "    }\n",
       "\n",
       "    .dataframe tbody tr th {\n",
       "        vertical-align: top;\n",
       "    }\n",
       "\n",
       "    .dataframe thead th {\n",
       "        text-align: right;\n",
       "    }\n",
       "</style>\n",
       "<table border=\"1\" class=\"dataframe\">\n",
       "  <thead>\n",
       "    <tr style=\"text-align: right;\">\n",
       "      <th></th>\n",
       "      <th>name</th>\n",
       "      <th>year</th>\n",
       "      <th>cash</th>\n",
       "      <th>rate</th>\n",
       "    </tr>\n",
       "  </thead>\n",
       "  <tbody>\n",
       "    <tr>\n",
       "      <th>8</th>\n",
       "      <td>Back to the Future</td>\n",
       "      <td>1985</td>\n",
       "      <td>19000000</td>\n",
       "      <td>8.6</td>\n",
       "    </tr>\n",
       "    <tr>\n",
       "      <th>1</th>\n",
       "      <td>Home Alone</td>\n",
       "      <td>1990</td>\n",
       "      <td>18000000</td>\n",
       "      <td>8.3</td>\n",
       "    </tr>\n",
       "    <tr>\n",
       "      <th>4</th>\n",
       "      <td>Clerks</td>\n",
       "      <td>1994</td>\n",
       "      <td>27000</td>\n",
       "      <td>7.7</td>\n",
       "    </tr>\n",
       "    <tr>\n",
       "      <th>0</th>\n",
       "      <td>Dogma</td>\n",
       "      <td>1999</td>\n",
       "      <td>10000000</td>\n",
       "      <td>7.7</td>\n",
       "    </tr>\n",
       "    <tr>\n",
       "      <th>3</th>\n",
       "      <td>Snatch</td>\n",
       "      <td>2000</td>\n",
       "      <td>10000000</td>\n",
       "      <td>8.5</td>\n",
       "    </tr>\n",
       "    <tr>\n",
       "      <th>5</th>\n",
       "      <td>Harry Potter and the Sorcerers Stone</td>\n",
       "      <td>2001</td>\n",
       "      <td>125000000</td>\n",
       "      <td>8.7</td>\n",
       "    </tr>\n",
       "    <tr>\n",
       "      <th>9</th>\n",
       "      <td>Inception</td>\n",
       "      <td>2010</td>\n",
       "      <td>160000000</td>\n",
       "      <td>8.7</td>\n",
       "    </tr>\n",
       "    <tr>\n",
       "      <th>2</th>\n",
       "      <td>Drive</td>\n",
       "      <td>2011</td>\n",
       "      <td>15000000</td>\n",
       "      <td>7.3</td>\n",
       "    </tr>\n",
       "    <tr>\n",
       "      <th>7</th>\n",
       "      <td>Demolition</td>\n",
       "      <td>2015</td>\n",
       "      <td>10000000</td>\n",
       "      <td>7.2</td>\n",
       "    </tr>\n",
       "    <tr>\n",
       "      <th>6</th>\n",
       "      <td>Baby Driver</td>\n",
       "      <td>2017</td>\n",
       "      <td>34000000</td>\n",
       "      <td>7.2</td>\n",
       "    </tr>\n",
       "  </tbody>\n",
       "</table>\n",
       "</div>"
      ],
      "text/plain": [
       "                                   name  year       cash  rate\n",
       "8                    Back to the Future  1985   19000000   8.6\n",
       "1                            Home Alone  1990   18000000   8.3\n",
       "4                                Clerks  1994      27000   7.7\n",
       "0                                 Dogma  1999   10000000   7.7\n",
       "3                                Snatch  2000   10000000   8.5\n",
       "5  Harry Potter and the Sorcerers Stone  2001  125000000   8.7\n",
       "9                             Inception  2010  160000000   8.7\n",
       "2                                 Drive  2011   15000000   7.3\n",
       "7                            Demolition  2015   10000000   7.2\n",
       "6                           Baby Driver  2017   34000000   7.2"
      ]
     },
     "execution_count": 26,
     "metadata": {},
     "output_type": "execute_result"
    }
   ],
   "source": [
    "films_df = films_df.sort_values(\"year\")\n",
    "films_df"
   ]
  },
  {
   "cell_type": "code",
   "execution_count": 27,
   "id": "40197c7c-84fa-40bc-b36f-84b23f71d5c0",
   "metadata": {},
   "outputs": [
    {
     "data": {
      "text/html": [
       "<div>\n",
       "<style scoped>\n",
       "    .dataframe tbody tr th:only-of-type {\n",
       "        vertical-align: middle;\n",
       "    }\n",
       "\n",
       "    .dataframe tbody tr th {\n",
       "        vertical-align: top;\n",
       "    }\n",
       "\n",
       "    .dataframe thead th {\n",
       "        text-align: right;\n",
       "    }\n",
       "</style>\n",
       "<table border=\"1\" class=\"dataframe\">\n",
       "  <thead>\n",
       "    <tr style=\"text-align: right;\">\n",
       "      <th></th>\n",
       "      <th>name</th>\n",
       "      <th>year</th>\n",
       "      <th>cash</th>\n",
       "      <th>rate</th>\n",
       "    </tr>\n",
       "  </thead>\n",
       "  <tbody>\n",
       "    <tr>\n",
       "      <th>9</th>\n",
       "      <td>Inception</td>\n",
       "      <td>2010</td>\n",
       "      <td>160000000</td>\n",
       "      <td>8.7</td>\n",
       "    </tr>\n",
       "    <tr>\n",
       "      <th>5</th>\n",
       "      <td>Harry Potter and the Sorcerers Stone</td>\n",
       "      <td>2001</td>\n",
       "      <td>125000000</td>\n",
       "      <td>8.7</td>\n",
       "    </tr>\n",
       "    <tr>\n",
       "      <th>6</th>\n",
       "      <td>Baby Driver</td>\n",
       "      <td>2017</td>\n",
       "      <td>34000000</td>\n",
       "      <td>7.2</td>\n",
       "    </tr>\n",
       "    <tr>\n",
       "      <th>8</th>\n",
       "      <td>Back to the Future</td>\n",
       "      <td>1985</td>\n",
       "      <td>19000000</td>\n",
       "      <td>8.6</td>\n",
       "    </tr>\n",
       "    <tr>\n",
       "      <th>1</th>\n",
       "      <td>Home Alone</td>\n",
       "      <td>1990</td>\n",
       "      <td>18000000</td>\n",
       "      <td>8.3</td>\n",
       "    </tr>\n",
       "    <tr>\n",
       "      <th>2</th>\n",
       "      <td>Drive</td>\n",
       "      <td>2011</td>\n",
       "      <td>15000000</td>\n",
       "      <td>7.3</td>\n",
       "    </tr>\n",
       "    <tr>\n",
       "      <th>0</th>\n",
       "      <td>Dogma</td>\n",
       "      <td>1999</td>\n",
       "      <td>10000000</td>\n",
       "      <td>7.7</td>\n",
       "    </tr>\n",
       "    <tr>\n",
       "      <th>3</th>\n",
       "      <td>Snatch</td>\n",
       "      <td>2000</td>\n",
       "      <td>10000000</td>\n",
       "      <td>8.5</td>\n",
       "    </tr>\n",
       "    <tr>\n",
       "      <th>7</th>\n",
       "      <td>Demolition</td>\n",
       "      <td>2015</td>\n",
       "      <td>10000000</td>\n",
       "      <td>7.2</td>\n",
       "    </tr>\n",
       "    <tr>\n",
       "      <th>4</th>\n",
       "      <td>Clerks</td>\n",
       "      <td>1994</td>\n",
       "      <td>27000</td>\n",
       "      <td>7.7</td>\n",
       "    </tr>\n",
       "  </tbody>\n",
       "</table>\n",
       "</div>"
      ],
      "text/plain": [
       "                                   name  year       cash  rate\n",
       "9                             Inception  2010  160000000   8.7\n",
       "5  Harry Potter and the Sorcerers Stone  2001  125000000   8.7\n",
       "6                           Baby Driver  2017   34000000   7.2\n",
       "8                    Back to the Future  1985   19000000   8.6\n",
       "1                            Home Alone  1990   18000000   8.3\n",
       "2                                 Drive  2011   15000000   7.3\n",
       "0                                 Dogma  1999   10000000   7.7\n",
       "3                                Snatch  2000   10000000   8.5\n",
       "7                            Demolition  2015   10000000   7.2\n",
       "4                                Clerks  1994      27000   7.7"
      ]
     },
     "execution_count": 27,
     "metadata": {},
     "output_type": "execute_result"
    }
   ],
   "source": [
    "films_df = films_df.sort_values(\"cash\", ascending=False)\n",
    "films_df"
   ]
  },
  {
   "cell_type": "markdown",
   "id": "bfd81158",
   "metadata": {},
   "source": [
    "### **2. Вывести самый дорогой фильм**"
   ]
  },
  {
   "cell_type": "code",
   "execution_count": 43,
   "id": "0844d9f8",
   "metadata": {},
   "outputs": [
    {
     "name": "stdout",
     "output_type": "stream",
     "text": [
      "Name: Inception, Year: 2010, Cash: 160000000\n"
     ]
    }
   ],
   "source": [
    "most_expensive_film = films_df.iloc[0]\n",
    "print(f\"Name: {most_expensive_film['name']}, Year: {most_expensive_film['year']}, Cash: {most_expensive_film['cash']}\")\n"
   ]
  },
  {
   "cell_type": "markdown",
   "id": "fa07b18d",
   "metadata": {},
   "source": [
    "### **3. Вывести фильмы, чей рейтинг больше 8.5**"
   ]
  },
  {
   "cell_type": "code",
   "execution_count": 42,
   "id": "211bbd02",
   "metadata": {},
   "outputs": [
    {
     "name": "stdout",
     "output_type": "stream",
     "text": [
      "- Inception\n",
      "- Harry Potter and the Sorcerers Stone\n",
      "- Back to the Future\n"
     ]
    }
   ],
   "source": [
    "for i in range(films_df.shape[0]):\n",
    "    if films_df.iloc[i]['rate'] > 8.5:\n",
    "        print(f\"- {films_df.iloc[i]['name']}\")"
   ]
  },
  {
   "cell_type": "markdown",
   "id": "43577434",
   "metadata": {},
   "source": [
    "### **4. Вывести названия фильмов, чей бюджет больше среднего бюджета среди всех фильмов**"
   ]
  },
  {
   "cell_type": "code",
   "execution_count": 44,
   "id": "8abaace9",
   "metadata": {},
   "outputs": [
    {
     "data": {
      "text/plain": [
       "40102700.0"
      ]
     },
     "execution_count": 44,
     "metadata": {},
     "output_type": "execute_result"
    }
   ],
   "source": [
    "mean_cash = np.mean(films_df.loc[:, \"cash\"])\n",
    "mean_cash "
   ]
  },
  {
   "cell_type": "code",
   "execution_count": 46,
   "id": "61019b0d",
   "metadata": {},
   "outputs": [
    {
     "name": "stdout",
     "output_type": "stream",
     "text": [
      "- Inception\n",
      "- Harry Potter and the Sorcerers Stone\n"
     ]
    }
   ],
   "source": [
    "for i in range(films_df.shape[0]):\n",
    "    if films_df.iloc[i]['cash'] > mean_cash:\n",
    "        print(f\"- {films_df.iloc[i]['name']}\")"
   ]
  },
  {
   "cell_type": "code",
   "execution_count": null,
   "id": "5ec81760",
   "metadata": {},
   "outputs": [],
   "source": []
  },
  {
   "cell_type": "code",
   "execution_count": null,
   "id": "e8e23570",
   "metadata": {},
   "outputs": [],
   "source": []
  }
 ],
 "metadata": {
  "kernelspec": {
   "display_name": "Python 3 (ipykernel)",
   "language": "python",
   "name": "python3"
  },
  "language_info": {
   "codemirror_mode": {
    "name": "ipython",
    "version": 3
   },
   "file_extension": ".py",
   "mimetype": "text/x-python",
   "name": "python",
   "nbconvert_exporter": "python",
   "pygments_lexer": "ipython3",
   "version": "3.10.11"
  }
 },
 "nbformat": 4,
 "nbformat_minor": 5
}
