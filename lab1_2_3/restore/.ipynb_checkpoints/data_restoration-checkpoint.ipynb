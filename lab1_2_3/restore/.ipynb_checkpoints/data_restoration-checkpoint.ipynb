{
 "cells": [
  {
   "cell_type": "markdown",
   "id": "32b24086-a208-4756-b403-4363495f9de9",
   "metadata": {},
   "source": [
    "# **Очистка датасета**"
   ]
  },
  {
   "cell_type": "markdown",
   "id": "cda8ac85-3a83-491c-a004-2c54f0a954b2",
   "metadata": {},
   "source": [
    "### **Импорты**"
   ]
  },
  {
   "cell_type": "code",
   "execution_count": 1,
   "id": "393540a6-9c9e-4516-89cd-76248933d800",
   "metadata": {},
   "outputs": [],
   "source": [
    "import numpy as np\n",
    "import pandas as pd\n",
    "import matplotlib.pyplot as plt\n",
    "from datetime import datetime, timedelta "
   ]
  },
  {
   "cell_type": "markdown",
   "id": "c57f9e5f-1d3a-4b3f-b5cd-c4a313736171",
   "metadata": {},
   "source": [
    "### **Подгрузка данных**"
   ]
  },
  {
   "cell_type": "code",
   "execution_count": 2,
   "id": "d3d8a3b1-005e-4b00-81a1-18f37283383d",
   "metadata": {},
   "outputs": [],
   "source": [
    "weather_df = pd.read_csv(\"weather.csv\")"
   ]
  },
  {
   "cell_type": "markdown",
   "id": "c50266ef-2179-4bea-ab08-bc5417d05ca9",
   "metadata": {},
   "source": [
    "### **Характеристика данных**"
   ]
  },
  {
   "cell_type": "code",
   "execution_count": 3,
   "id": "24873b8b-6adf-4825-b1c8-c0780c3bc2fd",
   "metadata": {},
   "outputs": [
    {
     "data": {
      "text/html": [
       "<div>\n",
       "<style scoped>\n",
       "    .dataframe tbody tr th:only-of-type {\n",
       "        vertical-align: middle;\n",
       "    }\n",
       "\n",
       "    .dataframe tbody tr th {\n",
       "        vertical-align: top;\n",
       "    }\n",
       "\n",
       "    .dataframe thead th {\n",
       "        text-align: right;\n",
       "    }\n",
       "</style>\n",
       "<table border=\"1\" class=\"dataframe\">\n",
       "  <thead>\n",
       "    <tr style=\"text-align: right;\">\n",
       "      <th></th>\n",
       "      <th>date</th>\n",
       "      <th>temperature</th>\n",
       "      <th>pressure</th>\n",
       "      <th>humidity</th>\n",
       "      <th>sunshine</th>\n",
       "    </tr>\n",
       "  </thead>\n",
       "  <tbody>\n",
       "    <tr>\n",
       "      <th>0</th>\n",
       "      <td>2022-01-01 00:30:00</td>\n",
       "      <td>-21.8</td>\n",
       "      <td>765.5</td>\n",
       "      <td>83.0</td>\n",
       "      <td>7.07</td>\n",
       "    </tr>\n",
       "    <tr>\n",
       "      <th>1</th>\n",
       "      <td>2022-01-01 01:00:00</td>\n",
       "      <td>-21.8</td>\n",
       "      <td>765.5</td>\n",
       "      <td>83.0</td>\n",
       "      <td>7.07</td>\n",
       "    </tr>\n",
       "    <tr>\n",
       "      <th>2</th>\n",
       "      <td>2022-01-01 01:30:00</td>\n",
       "      <td>-21.9</td>\n",
       "      <td>765.6</td>\n",
       "      <td>84.0</td>\n",
       "      <td>7.07</td>\n",
       "    </tr>\n",
       "  </tbody>\n",
       "</table>\n",
       "</div>"
      ],
      "text/plain": [
       "                  date  temperature  pressure  humidity  sunshine\n",
       "0  2022-01-01 00:30:00        -21.8     765.5      83.0      7.07\n",
       "1  2022-01-01 01:00:00        -21.8     765.5      83.0      7.07\n",
       "2  2022-01-01 01:30:00        -21.9     765.6      84.0      7.07"
      ]
     },
     "execution_count": 3,
     "metadata": {},
     "output_type": "execute_result"
    }
   ],
   "source": [
    "weather_df.head(3)"
   ]
  },
  {
   "cell_type": "code",
   "execution_count": 4,
   "id": "0e5674bd-eaf2-4cb9-a2bd-ccb90bc3615f",
   "metadata": {},
   "outputs": [
    {
     "data": {
      "text/html": [
       "<div>\n",
       "<style scoped>\n",
       "    .dataframe tbody tr th:only-of-type {\n",
       "        vertical-align: middle;\n",
       "    }\n",
       "\n",
       "    .dataframe tbody tr th {\n",
       "        vertical-align: top;\n",
       "    }\n",
       "\n",
       "    .dataframe thead th {\n",
       "        text-align: right;\n",
       "    }\n",
       "</style>\n",
       "<table border=\"1\" class=\"dataframe\">\n",
       "  <thead>\n",
       "    <tr style=\"text-align: right;\">\n",
       "      <th></th>\n",
       "      <th>date</th>\n",
       "      <th>temperature</th>\n",
       "      <th>pressure</th>\n",
       "      <th>humidity</th>\n",
       "      <th>sunshine</th>\n",
       "    </tr>\n",
       "  </thead>\n",
       "  <tbody>\n",
       "    <tr>\n",
       "      <th>17513</th>\n",
       "      <td>2022-12-31 21:00:00</td>\n",
       "      <td>-22.1</td>\n",
       "      <td>NaN</td>\n",
       "      <td>84.0</td>\n",
       "      <td>7.07</td>\n",
       "    </tr>\n",
       "    <tr>\n",
       "      <th>17514</th>\n",
       "      <td>2022-12-31 21:30:00</td>\n",
       "      <td>-22.1</td>\n",
       "      <td>NaN</td>\n",
       "      <td>84.0</td>\n",
       "      <td>7.07</td>\n",
       "    </tr>\n",
       "    <tr>\n",
       "      <th>17515</th>\n",
       "      <td>2022-12-31 22:00:00</td>\n",
       "      <td>-22.2</td>\n",
       "      <td>NaN</td>\n",
       "      <td>84.0</td>\n",
       "      <td>7.07</td>\n",
       "    </tr>\n",
       "    <tr>\n",
       "      <th>17516</th>\n",
       "      <td>2022-12-31 22:30:00</td>\n",
       "      <td>-22.5</td>\n",
       "      <td>NaN</td>\n",
       "      <td>84.0</td>\n",
       "      <td>7.07</td>\n",
       "    </tr>\n",
       "    <tr>\n",
       "      <th>17517</th>\n",
       "      <td>2022-12-31 23:00:00</td>\n",
       "      <td>-22.5</td>\n",
       "      <td>NaN</td>\n",
       "      <td>84.0</td>\n",
       "      <td>7.07</td>\n",
       "    </tr>\n",
       "    <tr>\n",
       "      <th>17518</th>\n",
       "      <td>2022-12-31 23:30:00</td>\n",
       "      <td>-22.7</td>\n",
       "      <td>NaN</td>\n",
       "      <td>84.0</td>\n",
       "      <td>7.07</td>\n",
       "    </tr>\n",
       "  </tbody>\n",
       "</table>\n",
       "</div>"
      ],
      "text/plain": [
       "                      date  temperature  pressure  humidity  sunshine\n",
       "17513  2022-12-31 21:00:00        -22.1       NaN      84.0      7.07\n",
       "17514  2022-12-31 21:30:00        -22.1       NaN      84.0      7.07\n",
       "17515  2022-12-31 22:00:00        -22.2       NaN      84.0      7.07\n",
       "17516  2022-12-31 22:30:00        -22.5       NaN      84.0      7.07\n",
       "17517  2022-12-31 23:00:00        -22.5       NaN      84.0      7.07\n",
       "17518  2022-12-31 23:30:00        -22.7       NaN      84.0      7.07"
      ]
     },
     "execution_count": 4,
     "metadata": {},
     "output_type": "execute_result"
    }
   ],
   "source": [
    "weather_df.tail(6)"
   ]
  },
  {
   "cell_type": "markdown",
   "id": "d61fd9fc-d6b6-44a0-beea-7faaf3188a16",
   "metadata": {},
   "source": [
    "**Удаление лишних строк**"
   ]
  },
  {
   "cell_type": "code",
   "execution_count": 5,
   "id": "e6e2f7ca-8bdb-4c61-adcd-91da19ac0089",
   "metadata": {},
   "outputs": [
    {
     "data": {
      "text/html": [
       "<div>\n",
       "<style scoped>\n",
       "    .dataframe tbody tr th:only-of-type {\n",
       "        vertical-align: middle;\n",
       "    }\n",
       "\n",
       "    .dataframe tbody tr th {\n",
       "        vertical-align: top;\n",
       "    }\n",
       "\n",
       "    .dataframe thead th {\n",
       "        text-align: right;\n",
       "    }\n",
       "</style>\n",
       "<table border=\"1\" class=\"dataframe\">\n",
       "  <thead>\n",
       "    <tr style=\"text-align: right;\">\n",
       "      <th></th>\n",
       "      <th>date</th>\n",
       "      <th>temperature</th>\n",
       "      <th>pressure</th>\n",
       "      <th>humidity</th>\n",
       "      <th>sunshine</th>\n",
       "    </tr>\n",
       "  </thead>\n",
       "  <tbody>\n",
       "    <tr>\n",
       "      <th>17513</th>\n",
       "      <td>2022-12-31 21:00:00</td>\n",
       "      <td>-22.1</td>\n",
       "      <td>NaN</td>\n",
       "      <td>84.0</td>\n",
       "      <td>7.07</td>\n",
       "    </tr>\n",
       "    <tr>\n",
       "      <th>17514</th>\n",
       "      <td>2022-12-31 21:30:00</td>\n",
       "      <td>-22.1</td>\n",
       "      <td>NaN</td>\n",
       "      <td>84.0</td>\n",
       "      <td>7.07</td>\n",
       "    </tr>\n",
       "    <tr>\n",
       "      <th>17515</th>\n",
       "      <td>2022-12-31 22:00:00</td>\n",
       "      <td>-22.2</td>\n",
       "      <td>NaN</td>\n",
       "      <td>84.0</td>\n",
       "      <td>7.07</td>\n",
       "    </tr>\n",
       "    <tr>\n",
       "      <th>17516</th>\n",
       "      <td>2022-12-31 22:30:00</td>\n",
       "      <td>-22.5</td>\n",
       "      <td>NaN</td>\n",
       "      <td>84.0</td>\n",
       "      <td>7.07</td>\n",
       "    </tr>\n",
       "    <tr>\n",
       "      <th>17517</th>\n",
       "      <td>2022-12-31 23:00:00</td>\n",
       "      <td>-22.5</td>\n",
       "      <td>NaN</td>\n",
       "      <td>84.0</td>\n",
       "      <td>7.07</td>\n",
       "    </tr>\n",
       "    <tr>\n",
       "      <th>17518</th>\n",
       "      <td>2022-12-31 23:30:00</td>\n",
       "      <td>-22.7</td>\n",
       "      <td>NaN</td>\n",
       "      <td>84.0</td>\n",
       "      <td>7.07</td>\n",
       "    </tr>\n",
       "  </tbody>\n",
       "</table>\n",
       "</div>"
      ],
      "text/plain": [
       "                      date  temperature  pressure  humidity  sunshine\n",
       "17513  2022-12-31 21:00:00        -22.1       NaN      84.0      7.07\n",
       "17514  2022-12-31 21:30:00        -22.1       NaN      84.0      7.07\n",
       "17515  2022-12-31 22:00:00        -22.2       NaN      84.0      7.07\n",
       "17516  2022-12-31 22:30:00        -22.5       NaN      84.0      7.07\n",
       "17517  2022-12-31 23:00:00        -22.5       NaN      84.0      7.07\n",
       "17518  2022-12-31 23:30:00        -22.7       NaN      84.0      7.07"
      ]
     },
     "execution_count": 5,
     "metadata": {},
     "output_type": "execute_result"
    }
   ],
   "source": [
    "# weather_df = weather_df.drop(labels=range(17520, 17524), axis=0)\n",
    "weather_df.tail(6)"
   ]
  },
  {
   "cell_type": "code",
   "execution_count": 6,
   "id": "c9aaac63-5851-4133-bcdf-f59376ba9bf4",
   "metadata": {},
   "outputs": [
    {
     "data": {
      "text/html": [
       "<div>\n",
       "<style scoped>\n",
       "    .dataframe tbody tr th:only-of-type {\n",
       "        vertical-align: middle;\n",
       "    }\n",
       "\n",
       "    .dataframe tbody tr th {\n",
       "        vertical-align: top;\n",
       "    }\n",
       "\n",
       "    .dataframe thead th {\n",
       "        text-align: right;\n",
       "    }\n",
       "</style>\n",
       "<table border=\"1\" class=\"dataframe\">\n",
       "  <thead>\n",
       "    <tr style=\"text-align: right;\">\n",
       "      <th></th>\n",
       "      <th>temperature</th>\n",
       "      <th>pressure</th>\n",
       "      <th>humidity</th>\n",
       "      <th>sunshine</th>\n",
       "    </tr>\n",
       "  </thead>\n",
       "  <tbody>\n",
       "    <tr>\n",
       "      <th>count</th>\n",
       "      <td>16010.000000</td>\n",
       "      <td>16955.000000</td>\n",
       "      <td>16101.000000</td>\n",
       "      <td>17519.000000</td>\n",
       "    </tr>\n",
       "    <tr>\n",
       "      <th>mean</th>\n",
       "      <td>-2.007096</td>\n",
       "      <td>760.236626</td>\n",
       "      <td>128.162350</td>\n",
       "      <td>12.236103</td>\n",
       "    </tr>\n",
       "    <tr>\n",
       "      <th>std</th>\n",
       "      <td>14.513902</td>\n",
       "      <td>5.840516</td>\n",
       "      <td>271.157484</td>\n",
       "      <td>3.717430</td>\n",
       "    </tr>\n",
       "    <tr>\n",
       "      <th>min</th>\n",
       "      <td>-72.300000</td>\n",
       "      <td>753.900000</td>\n",
       "      <td>59.000000</td>\n",
       "      <td>7.000000</td>\n",
       "    </tr>\n",
       "    <tr>\n",
       "      <th>25%</th>\n",
       "      <td>-16.100000</td>\n",
       "      <td>756.300000</td>\n",
       "      <td>64.000000</td>\n",
       "      <td>8.540000</td>\n",
       "    </tr>\n",
       "    <tr>\n",
       "      <th>50%</th>\n",
       "      <td>-2.100000</td>\n",
       "      <td>760.200000</td>\n",
       "      <td>73.000000</td>\n",
       "      <td>12.210000</td>\n",
       "    </tr>\n",
       "    <tr>\n",
       "      <th>75%</th>\n",
       "      <td>12.000000</td>\n",
       "      <td>764.000000</td>\n",
       "      <td>81.000000</td>\n",
       "      <td>15.960000</td>\n",
       "    </tr>\n",
       "    <tr>\n",
       "      <th>max</th>\n",
       "      <td>117.900000</td>\n",
       "      <td>1000.000000</td>\n",
       "      <td>1680.000000</td>\n",
       "      <td>17.500000</td>\n",
       "    </tr>\n",
       "  </tbody>\n",
       "</table>\n",
       "</div>"
      ],
      "text/plain": [
       "        temperature      pressure      humidity      sunshine\n",
       "count  16010.000000  16955.000000  16101.000000  17519.000000\n",
       "mean      -2.007096    760.236626    128.162350     12.236103\n",
       "std       14.513902      5.840516    271.157484      3.717430\n",
       "min      -72.300000    753.900000     59.000000      7.000000\n",
       "25%      -16.100000    756.300000     64.000000      8.540000\n",
       "50%       -2.100000    760.200000     73.000000     12.210000\n",
       "75%       12.000000    764.000000     81.000000     15.960000\n",
       "max      117.900000   1000.000000   1680.000000     17.500000"
      ]
     },
     "execution_count": 6,
     "metadata": {},
     "output_type": "execute_result"
    }
   ],
   "source": [
    "weather_df.describe()"
   ]
  },
  {
   "cell_type": "code",
   "execution_count": 7,
   "id": "5b5a561f-4f75-4935-a1e2-d3d8212061ff",
   "metadata": {},
   "outputs": [
    {
     "data": {
      "text/html": [
       "<div>\n",
       "<style scoped>\n",
       "    .dataframe tbody tr th:only-of-type {\n",
       "        vertical-align: middle;\n",
       "    }\n",
       "\n",
       "    .dataframe tbody tr th {\n",
       "        vertical-align: top;\n",
       "    }\n",
       "\n",
       "    .dataframe thead th {\n",
       "        text-align: right;\n",
       "    }\n",
       "</style>\n",
       "<table border=\"1\" class=\"dataframe\">\n",
       "  <thead>\n",
       "    <tr style=\"text-align: right;\">\n",
       "      <th></th>\n",
       "      <th>date</th>\n",
       "      <th>temperature</th>\n",
       "      <th>pressure</th>\n",
       "      <th>humidity</th>\n",
       "      <th>sunshine</th>\n",
       "    </tr>\n",
       "  </thead>\n",
       "  <tbody>\n",
       "    <tr>\n",
       "      <th>count</th>\n",
       "      <td>17519</td>\n",
       "      <td>16010.000000</td>\n",
       "      <td>16955.000000</td>\n",
       "      <td>16101.000000</td>\n",
       "      <td>17519.000000</td>\n",
       "    </tr>\n",
       "    <tr>\n",
       "      <th>unique</th>\n",
       "      <td>17519</td>\n",
       "      <td>NaN</td>\n",
       "      <td>NaN</td>\n",
       "      <td>NaN</td>\n",
       "      <td>NaN</td>\n",
       "    </tr>\n",
       "    <tr>\n",
       "      <th>top</th>\n",
       "      <td>2022-01-01 00:30:00</td>\n",
       "      <td>NaN</td>\n",
       "      <td>NaN</td>\n",
       "      <td>NaN</td>\n",
       "      <td>NaN</td>\n",
       "    </tr>\n",
       "    <tr>\n",
       "      <th>freq</th>\n",
       "      <td>1</td>\n",
       "      <td>NaN</td>\n",
       "      <td>NaN</td>\n",
       "      <td>NaN</td>\n",
       "      <td>NaN</td>\n",
       "    </tr>\n",
       "    <tr>\n",
       "      <th>mean</th>\n",
       "      <td>NaN</td>\n",
       "      <td>-2.007096</td>\n",
       "      <td>760.236626</td>\n",
       "      <td>128.162350</td>\n",
       "      <td>12.236103</td>\n",
       "    </tr>\n",
       "    <tr>\n",
       "      <th>std</th>\n",
       "      <td>NaN</td>\n",
       "      <td>14.513902</td>\n",
       "      <td>5.840516</td>\n",
       "      <td>271.157484</td>\n",
       "      <td>3.717430</td>\n",
       "    </tr>\n",
       "    <tr>\n",
       "      <th>min</th>\n",
       "      <td>NaN</td>\n",
       "      <td>-72.300000</td>\n",
       "      <td>753.900000</td>\n",
       "      <td>59.000000</td>\n",
       "      <td>7.000000</td>\n",
       "    </tr>\n",
       "    <tr>\n",
       "      <th>25%</th>\n",
       "      <td>NaN</td>\n",
       "      <td>-16.100000</td>\n",
       "      <td>756.300000</td>\n",
       "      <td>64.000000</td>\n",
       "      <td>8.540000</td>\n",
       "    </tr>\n",
       "    <tr>\n",
       "      <th>50%</th>\n",
       "      <td>NaN</td>\n",
       "      <td>-2.100000</td>\n",
       "      <td>760.200000</td>\n",
       "      <td>73.000000</td>\n",
       "      <td>12.210000</td>\n",
       "    </tr>\n",
       "    <tr>\n",
       "      <th>75%</th>\n",
       "      <td>NaN</td>\n",
       "      <td>12.000000</td>\n",
       "      <td>764.000000</td>\n",
       "      <td>81.000000</td>\n",
       "      <td>15.960000</td>\n",
       "    </tr>\n",
       "    <tr>\n",
       "      <th>max</th>\n",
       "      <td>NaN</td>\n",
       "      <td>117.900000</td>\n",
       "      <td>1000.000000</td>\n",
       "      <td>1680.000000</td>\n",
       "      <td>17.500000</td>\n",
       "    </tr>\n",
       "  </tbody>\n",
       "</table>\n",
       "</div>"
      ],
      "text/plain": [
       "                       date   temperature      pressure      humidity  \\\n",
       "count                 17519  16010.000000  16955.000000  16101.000000   \n",
       "unique                17519           NaN           NaN           NaN   \n",
       "top     2022-01-01 00:30:00           NaN           NaN           NaN   \n",
       "freq                      1           NaN           NaN           NaN   \n",
       "mean                    NaN     -2.007096    760.236626    128.162350   \n",
       "std                     NaN     14.513902      5.840516    271.157484   \n",
       "min                     NaN    -72.300000    753.900000     59.000000   \n",
       "25%                     NaN    -16.100000    756.300000     64.000000   \n",
       "50%                     NaN     -2.100000    760.200000     73.000000   \n",
       "75%                     NaN     12.000000    764.000000     81.000000   \n",
       "max                     NaN    117.900000   1000.000000   1680.000000   \n",
       "\n",
       "            sunshine  \n",
       "count   17519.000000  \n",
       "unique           NaN  \n",
       "top              NaN  \n",
       "freq             NaN  \n",
       "mean       12.236103  \n",
       "std         3.717430  \n",
       "min         7.000000  \n",
       "25%         8.540000  \n",
       "50%        12.210000  \n",
       "75%        15.960000  \n",
       "max        17.500000  "
      ]
     },
     "execution_count": 7,
     "metadata": {},
     "output_type": "execute_result"
    }
   ],
   "source": [
    "weather_df.describe(include = \"all\")"
   ]
  },
  {
   "cell_type": "code",
   "execution_count": 8,
   "id": "5facd820-a0d9-4f7d-ba8d-4bd6e1549a07",
   "metadata": {},
   "outputs": [
    {
     "name": "stdout",
     "output_type": "stream",
     "text": [
      "<class 'pandas.core.frame.DataFrame'>\n",
      "RangeIndex: 17519 entries, 0 to 17518\n",
      "Data columns (total 5 columns):\n",
      " #   Column       Non-Null Count  Dtype  \n",
      "---  ------       --------------  -----  \n",
      " 0   date         17519 non-null  object \n",
      " 1   temperature  16010 non-null  float64\n",
      " 2   pressure     16955 non-null  float64\n",
      " 3   humidity     16101 non-null  float64\n",
      " 4   sunshine     17519 non-null  float64\n",
      "dtypes: float64(4), object(1)\n",
      "memory usage: 684.5+ KB\n"
     ]
    }
   ],
   "source": [
    "weather_df.info()"
   ]
  },
  {
   "cell_type": "code",
   "execution_count": 9,
   "id": "c8ca8ea8-09f8-4ad6-bff9-378c84432b2d",
   "metadata": {},
   "outputs": [
    {
     "data": {
      "text/plain": [
       "date              0\n",
       "temperature    1509\n",
       "pressure        564\n",
       "humidity       1418\n",
       "sunshine          0\n",
       "dtype: int64"
      ]
     },
     "execution_count": 9,
     "metadata": {},
     "output_type": "execute_result"
    }
   ],
   "source": [
    "weather_df.isnull().sum()"
   ]
  },
  {
   "cell_type": "markdown",
   "id": "ea0871f7-1caa-452f-bf5e-cfc55017cc09",
   "metadata": {},
   "source": [
    "### **Очистка**"
   ]
  },
  {
   "cell_type": "code",
   "execution_count": 22,
   "id": "4fe047c8-6616-4608-b180-a7d113848ef2",
   "metadata": {},
   "outputs": [],
   "source": [
    "y_date = weather_df.date.to_numpy()\n",
    "y_temperature = weather_df.temperature.to_numpy()\n",
    "y_pressure = weather_df.pressure.to_numpy()\n",
    "y_humidity = weather_df.humidity.to_numpy()\n",
    "y_sunshine = weather_df.sunshine.to_numpy()"
   ]
  },
  {
   "cell_type": "code",
   "execution_count": 23,
   "id": "e268f487-7886-4e8c-aa0e-95e97165d563",
   "metadata": {},
   "outputs": [
    {
     "data": {
      "text/plain": [
       "[<matplotlib.lines.Line2D at 0x7fa3bd761a50>]"
      ]
     },
     "execution_count": 23,
     "metadata": {},
     "output_type": "execute_result"
    },
    {
     "data": {
      "image/png": "[encoded data removed]",
      "text/plain": [
       "<Figure size 1000x800 with 4 Axes>"
      ]
     },
     "metadata": {},
     "output_type": "display_data"
    }
   ],
   "source": [
    "fig = plt.figure(figsize=(10, 8), dpi=100);\n",
    "ax = fig.add_subplot(2, 2, 1)\n",
    "ax.set_title(\"Температура\")\n",
    "ax.plot(y_temperature)\n",
    "ax = fig.add_subplot(2, 2, 2)\n",
    "ax.set_title(\"Давление\")\n",
    "ax.plot(y_pressure)\n",
    "ax = fig.add_subplot(2, 2, 3)\n",
    "ax.set_title(\"Влажность\")\n",
    "ax.plot(y_humidity)\n",
    "ax = fig.add_subplot(2, 2, 4)\n",
    "ax.set_title(\"Освещенность\")\n",
    "ax.plot(y_sunshine)"
   ]
  },
  {
   "cell_type": "code",
   "execution_count": 33,
   "id": "dbc17048-6325-490a-8744-ddae72a4e0e0",
   "metadata": {},
   "outputs": [],
   "source": [
    "def clear_data(y_array, sensitivity):\n",
    "    i = 0\n",
    "    s = 100\n",
    "    threshold = np.abs(y_array[0:3]).min() * sensitivity\n",
    "    while i < len(y_array):\n",
    "        if (i + s) >= len(y_array):\n",
    "            chunk = np.copy(y_array[i - s:i+1])\n",
    "        else:\n",
    "            chunk = np.copy(y_array[i:i + s+1])\n",
    "        delete_ind = []\n",
    "        for j in range(len(chunk)):\n",
    "            if (abs(chunk[j]) >= threshold) or pd.isnull(chunk[j]):\n",
    "                delete_ind.append(j)\n",
    "        chunk = np.delete(chunk, delete_ind)\n",
    "        mean_value = np.mean(chunk)\n",
    "        if (abs(y_array[i]) >= threshold) or pd.isnull(y_array[i]):\n",
    "            y_array[i] = mean_value\n",
    "        i += 1\n",
    "    return np.copy(y_array)"
   ]
  },
  {
   "cell_type": "code",
   "execution_count": 50,
   "id": "c0cf2a53-fbb8-40ce-8fc8-b6fb71e65852",
   "metadata": {},
   "outputs": [],
   "source": [
    "y_temperature_clear = clear_data(np.copy(y_temperature), 1.2)\n",
    "y_pressure_clear = clear_data(np.copy(y_pressure), 1.1)\n",
    "y_humidity_clear = clear_data(np.copy(y_humidity), 1.1)\n",
    "y_sunshine_clear = clear_data(np.copy(y_sunshine), 10)"
   ]
  },
  {
   "cell_type": "code",
   "execution_count": 51,
   "id": "473e8f5c-7756-4ea3-9565-5eefaf43ec56",
   "metadata": {},
   "outputs": [
    {
     "data": {
      "text/plain": [
       "[<matplotlib.lines.Line2D at 0x7fa3bcd370a0>]"
      ]
     },
     "execution_count": 51,
     "metadata": {},
     "output_type": "execute_result"
    },
    {
     "data": {
      "image/png": "[encoded data removed]",
      "text/plain": [
       "<Figure size 1000x800 with 4 Axes>"
      ]
     },
     "metadata": {},
     "output_type": "display_data"
    }
   ],
   "source": [
    "fig = plt.figure(figsize=(10, 8), dpi=100);\n",
    "ax = fig.add_subplot(2, 2, 1)\n",
    "ax.set_title(\"Температура\")\n",
    "ax.plot(y_temperature_clear)\n",
    "ax = fig.add_subplot(2, 2, 2)\n",
    "ax.set_title(\"Давление\")\n",
    "ax.plot(y_pressure_clear)\n",
    "ax = fig.add_subplot(2, 2, 3)\n",
    "ax.set_title(\"Влажность\")\n",
    "ax.plot(y_humidity_clear)\n",
    "ax = fig.add_subplot(2, 2, 4)\n",
    "ax.set_title(\"Освещенность\")\n",
    "ax.plot(y_sunshine_clear)"
   ]
  },
  {
   "cell_type": "markdown",
   "id": "554e531d-3512-4d25-a8b4-7035ae7f6284",
   "metadata": {},
   "source": [
    "### **Характеристики исправленных дынных**"
   ]
  },
  {
   "cell_type": "code",
   "execution_count": 52,
   "id": "65bc6a04-44a7-4a71-8632-642d8153dd15",
   "metadata": {},
   "outputs": [],
   "source": [
    "weather_df = pd.DataFrame({'date': y_datetime, \n",
    "                           'temperature': y_temperature_clear, \n",
    "                           'pressure': y_pressure_clear, \n",
    "                           'humidity': y_humidity_clear, \n",
    "                           'sunshine': y_sunshine_clear})"
   ]
  },
  {
   "cell_type": "code",
   "execution_count": 53,
   "id": "e9135e51-e18e-42f9-a72e-f56d29cd6b77",
   "metadata": {},
   "outputs": [
    {
     "data": {
      "text/html": [
       "<div>\n",
       "<style scoped>\n",
       "    .dataframe tbody tr th:only-of-type {\n",
       "        vertical-align: middle;\n",
       "    }\n",
       "\n",
       "    .dataframe tbody tr th {\n",
       "        vertical-align: top;\n",
       "    }\n",
       "\n",
       "    .dataframe thead th {\n",
       "        text-align: right;\n",
       "    }\n",
       "</style>\n",
       "<table border=\"1\" class=\"dataframe\">\n",
       "  <thead>\n",
       "    <tr style=\"text-align: right;\">\n",
       "      <th></th>\n",
       "      <th>date</th>\n",
       "      <th>temperature</th>\n",
       "      <th>pressure</th>\n",
       "      <th>humidity</th>\n",
       "      <th>sunshine</th>\n",
       "    </tr>\n",
       "  </thead>\n",
       "  <tbody>\n",
       "    <tr>\n",
       "      <th>count</th>\n",
       "      <td>17519</td>\n",
       "      <td>17519.000000</td>\n",
       "      <td>17519.000000</td>\n",
       "      <td>17519.000000</td>\n",
       "      <td>17519.000000</td>\n",
       "    </tr>\n",
       "    <tr>\n",
       "      <th>unique</th>\n",
       "      <td>17519</td>\n",
       "      <td>NaN</td>\n",
       "      <td>NaN</td>\n",
       "      <td>NaN</td>\n",
       "      <td>NaN</td>\n",
       "    </tr>\n",
       "    <tr>\n",
       "      <th>top</th>\n",
       "      <td>2022-01-01 00:30:00</td>\n",
       "      <td>NaN</td>\n",
       "      <td>NaN</td>\n",
       "      <td>NaN</td>\n",
       "      <td>NaN</td>\n",
       "    </tr>\n",
       "    <tr>\n",
       "      <th>freq</th>\n",
       "      <td>1</td>\n",
       "      <td>NaN</td>\n",
       "      <td>NaN</td>\n",
       "      <td>NaN</td>\n",
       "      <td>NaN</td>\n",
       "    </tr>\n",
       "    <tr>\n",
       "      <th>mean</th>\n",
       "      <td>NaN</td>\n",
       "      <td>-1.948838</td>\n",
       "      <td>759.986439</td>\n",
       "      <td>71.979989</td>\n",
       "      <td>12.236103</td>\n",
       "    </tr>\n",
       "    <tr>\n",
       "      <th>std</th>\n",
       "      <td>NaN</td>\n",
       "      <td>14.187085</td>\n",
       "      <td>3.975039</td>\n",
       "      <td>8.211147</td>\n",
       "      <td>3.717430</td>\n",
       "    </tr>\n",
       "    <tr>\n",
       "      <th>min</th>\n",
       "      <td>NaN</td>\n",
       "      <td>-23.500000</td>\n",
       "      <td>753.900000</td>\n",
       "      <td>59.000000</td>\n",
       "      <td>7.000000</td>\n",
       "    </tr>\n",
       "    <tr>\n",
       "      <th>25%</th>\n",
       "      <td>NaN</td>\n",
       "      <td>-16.100000</td>\n",
       "      <td>756.000000</td>\n",
       "      <td>64.000000</td>\n",
       "      <td>8.540000</td>\n",
       "    </tr>\n",
       "    <tr>\n",
       "      <th>50%</th>\n",
       "      <td>NaN</td>\n",
       "      <td>-2.000000</td>\n",
       "      <td>760.000000</td>\n",
       "      <td>72.000000</td>\n",
       "      <td>12.210000</td>\n",
       "    </tr>\n",
       "    <tr>\n",
       "      <th>75%</th>\n",
       "      <td>NaN</td>\n",
       "      <td>12.100000</td>\n",
       "      <td>763.900000</td>\n",
       "      <td>80.000000</td>\n",
       "      <td>15.960000</td>\n",
       "    </tr>\n",
       "    <tr>\n",
       "      <th>max</th>\n",
       "      <td>NaN</td>\n",
       "      <td>19.700000</td>\n",
       "      <td>766.000000</td>\n",
       "      <td>84.000000</td>\n",
       "      <td>17.500000</td>\n",
       "    </tr>\n",
       "  </tbody>\n",
       "</table>\n",
       "</div>"
      ],
      "text/plain": [
       "                       date   temperature      pressure      humidity  \\\n",
       "count                 17519  17519.000000  17519.000000  17519.000000   \n",
       "unique                17519           NaN           NaN           NaN   \n",
       "top     2022-01-01 00:30:00           NaN           NaN           NaN   \n",
       "freq                      1           NaN           NaN           NaN   \n",
       "mean                    NaN     -1.948838    759.986439     71.979989   \n",
       "std                     NaN     14.187085      3.975039      8.211147   \n",
       "min                     NaN    -23.500000    753.900000     59.000000   \n",
       "25%                     NaN    -16.100000    756.000000     64.000000   \n",
       "50%                     NaN     -2.000000    760.000000     72.000000   \n",
       "75%                     NaN     12.100000    763.900000     80.000000   \n",
       "max                     NaN     19.700000    766.000000     84.000000   \n",
       "\n",
       "            sunshine  \n",
       "count   17519.000000  \n",
       "unique           NaN  \n",
       "top              NaN  \n",
       "freq             NaN  \n",
       "mean       12.236103  \n",
       "std         3.717430  \n",
       "min         7.000000  \n",
       "25%         8.540000  \n",
       "50%        12.210000  \n",
       "75%        15.960000  \n",
       "max        17.500000  "
      ]
     },
     "execution_count": 53,
     "metadata": {},
     "output_type": "execute_result"
    }
   ],
   "source": [
    "weather_df.describe(include = \"all\")"
   ]
  },
  {
   "cell_type": "code",
   "execution_count": 54,
   "id": "509dfedd-c136-4968-982d-5e067dd285bc",
   "metadata": {},
   "outputs": [
    {
     "name": "stdout",
     "output_type": "stream",
     "text": [
      "<class 'pandas.core.frame.DataFrame'>\n",
      "RangeIndex: 17519 entries, 0 to 17518\n",
      "Data columns (total 5 columns):\n",
      " #   Column       Non-Null Count  Dtype  \n",
      "---  ------       --------------  -----  \n",
      " 0   date         17519 non-null  object \n",
      " 1   temperature  17519 non-null  float64\n",
      " 2   pressure     17519 non-null  float64\n",
      " 3   humidity     17519 non-null  float64\n",
      " 4   sunshine     17519 non-null  float64\n",
      "dtypes: float64(4), object(1)\n",
      "memory usage: 684.5+ KB\n"
     ]
    }
   ],
   "source": [
    "weather_df.info()"
   ]
  },
  {
   "cell_type": "code",
   "execution_count": 55,
   "id": "56b12ace-56d4-4c4f-88d1-1ceb36d85f77",
   "metadata": {},
   "outputs": [
    {
     "data": {
      "text/plain": [
       "date           0\n",
       "temperature    0\n",
       "pressure       0\n",
       "humidity       0\n",
       "sunshine       0\n",
       "dtype: int64"
      ]
     },
     "execution_count": 55,
     "metadata": {},
     "output_type": "execute_result"
    }
   ],
   "source": [
    "weather_df.isnull().sum()"
   ]
  },
  {
   "cell_type": "code",
   "execution_count": 57,
   "id": "da24d2a7-5470-4351-9273-e129b96c6f4d",
   "metadata": {},
   "outputs": [],
   "source": [
    "weather_df.to_csv('weather_clear.csv', index=False)"
   ]
  },
  {
   "cell_type": "code",
   "execution_count": null,
   "id": "67196532-c1a8-44bb-a237-8b39ec72860b",
   "metadata": {},
   "outputs": [],
   "source": []
  }
 ],
 "metadata": {
  "kernelspec": {
   "display_name": "Python 3 (ipykernel)",
   "language": "python",
   "name": "python3"
  },
  "language_info": {
   "codemirror_mode": {
    "name": "ipython",
    "version": 3
   },
   "file_extension": ".py",
   "mimetype": "text/x-python",
   "name": "python",
   "nbconvert_exporter": "python",
   "pygments_lexer": "ipython3",
   "version": "3.10.11"
  }
 },
 "nbformat": 4,
 "nbformat_minor": 5
}
