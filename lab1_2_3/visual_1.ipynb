{
 "cells": [
  {
   "cell_type": "markdown",
   "metadata": {
    "id": "5jBF2ifIPd0p"
   },
   "source": [
    "\n",
    "# Графическая визуализация данных\n",
    "\n",
    "Одной из важных частей в анализе данных является графическое\n",
    "визуализация. Это может быть частью исследовательского процесса —\n",
    "например, чтобы помочь идентифицировать выбросы или необходимые\n",
    "преобразования данных, или как способ генерирования идей для\n",
    "моделей. В Python есть много дополнительных библиотек для создания\n",
    "статических или динамических визуализаций, но мы сосредоточемся в\n",
    "основном на `matplotlib` и библиотеках, которые построены на её\n",
    "основе. \n",
    "\n",
    "Со временем `matplotlib` породила ряд дополнительных наборов инструментов\n",
    "для визуализации данных, которые используют `matplotlib` в качестве\n",
    "«ядра». Одним из таких инструментов является `seaborn`."
   ]
  },
  {
   "cell_type": "markdown",
   "metadata": {
    "id": "otofVtEBPd0s"
   },
   "source": [
    "# Краткий пример использования `matplotlib`\n",
    "\n",
    "Для импорта библиотеки `matplotlib` будем использовать следующее\n",
    "соглашение:"
   ]
  },
  {
   "cell_type": "code",
   "execution_count": null,
   "metadata": {
    "collapsed": false,
    "id": "apUIuh1dPd0s",
    "jupyter": {
     "outputs_hidden": false
    }
   },
   "outputs": [],
   "source": [
    "import matplotlib.pyplot as plt"
   ]
  },
  {
   "cell_type": "markdown",
   "metadata": {
    "id": "X36JtegdPd0t"
   },
   "source": [
    "Ниже приведен пример построения простой прямой:"
   ]
  },
  {
   "cell_type": "code",
   "execution_count": null,
   "metadata": {
    "collapsed": false,
    "id": "NwoUqYLzPd0t",
    "jupyter": {
     "outputs_hidden": false
    }
   },
   "outputs": [],
   "source": [
    "import numpy as np"
   ]
  },
  {
   "cell_type": "code",
   "execution_count": null,
   "metadata": {
    "collapsed": false,
    "id": "VjV-a7WqPd0u",
    "jupyter": {
     "outputs_hidden": false
    }
   },
   "outputs": [],
   "source": [
    "data = np.arange(10)"
   ]
  },
  {
   "cell_type": "code",
   "execution_count": null,
   "metadata": {
    "colab": {
     "base_uri": "https://localhost:8080/"
    },
    "collapsed": false,
    "executionInfo": {
     "elapsed": 5,
     "status": "ok",
     "timestamp": 1678648950657,
     "user": {
      "displayName": "Александр Александров",
      "userId": "05407862560270528968"
     },
     "user_tz": -180
    },
    "id": "rudo8RqnPd0u",
    "jupyter": {
     "outputs_hidden": false
    },
    "outputId": "ac4fb262-9306-48c8-a552-3034245893c7"
   },
   "outputs": [
    {
     "data": {
      "text/plain": [
       "array([0, 1, 2, 3, 4, 5, 6, 7, 8, 9])"
      ]
     },
     "execution_count": 4,
     "metadata": {},
     "output_type": "execute_result"
    }
   ],
   "source": [
    "data"
   ]
  },
  {
   "cell_type": "code",
   "execution_count": null,
   "metadata": {
    "colab": {
     "base_uri": "https://localhost:8080/",
     "height": 282
    },
    "collapsed": false,
    "executionInfo": {
     "elapsed": 389,
     "status": "ok",
     "timestamp": 1678648952448,
     "user": {
      "displayName": "Александр Александров",
      "userId": "05407862560270528968"
     },
     "user_tz": -180
    },
    "id": "MtOD82NCPd0u",
    "jupyter": {
     "outputs_hidden": false
    },
    "outputId": "14b34eec-1812-4550-b182-4dbcdb15664d"
   },
   "outputs": [
    {
     "data": {
      "text/plain": [
       "[<matplotlib.lines.Line2D at 0x7f6970204220>]"
      ]
     },
     "execution_count": 5,
     "metadata": {},
     "output_type": "execute_result"
    },
    {
     "data": {
      "image/png": "[encoded data removed]",
      "text/plain": [
       "<Figure size 432x288 with 1 Axes>"
      ]
     },
     "metadata": {
      "needs_background": "light"
     },
     "output_type": "display_data"
    }
   ],
   "source": [
    "plt.plot(data)"
   ]
  },
  {
   "cell_type": "markdown",
   "metadata": {
    "id": "ykKxTdvNPd0v"
   },
   "source": [
    "## Рисунки и подграфики\n",
    "\n",
    "Графики в `matplotlib` находятся внутри объекта `Figure`. Новый\n",
    "рисунок можно создать с помощью `plt.figure`:"
   ]
  },
  {
   "cell_type": "code",
   "execution_count": null,
   "metadata": {
    "colab": {
     "base_uri": "https://localhost:8080/",
     "height": 34
    },
    "collapsed": false,
    "executionInfo": {
     "elapsed": 250,
     "status": "ok",
     "timestamp": 1678648965363,
     "user": {
      "displayName": "Александр Александров",
      "userId": "05407862560270528968"
     },
     "user_tz": -180
    },
    "id": "jzBhvXLYPd0v",
    "jupyter": {
     "outputs_hidden": false
    },
    "outputId": "097178ef-03f2-4c1f-f18c-abf358826f21"
   },
   "outputs": [
    {
     "data": {
      "text/plain": [
       "<Figure size 432x288 with 0 Axes>"
      ]
     },
     "metadata": {},
     "output_type": "display_data"
    }
   ],
   "source": [
    "fig = plt.figure()"
   ]
  },
  {
   "cell_type": "markdown",
   "metadata": {
    "id": "BkVaS21ZPd0v"
   },
   "source": [
    "В интерпретаторе IPython будет построено пустое окно, а в блокноте\n",
    "Jupyter ничего не произойдет. Нельзя создавать окно с пустым\n",
    "рисунком. Нужно создать один или несколько подграфиков (subplots),\n",
    "используя функцию `add_subplot`"
   ]
  },
  {
   "cell_type": "code",
   "execution_count": null,
   "metadata": {
    "colab": {
     "base_uri": "https://localhost:8080/"
    },
    "collapsed": false,
    "executionInfo": {
     "elapsed": 246,
     "status": "ok",
     "timestamp": 1678648982862,
     "user": {
      "displayName": "Александр Александров",
      "userId": "05407862560270528968"
     },
     "user_tz": -180
    },
    "id": "XAWEFqerPd0v",
    "jupyter": {
     "outputs_hidden": false
    },
    "outputId": "3196c337-2d85-410b-b28c-77945d33df2d"
   },
   "outputs": [
    {
     "data": {
      "text/plain": [
       "<AxesSubplot:>"
      ]
     },
     "execution_count": 7,
     "metadata": {},
     "output_type": "execute_result"
    }
   ],
   "source": [
    "fig.add_subplot(2, 2, 1)"
   ]
  },
  {
   "cell_type": "markdown",
   "metadata": {
    "id": "eoZCCZs5Pd0w"
   },
   "source": [
    "Это означает, что рисунок должен быть размером $2 \\times 2$\n",
    "(т.е. содержать максимум 4 графика), и мы выбрали первый из четырех\n",
    "графиков (нумерация начинается с единицы). Можно выбрать следующие 2\n",
    "графика:"
   ]
  },
  {
   "cell_type": "code",
   "execution_count": null,
   "metadata": {
    "collapsed": false,
    "id": "BnQ9N4CKPd0w",
    "jupyter": {
     "outputs_hidden": false
    }
   },
   "outputs": [],
   "source": [
    "ax2 = fig.add_subplot(2, 2, 2)"
   ]
  },
  {
   "cell_type": "code",
   "execution_count": null,
   "metadata": {
    "collapsed": false,
    "id": "0UiobVnQPd0w",
    "jupyter": {
     "outputs_hidden": false
    }
   },
   "outputs": [],
   "source": [
    "ax3 = fig.add_subplot(2, 2, 3)"
   ]
  },
  {
   "cell_type": "markdown",
   "metadata": {
    "id": "KiyX0mkUPd0w"
   },
   "source": [
    "Если выполнить команду построения графика, например, `plt.plot([1.5, 3.5, -2, 1.6])`,\n",
    "вывод будет осуществляться в последний график последнего созданного\n",
    "рисунка. Например, выполнение команды"
   ]
  },
  {
   "cell_type": "code",
   "execution_count": null,
   "metadata": {
    "colab": {
     "base_uri": "https://localhost:8080/",
     "height": 282
    },
    "collapsed": false,
    "executionInfo": {
     "elapsed": 268,
     "status": "ok",
     "timestamp": 1678649005327,
     "user": {
      "displayName": "Александр Александров",
      "userId": "05407862560270528968"
     },
     "user_tz": -180
    },
    "id": "TGTmxXLFPd0w",
    "jupyter": {
     "outputs_hidden": false
    },
    "outputId": "90c983e8-3130-42b5-86f8-b57c1620919d"
   },
   "outputs": [
    {
     "data": {
      "text/plain": [
       "[<matplotlib.lines.Line2D at 0x7f697009edf0>]"
      ]
     },
     "execution_count": 10,
     "metadata": {},
     "output_type": "execute_result"
    },
    {
     "data": {
      "image/png": "[encoded data removed]",
      "text/plain": [
       "<Figure size 432x288 with 1 Axes>"
      ]
     },
     "metadata": {
      "needs_background": "light"
     },
     "output_type": "display_data"
    }
   ],
   "source": [
    "plt.plot(np.random.randn(50).cumsum(), 'k--')"
   ]
  },
  {
   "cell_type": "markdown",
   "metadata": {
    "id": "VTLJP8BRPd0x"
   },
   "source": [
    "Выражение `'k--'` задает стиль линии: черная штриховая линия. \n",
    "Метод `fig.add_subplot` возвращает объект `AxesSubplot`, в который\n",
    "можно напрямую выводить график:"
   ]
  },
  {
   "cell_type": "code",
   "execution_count": null,
   "metadata": {
    "collapsed": false,
    "id": "_Yn5myYsPd0x",
    "jupyter": {
     "outputs_hidden": false
    }
   },
   "outputs": [],
   "source": [
    "ax1 = fig.add_subplot(2, 2, 2)\n",
    "_ = ax1.hist(np.random.randn(100), bins=20, color='k', alpha=0.3)"
   ]
  },
  {
   "cell_type": "code",
   "execution_count": null,
   "metadata": {
    "colab": {
     "base_uri": "https://localhost:8080/"
    },
    "collapsed": false,
    "executionInfo": {
     "elapsed": 1174,
     "status": "ok",
     "timestamp": 1678649091239,
     "user": {
      "displayName": "Александр Александров",
      "userId": "05407862560270528968"
     },
     "user_tz": -180
    },
    "id": "z4gs-HXCPd0x",
    "jupyter": {
     "outputs_hidden": false
    },
    "outputId": "21007cc4-bbf3-4c85-c614-edd6df4d6e08"
   },
   "outputs": [
    {
     "data": {
      "text/plain": [
       "<matplotlib.collections.PathCollection at 0x7f6960402100>"
      ]
     },
     "execution_count": 14,
     "metadata": {},
     "output_type": "execute_result"
    }
   ],
   "source": [
    "ax2.scatter(np.arange(30), np.arange(30) + 3 * np.random.randn(30))"
   ]
  },
  {
   "cell_type": "markdown",
   "metadata": {
    "id": "HuvfyGkvPd0x"
   },
   "source": [
    "Полный каталог типов графиков можно найти на сайте <https://matplotlib.org/>.\n",
    "\n",
    "Как вы заметили представленные выше команды, выполняемые в отдельных\n",
    "ячейках, в блокноте Jupyter не работают. Для того чтобы строить\n",
    "подграфики в Jupyter нужно все команды выполнять в одной ячейке:"
   ]
  },
  {
   "cell_type": "code",
   "execution_count": null,
   "metadata": {
    "colab": {
     "base_uri": "https://localhost:8080/",
     "height": 286
    },
    "collapsed": false,
    "executionInfo": {
     "elapsed": 780,
     "status": "ok",
     "timestamp": 1678649118399,
     "user": {
      "displayName": "Александр Александров",
      "userId": "05407862560270528968"
     },
     "user_tz": -180
    },
    "id": "X55eGGOJPd0x",
    "jupyter": {
     "outputs_hidden": false
    },
    "outputId": "f2e63421-91c9-4e0a-aa46-da2185de1572"
   },
   "outputs": [
    {
     "data": {
      "text/plain": [
       "<matplotlib.collections.PathCollection at 0x7f69602c1070>"
      ]
     },
     "execution_count": 15,
     "metadata": {},
     "output_type": "execute_result"
    },
    {
     "data": {
      "image/png": "[encoded data removed]",
      "text/plain": [
       "<Figure size 432x288 with 3 Axes>"
      ]
     },
     "metadata": {
      "needs_background": "light"
     },
     "output_type": "display_data"
    }
   ],
   "source": [
    "fig = plt.figure()\n",
    "fig.add_subplot(2, 2, 1)\n",
    "ax1 = fig.add_subplot(2, 2, 2)\n",
    "ax2 = fig.add_subplot(2, 2, 3)\n",
    "plt.plot([1.5, 3.5, -2, 1.6])\n",
    "_ = ax1.hist(np.random.randn(100), bins=20, color='k', alpha=0.3)\n",
    "ax2.scatter(np.arange(30), np.arange(30) + 3 * np.random.randn(30))"
   ]
  },
  {
   "cell_type": "markdown",
   "metadata": {
    "id": "2QV_dCJ0Pd0x"
   },
   "source": [
    "## Цвет, маркеры и стили линий\n",
    "\n",
    "Основная функция `plot` библиотеки `matplotlib` принимает массивы\n",
    "координат `x` и `y` и (опционально) строку, задающую цвет и стиль\n",
    "линии. Например, для того чтобы построить зависимость `y` от `x`\n",
    "зелеными штрихами, необходимо выполнить:"
   ]
  },
  {
   "cell_type": "markdown",
   "metadata": {
    "id": "lBYuv7oNPd0y"
   },
   "source": [
    "```Python\n",
    "        ax.plot(x, y, 'g--')\n",
    "```"
   ]
  },
  {
   "cell_type": "markdown",
   "metadata": {
    "id": "6wbfVPvaPd0y"
   },
   "source": [
    "Таким образом, мы задали и цвет и стиль линии в виде строки. На\n",
    "практике при программном создании графиков использование строк не\n",
    "удобно. Такой же график можно построить с помощью команды:"
   ]
  },
  {
   "cell_type": "markdown",
   "metadata": {
    "id": "KqnsGtsOPd0y"
   },
   "source": [
    "```Python\n",
    "        ax.plot(x, y, linestyle='--', color='g')\n",
    "```"
   ]
  },
  {
   "cell_type": "markdown",
   "metadata": {
    "id": "qNpfAfLvPd0y"
   },
   "source": [
    "Графики могут иметь также маркеры для выделения точек данных. Так как\n",
    "`matplotlib` создает непрерывные линии, интерполируя значения между\n",
    "заданными точками, может быть не ясно, где находятся заданные\n",
    "значения. Маркеры могут быть частью строки, задающей стиль линии:"
   ]
  },
  {
   "cell_type": "code",
   "execution_count": null,
   "metadata": {
    "collapsed": false,
    "id": "FSceZk3sPd0y",
    "jupyter": {
     "outputs_hidden": false
    }
   },
   "outputs": [],
   "source": [
    "from numpy.random import randn"
   ]
  },
  {
   "cell_type": "code",
   "execution_count": null,
   "metadata": {
    "colab": {
     "base_uri": "https://localhost:8080/",
     "height": 282
    },
    "collapsed": false,
    "executionInfo": {
     "elapsed": 383,
     "status": "ok",
     "timestamp": 1678649169223,
     "user": {
      "displayName": "Александр Александров",
      "userId": "05407862560270528968"
     },
     "user_tz": -180
    },
    "id": "eIE7GyjUPd0y",
    "jupyter": {
     "outputs_hidden": false
    },
    "outputId": "c6ca9237-71cd-47fe-ff34-29747e6dc97a"
   },
   "outputs": [
    {
     "data": {
      "text/plain": [
       "[<matplotlib.lines.Line2D at 0x7f69602568e0>]"
      ]
     },
     "execution_count": 17,
     "metadata": {},
     "output_type": "execute_result"
    },
    {
     "data": {
      "image/png": "[encoded data removed]",
      "text/plain": [
       "<Figure size 432x288 with 1 Axes>"
      ]
     },
     "metadata": {
      "needs_background": "light"
     },
     "output_type": "display_data"
    }
   ],
   "source": [
    "plt.plot(randn(30).cumsum(), 'ko--')"
   ]
  },
  {
   "cell_type": "markdown",
   "metadata": {
    "id": "oiLSKzl6Pd0y"
   },
   "source": [
    "Это же можно было записать более явно:"
   ]
  },
  {
   "cell_type": "markdown",
   "metadata": {
    "id": "DVClLSkJPd0z"
   },
   "source": [
    "```Python\n",
    "        plot(randn(30).cumsum(), color='k', linestyle='dashed', marker='o')\n",
    "```"
   ]
  },
  {
   "cell_type": "markdown",
   "metadata": {
    "id": "8D_Vs-5NPd0z"
   },
   "source": [
    "Как видно, между последовательными точками строится линейная\n",
    "интерполяция. Это поведение можно изменить с помощью параметра\n",
    "`drawstyle`:"
   ]
  },
  {
   "cell_type": "code",
   "execution_count": null,
   "metadata": {
    "colab": {
     "base_uri": "https://localhost:8080/",
     "height": 282
    },
    "collapsed": false,
    "executionInfo": {
     "elapsed": 1655,
     "status": "ok",
     "timestamp": 1678649185969,
     "user": {
      "displayName": "Александр Александров",
      "userId": "05407862560270528968"
     },
     "user_tz": -180
    },
    "id": "YHDTPRjcPd0z",
    "jupyter": {
     "outputs_hidden": false
    },
    "outputId": "453d269a-cdc3-4a2c-f920-1f2a43c9e7db"
   },
   "outputs": [
    {
     "data": {
      "text/plain": [
       "<matplotlib.legend.Legend at 0x7f69602393d0>"
      ]
     },
     "execution_count": 18,
     "metadata": {},
     "output_type": "execute_result"
    },
    {
     "data": {
      "image/png": "[encoded data removed]",
      "text/plain": [
       "<Figure size 432x288 with 1 Axes>"
      ]
     },
     "metadata": {
      "needs_background": "light"
     },
     "output_type": "display_data"
    }
   ],
   "source": [
    "data = np.random.randn(30).cumsum()\n",
    "plt.plot(data, 'k--', label='Default')\n",
    "plt.plot(data, 'k-', drawstyle='steps-post', label='steps-post')\n",
    "plt.legend(loc='best')"
   ]
  },
  {
   "cell_type": "markdown",
   "metadata": {
    "id": "J2x9RJx9Pd0z"
   },
   "source": [
    "## Подписи к осям, масштаб и легенда\n",
    "\n",
    "Для иллюстрации настройки графиков создадим простой рисунок и\n",
    "отобразим график случайного блуждания:"
   ]
  },
  {
   "cell_type": "code",
   "execution_count": null,
   "metadata": {
    "colab": {
     "base_uri": "https://localhost:8080/",
     "height": 282
    },
    "collapsed": false,
    "executionInfo": {
     "elapsed": 301,
     "status": "ok",
     "timestamp": 1678649199420,
     "user": {
      "displayName": "Александр Александров",
      "userId": "05407862560270528968"
     },
     "user_tz": -180
    },
    "id": "W4MIo_YlPd0z",
    "jupyter": {
     "outputs_hidden": false
    },
    "outputId": "e7516e4b-268c-4d8e-c573-b241843638c5"
   },
   "outputs": [
    {
     "data": {
      "text/plain": [
       "[<matplotlib.lines.Line2D at 0x7f696013d520>]"
      ]
     },
     "execution_count": 19,
     "metadata": {},
     "output_type": "execute_result"
    },
    {
     "data": {
      "image/png": "[encoded data removed]",
      "text/plain": [
       "<Figure size 432x288 with 1 Axes>"
      ]
     },
     "metadata": {
      "needs_background": "light"
     },
     "output_type": "display_data"
    }
   ],
   "source": [
    "fig = plt.figure()\n",
    "ax = fig.add_subplot(1, 1, 1)\n",
    "ax.plot(np.random.randn(1000).cumsum())"
   ]
  },
  {
   "cell_type": "markdown",
   "metadata": {
    "id": "IaEwFxv3Pd0z"
   },
   "source": [
    "Для изменения подписей на оси $x$ воспользуемся методами `set_xticks`\n",
    "и `set_xticklables`:"
   ]
  },
  {
   "cell_type": "code",
   "execution_count": null,
   "metadata": {
    "colab": {
     "base_uri": "https://localhost:8080/",
     "height": 274
    },
    "collapsed": false,
    "executionInfo": {
     "elapsed": 307,
     "status": "ok",
     "timestamp": 1678649208673,
     "user": {
      "displayName": "Александр Александров",
      "userId": "05407862560270528968"
     },
     "user_tz": -180
    },
    "id": "yb9tXbViPd0z",
    "jupyter": {
     "outputs_hidden": false
    },
    "outputId": "23b6cb25-a854-4089-9de5-f23ef89bb719"
   },
   "outputs": [
    {
     "data": {
      "image/png": "[encoded data removed]",
      "text/plain": [
       "<Figure size 432x288 with 1 Axes>"
      ]
     },
     "metadata": {
      "needs_background": "light"
     },
     "output_type": "display_data"
    }
   ],
   "source": [
    "fig = plt.figure()\n",
    "ax = fig.add_subplot(1, 1, 1)\n",
    "ax.plot(np.random.randn(1000).cumsum())\n",
    "ticks = ax.set_xticks([0, 250, 500, 750, 1000])\n",
    "labels = ax.set_xticklabels(['one', 'two', 'three', 'four', 'five'], rotation=30, fontsize='small')"
   ]
  },
  {
   "cell_type": "markdown",
   "metadata": {
    "id": "iY9RHec0Pd0z"
   },
   "source": [
    "Параметр `rotation` поворачивает метки надписей на оси $x$ на 30\n",
    "градусов. И, наконец, зададим название графика и метку для оси $x$ с\n",
    "помощью методов `set_title` и `set_xlabel`:"
   ]
  },
  {
   "cell_type": "code",
   "execution_count": null,
   "metadata": {
    "colab": {
     "base_uri": "https://localhost:8080/",
     "height": 321
    },
    "collapsed": false,
    "executionInfo": {
     "elapsed": 1136,
     "status": "ok",
     "timestamp": 1678649216863,
     "user": {
      "displayName": "Александр Александров",
      "userId": "05407862560270528968"
     },
     "user_tz": -180
    },
    "id": "R58QzZVhPd00",
    "jupyter": {
     "outputs_hidden": false
    },
    "outputId": "daa5e56a-4c3b-4e1f-c2ea-78c1ca6f4bbf"
   },
   "outputs": [
    {
     "data": {
      "text/plain": [
       "Text(0.5, 0, 'Шаги')"
      ]
     },
     "execution_count": 21,
     "metadata": {},
     "output_type": "execute_result"
    },
    {
     "data": {
      "image/png": "[encoded data removed]",
      "text/plain": [
       "<Figure size 432x288 with 1 Axes>"
      ]
     },
     "metadata": {
      "needs_background": "light"
     },
     "output_type": "display_data"
    }
   ],
   "source": [
    "fig = plt.figure()\n",
    "ax = fig.add_subplot(1, 1, 1)\n",
    "ax.plot(np.random.randn(1000).cumsum())\n",
    "ticks = ax.set_xticks([0, 250, 500, 750, 1000])\n",
    "labels = ax.set_xticklabels(['one', 'two', 'three', 'four', 'five'], rotation=30, fontsize='small')\n",
    "ax.set_title('Первый график matplotlib')\n",
    "ax.set_xlabel('Шаги')"
   ]
  },
  {
   "cell_type": "markdown",
   "metadata": {
    "id": "OH1P7uAnPd00"
   },
   "source": [
    "Модификация оси $y$ осуществляется точно также, только нужно  заменить\n",
    "`x` на `y` в приведенном выше коде. У класса осей есть метод `set`,\n",
    "который допускает пакетную настройку свойств графика. В предыдущем \n",
    "примере можно было также написать:"
   ]
  },
  {
   "cell_type": "markdown",
   "metadata": {
    "id": "dWWG6tYuPd00"
   },
   "source": [
    "```Python\n",
    "        props = {\n",
    "            'title': 'Первый график matplotlib',\n",
    "            'xlabel': 'Шаги\n",
    "        }\n",
    "        ax.set(**props)\n",
    "```"
   ]
  },
  {
   "cell_type": "markdown",
   "metadata": {
    "id": "mKn37QmUPd00"
   },
   "source": [
    "Для вывода легенды графика есть несколько способов. Простейший\n",
    "заключается в передаче аргумента `label` при построении графиков:"
   ]
  },
  {
   "cell_type": "code",
   "execution_count": null,
   "metadata": {
    "colab": {
     "base_uri": "https://localhost:8080/",
     "height": 282
    },
    "collapsed": false,
    "executionInfo": {
     "elapsed": 295,
     "status": "ok",
     "timestamp": 1678649232229,
     "user": {
      "displayName": "Александр Александров",
      "userId": "05407862560270528968"
     },
     "user_tz": -180
    },
    "id": "D2zSzXidPd00",
    "jupyter": {
     "outputs_hidden": false
    },
    "outputId": "89f3250d-e4ca-45c8-f811-d4ebc6071ba5"
   },
   "outputs": [
    {
     "data": {
      "text/plain": [
       "<matplotlib.legend.Legend at 0x7f6960077280>"
      ]
     },
     "execution_count": 22,
     "metadata": {},
     "output_type": "execute_result"
    },
    {
     "data": {
      "image/png": "[encoded data removed]",
      "text/plain": [
       "<Figure size 432x288 with 1 Axes>"
      ]
     },
     "metadata": {
      "needs_background": "light"
     },
     "output_type": "display_data"
    }
   ],
   "source": [
    "fig = plt.figure(); ax = fig.add_subplot(1, 1, 1)\n",
    "ax.plot(randn(1000).cumsum(), 'k', label='one')\n",
    "ax.plot(randn(1000).cumsum(), 'k--', label='two')\n",
    "ax.plot(randn(1000).cumsum(), 'k.', label='three')\n",
    "ax.legend(loc='best')"
   ]
  },
  {
   "cell_type": "markdown",
   "metadata": {
    "id": "1MmgAOcKPd00"
   },
   "source": [
    "## Сохранение рисунков в файл\n",
    "\n",
    "Можно сохранить активный рисунок в файл с помощью метода\n",
    "`plt.savefig`. Например, чтобы сохранить рисунок в формате SVG\n",
    "достаточно набрать:"
   ]
  },
  {
   "cell_type": "markdown",
   "metadata": {
    "id": "gWpcV8V9Pd00"
   },
   "source": [
    "```Python\n",
    "        plt.savefig('figpath.svg')\n",
    "```"
   ]
  },
  {
   "cell_type": "markdown",
   "metadata": {
    "id": "qnwTKdhhPd01"
   },
   "source": [
    "Тип файла определяется расширением. Есть пара важных параметров:\n",
    "`dpi`, который задает разрешение рисунка (точек на дюйм),\n",
    "`bbox_inches`, который может обрезать пустое пространство вокруг\n",
    "рисунка. Например, чтобы сохранить тот же график в формате PNG с\n",
    "разрешением 400 DPI, нудно выполнить:"
   ]
  },
  {
   "cell_type": "markdown",
   "metadata": {
    "id": "GN_SRctuPd01"
   },
   "source": [
    "```Python\n",
    "        plt.savefig('figpath.png', dpi=400, bbox_inches='tight')\n",
    "```"
   ]
  },
  {
   "cell_type": "markdown",
   "metadata": {
    "id": "kGNCJvysPd01"
   },
   "source": [
    "Функция `savefig` сохраняет не только на диск. Она может записывать\n",
    "график в любой файлоподобный объект, например в `BytesIO`:"
   ]
  },
  {
   "cell_type": "markdown",
   "metadata": {
    "id": "pqL3_2WZPd01"
   },
   "source": [
    "```Python\n",
    "        from io import BytesIO\n",
    "        buffer = BytesIO()\n",
    "        plt.savefig(buffer)\n",
    "        plot_data = buffer.getvalue()\n",
    "```"
   ]
  },
  {
   "cell_type": "markdown",
   "metadata": {
    "id": "9d0gnHWTPd01"
   },
   "source": [
    "## Таблица 1 : Метод `savefig`: параметры\n",
    "\n",
    "\n",
    "<table border=\"1\">\n",
    "<thead>\n",
    "<tr><th align=\"left\">        Параметр        </th> <th align=\"left\">                                                   Описание                                                   </th> </tr>\n",
    "</thead>\n",
    "<tbody>\n",
    "<tr><td align=\"left\">   <code>fname</code>                     </td> <td align=\"left\">   Строка, содержащая путь к файлу или файлоподобный объект Python. Формат рисунка определяется расширением файла    </td> </tr>\n",
    "<tr><td align=\"left\">   <code>dpi</code>                       </td> <td align=\"left\">   Разрешение рисунка в точках на дюйм. По умолчанию 100                                                             </td> </tr>\n",
    "<tr><td align=\"left\">   <code>facecolor</code>, <code>edgecolor</code>    </td> <td align=\"left\">   Цвет фона рисунка вне графика. По умолчанию <code>w</code> (белый)                                                           </td> </tr>\n",
    "<tr><td align=\"left\">   <code>format</code>                    </td> <td align=\"left\">   Явное задание формата файла                                                                                       </td> </tr>\n",
    "<tr><td align=\"left\">   <code>bbox_inches</code>               </td> <td align=\"left\">   Часть рисунка для сохранения. Если задано <code>'tight'</code>, 2будет попытка обрезать пустое пространство вокруг           </td> </tr>\n",
    "</tbody>\n",
    "</table>"
   ]
  },
  {
   "cell_type": "markdown",
   "metadata": {
    "id": "4CUR3SG6Pd01"
   },
   "source": [
    "\n",
    "# Построение графиков с помощью `pandas` и `seaborn`\n",
    "\n",
    "Библиотека `matplotlib` может быть инструментом довольно низкого\n",
    "уровня. График собирается из его базовых компонентов: отображения\n",
    "данных (т.е. тип графика: линия, полоса, прямоугольник, разброс,\n",
    "контур и т.д.), легенды, заголовка, меток и других аннотаций. В\n",
    "библиотеке `pandas` мы можем получить множество столбцов данных, а\n",
    "также метки строк и столбцов. В `pandas` имеются встроенные методы,\n",
    "которые упрощают визуализацию объектов `DataFrame` и `Series`. Еще\n",
    "одна библиотека для статистических графиков — `seaborn`."
   ]
  },
  {
   "cell_type": "code",
   "execution_count": null,
   "metadata": {
    "id": "bJzVcnbcPd02"
   },
   "outputs": [],
   "source": [
    "import numpy as np\n",
    "import  pandas as pd"
   ]
  },
  {
   "cell_type": "markdown",
   "metadata": {
    "id": "wI2GFWhgPd02"
   },
   "source": [
    "## Линейные графики\n",
    "\n",
    "Объекты `Series` и `DataFrame` имеют метод `plot` для создания базовых\n",
    "типов графиков. По умолчанию `plot()` создает линейные графики"
   ]
  },
  {
   "cell_type": "code",
   "execution_count": null,
   "metadata": {
    "colab": {
     "base_uri": "https://localhost:8080/",
     "height": 282
    },
    "collapsed": false,
    "executionInfo": {
     "elapsed": 277,
     "status": "ok",
     "timestamp": 1678649285979,
     "user": {
      "displayName": "Александр Александров",
      "userId": "05407862560270528968"
     },
     "user_tz": -180
    },
    "id": "ND94VZByPd02",
    "jupyter": {
     "outputs_hidden": false
    },
    "outputId": "8be9ae53-38b7-49e0-e846-6c0e7a2d6d4b"
   },
   "outputs": [
    {
     "data": {
      "text/plain": [
       "<AxesSubplot:>"
      ]
     },
     "execution_count": 24,
     "metadata": {},
     "output_type": "execute_result"
    },
    {
     "data": {
      "image/png": "[encoded data removed]",
      "text/plain": [
       "<Figure size 432x288 with 1 Axes>"
      ]
     },
     "metadata": {
      "needs_background": "light"
     },
     "output_type": "display_data"
    }
   ],
   "source": [
    "s = pd.Series(np.random.randn(10).cumsum(), index=np.arange(0, 100, 10))\n",
    "s.plot()"
   ]
  },
  {
   "cell_type": "markdown",
   "metadata": {
    "id": "kj8ktjc1Pd02"
   },
   "source": [
    "Индекс объекта `Series` передается в `plot` библиотеки `matplotlib`\n",
    "для оси $x$. При этом такое поведение можно отключить с помощью\n",
    "параметра `use_index = False`. В таблице дается полный список параметров функции `Series.plot`.\n",
    "\n",
    "Большинство графических методов `pandas` принимают опциональный\n",
    "параметр `ax`, который может являться объектом `subplot`. Это\n",
    "позволяет размещать подграфики на сетке.\n",
    "\n",
    "\n"
   ]
  },
  {
   "cell_type": "markdown",
   "metadata": {
    "id": "dofXhzOFPd02"
   },
   "source": [
    "## Таблица 2 : Параметры метода `Series.plot`\n",
    "\n",
    "\n",
    "<table border=\"1\">\n",
    "<thead>\n",
    "<tr><th align=\"left\">  Параметр </th> <th align=\"left\">                                                   Описани                                                   </th> </tr>\n",
    "</thead>\n",
    "<tbody>\n",
    "<tr><td align=\"left\">   <code>label</code>        </td> <td align=\"left\">   Метка для легенды                                                                                                </td> </tr>\n",
    "<tr><td align=\"left\">   <code>ax</code>           </td> <td align=\"left\">   Объект <code>subplot</code> из <code>matplotlib</code>, в который выводится график. Если не задан — вывод идет в активный подграфик    </td> </tr>\n",
    "<tr><td align=\"left\">   <code>style</code>        </td> <td align=\"left\">   Строка, задающая стиль графика (например, <code>ko--</code>)                                                                </td> </tr>\n",
    "<tr><td align=\"left\">   <code>alpha</code>        </td> <td align=\"left\">   Прозрачность заполнения графика (от 0 до 1)                                                                      </td> </tr>\n",
    "<tr><td align=\"left\">   <code>kind</code>         </td> <td align=\"left\">   Тип графика. Может быть: 'area' , 'bar' , 'barh' , 'density', 'hist' , 'kde' , 'line' , 'pie'                    </td> </tr>\n",
    "<tr><td align=\"left\">   <code>logy</code>         </td> <td align=\"left\">   Использовать ли логарифмический масштаб по оси <code>y</code>                                                               </td> </tr>\n",
    "<tr><td align=\"left\">   <code>use_index</code>    </td> <td align=\"left\">   Использовать ли объект индекс для меток оси                                                                      </td> </tr>\n",
    "<tr><td align=\"left\">   <code>rot</code>          </td> <td align=\"left\">   Поворот меток оси                                                                                                </td> </tr>\n",
    "<tr><td align=\"left\">   <code>xticks</code>       </td> <td align=\"left\">   Значения для меток оси <code>x</code>                                                                                       </td> </tr>\n",
    "<tr><td align=\"left\">   <code>yticks</code>       </td> <td align=\"left\">   Значения для меток оси <code>x</code>                                                                                       </td> </tr>\n",
    "<tr><td align=\"left\">   <code>xlim</code>         </td> <td align=\"left\">   Границы по оси <code>x</code> (например, <code>[0, 10]</code>)                                                                         </td> </tr>\n",
    "<tr><td align=\"left\">   <code>ylim</code>         </td> <td align=\"left\">   Границы по оси <code>y</code>                                                                                               </td> </tr>\n",
    "<tr><td align=\"left\">   <code>grid</code>         </td> <td align=\"left\">   Отображать ли сетку по осям (включено по умолчанию)                                                              </td> </tr>\n",
    "</tbody>\n",
    "</table>\n"
   ]
  },
  {
   "cell_type": "markdown",
   "metadata": {
    "id": "wnZ_FkF4Pd02"
   },
   "source": [
    "Метод `plot` объекта `DataFrame` выводит график для каждого столбца\n",
    "данных в виде линии на одном и том же подграфике, создавая при этом\n",
    "легенду автоматически:"
   ]
  },
  {
   "cell_type": "code",
   "execution_count": null,
   "metadata": {
    "collapsed": false,
    "id": "TVE9QIi1Pd02",
    "jupyter": {
     "outputs_hidden": false
    }
   },
   "outputs": [],
   "source": [
    "df = pd.DataFrame(np.random.randn(10, 4).cumsum(0), columns=['A', 'B', 'C', 'D'], index=np.arange(0, 100, 10))"
   ]
  },
  {
   "cell_type": "code",
   "execution_count": null,
   "metadata": {
    "colab": {
     "base_uri": "https://localhost:8080/",
     "height": 282
    },
    "collapsed": false,
    "executionInfo": {
     "elapsed": 5,
     "status": "ok",
     "timestamp": 1678648512640,
     "user": {
      "displayName": "",
      "userId": ""
     },
     "user_tz": -180
    },
    "id": "RCmM1iLEPd03",
    "jupyter": {
     "outputs_hidden": false
    },
    "outputId": "1842d235-d6c8-4630-c6d3-00ae98b07e81"
   },
   "outputs": [
    {
     "data": {
      "text/plain": [
       "<AxesSubplot:>"
      ]
     },
     "execution_count": 24,
     "metadata": {},
     "output_type": "execute_result"
    },
    {
     "data": {
      "image/png": "[encoded data removed]",
      "text/plain": [
       "<Figure size 432x288 with 1 Axes>"
      ]
     },
     "metadata": {
      "needs_background": "light"
     },
     "output_type": "display_data"
    }
   ],
   "source": [
    "df.plot()"
   ]
  },
  {
   "cell_type": "markdown",
   "metadata": {
    "id": "0bqMNRB_Pd03"
   },
   "source": [
    "Атрибут `plot` содержит «семейство» методов для различных типов\n",
    "графиков. Например, `df.plot()` эквивалентно `df.plot.line()`.\n",
    "\n",
    "В `DataFrame` есть несколько параметры, которые обеспечивают некоторую\n",
    "гибкость при обработке столбцов. Например, следует ли разместить их\n",
    "все на одном подграфике или создавать отдельные. В таблице\n",
    "представлены такие параметры.\n"
   ]
  },
  {
   "cell_type": "markdown",
   "metadata": {
    "id": "f4SxKEETPd03"
   },
   "source": [
    "## Таблица 3 : Специфичные для `DataFrame` параметры `plot` <div id=\"visual:plt-with-pandas:tbl:2\"></div>\n",
    "\n",
    "\n",
    "<table border=\"1\">\n",
    "<thead>\n",
    "<tr><th align=\"left\">   Параметр   </th> <th align=\"left\">                                   Описание                                   </th> </tr>\n",
    "</thead>\n",
    "<tbody>\n",
    "<tr><td align=\"left\">   <code>subplots</code>        </td> <td align=\"left\">   Рисовать ли каждый столбец <code>DataFrame</code> в отдельном подграфике                     </td> </tr>\n",
    "<tr><td align=\"left\">   <code>sharex</code>          </td> <td align=\"left\">   Если <code>subplots=True</code>, использовать ли одну и ту же ось <code>x</code>, связывая метки оси    </td> </tr>\n",
    "<tr><td align=\"left\">   <code>sharey</code>          </td> <td align=\"left\">   Если <code>subplots=True</code>, использовать ли одну и ту же ось <code>y</code>                        </td> </tr>\n",
    "<tr><td align=\"left\">   <code>figsize</code>         </td> <td align=\"left\">   Размер рисунка для создания в виде кортежа                                        </td> </tr>\n",
    "<tr><td align=\"left\">   <code>title</code>           </td> <td align=\"left\">   Заголовок рисунка в виде строки                                                   </td> </tr>\n",
    "<tr><td align=\"left\">   <code>legend</code>          </td> <td align=\"left\">   Добавлять ли легенду на рисунок (по умолчанию <code>True</code>)                             </td> </tr>\n",
    "<tr><td align=\"left\">   <code>sort_columns</code>    </td> <td align=\"left\">   Отображать ли столбцы в алфавитном порядке                                        </td> </tr>\n",
    "</tbody>\n",
    "</table>"
   ]
  },
  {
   "cell_type": "markdown",
   "metadata": {
    "id": "piwzvuBpPd03"
   },
   "source": [
    "## Столбчатые диаграммы\n",
    "\n",
    "Методы `plot.bar()` и `plot.barh()` строят вертикальные и\n",
    "горизонтальные столбчатые диаграммы. В этом случае индексы объектов\n",
    "`Series` и `DataFrame` в качестве меток на оси `x` (`bar`) или `y`\n",
    "(`barh`)."
   ]
  },
  {
   "cell_type": "code",
   "execution_count": null,
   "metadata": {
    "colab": {
     "base_uri": "https://localhost:8080/",
     "height": 286
    },
    "collapsed": false,
    "executionInfo": {
     "elapsed": 1856,
     "status": "ok",
     "timestamp": 1678649400600,
     "user": {
      "displayName": "Александр Александров",
      "userId": "05407862560270528968"
     },
     "user_tz": -180
    },
    "id": "Lt28HlY_Pd03",
    "jupyter": {
     "outputs_hidden": false
    },
    "outputId": "32e43d28-5bb9-4fb9-cd5e-6499987ee480"
   },
   "outputs": [
    {
     "data": {
      "text/plain": [
       "<AxesSubplot:>"
      ]
     },
     "execution_count": 25,
     "metadata": {},
     "output_type": "execute_result"
    },
    {
     "data": {
      "image/png": "[encoded data removed]",
      "text/plain": [
       "<Figure size 432x288 with 2 Axes>"
      ]
     },
     "metadata": {
      "needs_background": "light"
     },
     "output_type": "display_data"
    }
   ],
   "source": [
    "fig, axes = plt.subplots(2, 1)\n",
    "data = pd.Series(np.random.rand(16), index=list('abcdefghijklmnop'))\n",
    "data.plot.bar(ax=axes[0], color='k', alpha=0.7)\n",
    "data.plot.barh(ax=axes[1], color='k', alpha=0.7)"
   ]
  },
  {
   "cell_type": "markdown",
   "metadata": {
    "id": "Fbe72GEjPd03"
   },
   "source": [
    "Параметры `color='k`' и `alpha=0.7` устанавливают цвет графика в\n",
    "черный и частичную прозрачность для заполнения.\n",
    "\n",
    "В `DataFrame` столбчатые диаграммы группируют каждую строку значений\n",
    "вместе в группу столбиков, соответствующих каждому значению в строке:"
   ]
  },
  {
   "cell_type": "code",
   "execution_count": null,
   "metadata": {
    "collapsed": false,
    "id": "WA54lSrEPd03",
    "jupyter": {
     "outputs_hidden": false
    }
   },
   "outputs": [],
   "source": [
    "df = pd.DataFrame(np.random.rand(6, 4), index=['one', 'two', 'three', 'four', 'five', 'six'], columns=pd.Index(['A', 'B', 'C', 'D'], name='Genus'))"
   ]
  },
  {
   "cell_type": "code",
   "execution_count": null,
   "metadata": {
    "colab": {
     "base_uri": "https://localhost:8080/",
     "height": 238
    },
    "collapsed": false,
    "executionInfo": {
     "elapsed": 281,
     "status": "ok",
     "timestamp": 1678649407770,
     "user": {
      "displayName": "Александр Александров",
      "userId": "05407862560270528968"
     },
     "user_tz": -180
    },
    "id": "xfAne7iQPd03",
    "jupyter": {
     "outputs_hidden": false
    },
    "outputId": "b16d90a6-bd8f-4635-d0f5-1f6e601f4f0a"
   },
   "outputs": [
    {
     "data": {
      "text/html": [
       "\n",
       "  <div id=\"df-b33126b2-a58f-43eb-a933-11ea69ce3f2f\">\n",
       "    <div class=\"colab-df-container\">\n",
       "      <div>\n",
       "<style scoped>\n",
       "    .dataframe tbody tr th:only-of-type {\n",
       "        vertical-align: middle;\n",
       "    }\n",
       "\n",
       "    .dataframe tbody tr th {\n",
       "        vertical-align: top;\n",
       "    }\n",
       "\n",
       "    .dataframe thead th {\n",
       "        text-align: right;\n",
       "    }\n",
       "</style>\n",
       "<table border=\"1\" class=\"dataframe\">\n",
       "  <thead>\n",
       "    <tr style=\"text-align: right;\">\n",
       "      <th>Genus</th>\n",
       "      <th>A</th>\n",
       "      <th>B</th>\n",
       "      <th>C</th>\n",
       "      <th>D</th>\n",
       "    </tr>\n",
       "  </thead>\n",
       "  <tbody>\n",
       "    <tr>\n",
       "      <th>one</th>\n",
       "      <td>0.029861</td>\n",
       "      <td>0.985691</td>\n",
       "      <td>0.841800</td>\n",
       "      <td>0.538494</td>\n",
       "    </tr>\n",
       "    <tr>\n",
       "      <th>two</th>\n",
       "      <td>0.807953</td>\n",
       "      <td>0.099743</td>\n",
       "      <td>0.482649</td>\n",
       "      <td>0.585026</td>\n",
       "    </tr>\n",
       "    <tr>\n",
       "      <th>three</th>\n",
       "      <td>0.650091</td>\n",
       "      <td>0.573835</td>\n",
       "      <td>0.682240</td>\n",
       "      <td>0.290596</td>\n",
       "    </tr>\n",
       "    <tr>\n",
       "      <th>four</th>\n",
       "      <td>0.764525</td>\n",
       "      <td>0.937239</td>\n",
       "      <td>0.411027</td>\n",
       "      <td>0.872114</td>\n",
       "    </tr>\n",
       "    <tr>\n",
       "      <th>five</th>\n",
       "      <td>0.063225</td>\n",
       "      <td>0.637367</td>\n",
       "      <td>0.198528</td>\n",
       "      <td>0.140309</td>\n",
       "    </tr>\n",
       "    <tr>\n",
       "      <th>six</th>\n",
       "      <td>0.436890</td>\n",
       "      <td>0.982143</td>\n",
       "      <td>0.575153</td>\n",
       "      <td>0.941775</td>\n",
       "    </tr>\n",
       "  </tbody>\n",
       "</table>\n",
       "</div>\n",
       "      <button class=\"colab-df-convert\" onclick=\"convertToInteractive('df-b33126b2-a58f-43eb-a933-11ea69ce3f2f')\"\n",
       "              title=\"Convert this dataframe to an interactive table.\"\n",
       "              style=\"display:none;\">\n",
       "        \n",
       "  <svg xmlns=\"http://www.w3.org/2000/svg\" height=\"24px\"viewBox=\"0 0 24 24\"\n",
       "       width=\"24px\">\n",
       "    <path d=\"M0 0h24v24H0V0z\" fill=\"none\"/>\n",
       "    <path d=\"M18.56 5.44l.94 2.06.94-2.06 2.06-.94-2.06-.94-.94-2.06-.94 2.06-2.06.94zm-11 1L8.5 8.5l.94-2.06 2.06-.94-2.06-.94L8.5 2.5l-.94 2.06-2.06.94zm10 10l.94 2.06.94-2.06 2.06-.94-2.06-.94-.94-2.06-.94 2.06-2.06.94z\"/><path d=\"M17.41 7.96l-1.37-1.37c-.4-.4-.92-.59-1.43-.59-.52 0-1.04.2-1.43.59L10.3 9.45l-7.72 7.72c-.78.78-.78 2.05 0 2.83L4 21.41c.39.39.9.59 1.41.59.51 0 1.02-.2 1.41-.59l7.78-7.78 2.81-2.81c.8-.78.8-2.07 0-2.86zM5.41 20L4 18.59l7.72-7.72 1.47 1.35L5.41 20z\"/>\n",
       "  </svg>\n",
       "      </button>\n",
       "      \n",
       "  <style>\n",
       "    .colab-df-container {\n",
       "      display:flex;\n",
       "      flex-wrap:wrap;\n",
       "      gap: 12px;\n",
       "    }\n",
       "\n",
       "    .colab-df-convert {\n",
       "      background-color: #E8F0FE;\n",
       "      border: none;\n",
       "      border-radius: 50%;\n",
       "      cursor: pointer;\n",
       "      display: none;\n",
       "      fill: #1967D2;\n",
       "      height: 32px;\n",
       "      padding: 0 0 0 0;\n",
       "      width: 32px;\n",
       "    }\n",
       "\n",
       "    .colab-df-convert:hover {\n",
       "      background-color: #E2EBFA;\n",
       "      box-shadow: 0px 1px 2px rgba(60, 64, 67, 0.3), 0px 1px 3px 1px rgba(60, 64, 67, 0.15);\n",
       "      fill: #174EA6;\n",
       "    }\n",
       "\n",
       "    [theme=dark] .colab-df-convert {\n",
       "      background-color: #3B4455;\n",
       "      fill: #D2E3FC;\n",
       "    }\n",
       "\n",
       "    [theme=dark] .colab-df-convert:hover {\n",
       "      background-color: #434B5C;\n",
       "      box-shadow: 0px 1px 3px 1px rgba(0, 0, 0, 0.15);\n",
       "      filter: drop-shadow(0px 1px 2px rgba(0, 0, 0, 0.3));\n",
       "      fill: #FFFFFF;\n",
       "    }\n",
       "  </style>\n",
       "\n",
       "      <script>\n",
       "        const buttonEl =\n",
       "          document.querySelector('#df-b33126b2-a58f-43eb-a933-11ea69ce3f2f button.colab-df-convert');\n",
       "        buttonEl.style.display =\n",
       "          google.colab.kernel.accessAllowed ? 'block' : 'none';\n",
       "\n",
       "        async function convertToInteractive(key) {\n",
       "          const element = document.querySelector('#df-b33126b2-a58f-43eb-a933-11ea69ce3f2f');\n",
       "          const dataTable =\n",
       "            await google.colab.kernel.invokeFunction('convertToInteractive',\n",
       "                                                     [key], {});\n",
       "          if (!dataTable) return;\n",
       "\n",
       "          const docLinkHtml = 'Like what you see? Visit the ' +\n",
       "            '<a target=\"_blank\" href=https://colab.research.google.com/notebooks/data_table.ipynb>data table notebook</a>'\n",
       "            + ' to learn more about interactive tables.';\n",
       "          element.innerHTML = '';\n",
       "          dataTable['output_type'] = 'display_data';\n",
       "          await google.colab.output.renderOutput(dataTable, element);\n",
       "          const docLink = document.createElement('div');\n",
       "          docLink.innerHTML = docLinkHtml;\n",
       "          element.appendChild(docLink);\n",
       "        }\n",
       "      </script>\n",
       "    </div>\n",
       "  </div>\n",
       "  "
      ],
      "text/plain": [
       "Genus         A         B         C         D\n",
       "one    0.029861  0.985691  0.841800  0.538494\n",
       "two    0.807953  0.099743  0.482649  0.585026\n",
       "three  0.650091  0.573835  0.682240  0.290596\n",
       "four   0.764525  0.937239  0.411027  0.872114\n",
       "five   0.063225  0.637367  0.198528  0.140309\n",
       "six    0.436890  0.982143  0.575153  0.941775"
      ]
     },
     "execution_count": 27,
     "metadata": {},
     "output_type": "execute_result"
    }
   ],
   "source": [
    "df"
   ]
  },
  {
   "cell_type": "code",
   "execution_count": null,
   "metadata": {
    "colab": {
     "base_uri": "https://localhost:8080/",
     "height": 299
    },
    "collapsed": false,
    "executionInfo": {
     "elapsed": 1263,
     "status": "ok",
     "timestamp": 1678649411376,
     "user": {
      "displayName": "Александр Александров",
      "userId": "05407862560270528968"
     },
     "user_tz": -180
    },
    "id": "F8eeFZ0LPd04",
    "jupyter": {
     "outputs_hidden": false
    },
    "outputId": "ae3a51d0-3c8e-4bcc-d237-63612ee00aca"
   },
   "outputs": [
    {
     "data": {
      "text/plain": [
       "<AxesSubplot:>"
      ]
     },
     "execution_count": 28,
     "metadata": {},
     "output_type": "execute_result"
    },
    {
     "data": {
      "image/png": "[encoded data removed]",
      "text/plain": [
       "<Figure size 432x288 with 1 Axes>"
      ]
     },
     "metadata": {
      "needs_background": "light"
     },
     "output_type": "display_data"
    }
   ],
   "source": [
    "df.plot.bar()"
   ]
  },
  {
   "cell_type": "markdown",
   "metadata": {
    "id": "BxUb7GH5Pd04"
   },
   "source": [
    "Обратите внимание на то, что имя столбцов `'Genus'` используется в\n",
    "качестве заголовка легенды. Для создания столбчатых диаграмм с\n",
    "накоплением для `DataFrame` задается параметр `stacked=True`, в\n",
    "результате чего значение в каждой строке будут сгруппировано вместе"
   ]
  },
  {
   "cell_type": "code",
   "execution_count": null,
   "metadata": {
    "colab": {
     "base_uri": "https://localhost:8080/",
     "height": 282
    },
    "collapsed": false,
    "executionInfo": {
     "elapsed": 421,
     "status": "ok",
     "timestamp": 1678649422754,
     "user": {
      "displayName": "Александр Александров",
      "userId": "05407862560270528968"
     },
     "user_tz": -180
    },
    "id": "yCxaY-BaPd04",
    "jupyter": {
     "outputs_hidden": false
    },
    "outputId": "757ecc95-d0a7-4d1c-d8f5-db210d1fae21"
   },
   "outputs": [
    {
     "data": {
      "text/plain": [
       "<AxesSubplot:>"
      ]
     },
     "execution_count": 29,
     "metadata": {},
     "output_type": "execute_result"
    },
    {
     "data": {
      "image/png": "[encoded data removed]",
      "text/plain": [
       "<Figure size 432x288 with 1 Axes>"
      ]
     },
     "metadata": {
      "needs_background": "light"
     },
     "output_type": "display_data"
    }
   ],
   "source": [
    "df.plot.barh(stacked=True, alpha=0.5)"
   ]
  },
  {
   "cell_type": "markdown",
   "metadata": {
    "id": "GyObyxHqPd04"
   },
   "source": [
    "Предположим, что есть набор данных по счетам и чаевым в ресторане, и\n",
    "нам нужно построить столбчатую диаграмму с накоплением, показывающую\n",
    "процентное соотношение точек данных для каждого размера группы в\n",
    "каждый день.  Загрузим данные из файла\n",
    "tips.csv и создадим сводную по дням и размеру вечеринки\n",
    "(количество человек):"
   ]
  },
  {
   "cell_type": "code",
   "execution_count": null,
   "metadata": {
    "colab": {
     "base_uri": "https://localhost:8080/"
    },
    "executionInfo": {
     "elapsed": 19098,
     "status": "ok",
     "timestamp": 1678649553638,
     "user": {
      "displayName": "Александр Александров",
      "userId": "05407862560270528968"
     },
     "user_tz": -180
    },
    "id": "52buzL-WTwTm",
    "outputId": "89f684fb-6540-4a93-c064-355592c9267c"
   },
   "outputs": [
    {
     "name": "stdout",
     "output_type": "stream",
     "text": [
      "Mounted at /content/drive\n"
     ]
    }
   ],
   "source": [
    "from google.colab import drive\n",
    "drive.mount('/content/drive')"
   ]
  },
  {
   "cell_type": "code",
   "execution_count": null,
   "metadata": {
    "collapsed": false,
    "id": "P8_JVggmPd04",
    "jupyter": {
     "outputs_hidden": false
    }
   },
   "outputs": [],
   "source": [
    "tips = pd.read_csv('/content/drive/MyDrive/Colab Notebooks/занятие 2/tips.csv')"
   ]
  },
  {
   "cell_type": "code",
   "execution_count": null,
   "metadata": {
    "colab": {
     "base_uri": "https://localhost:8080/",
     "height": 206
    },
    "collapsed": false,
    "executionInfo": {
     "elapsed": 266,
     "status": "ok",
     "timestamp": 1678649665186,
     "user": {
      "displayName": "Александр Александров",
      "userId": "05407862560270528968"
     },
     "user_tz": -180
    },
    "id": "yD3YHBRVPd04",
    "jupyter": {
     "outputs_hidden": false
    },
    "outputId": "1d3974eb-d383-479a-e131-edbd31ab45e1"
   },
   "outputs": [
    {
     "data": {
      "text/html": [
       "\n",
       "  <div id=\"df-ddccb355-a5e6-4f22-810c-3c1933bb32ba\">\n",
       "    <div class=\"colab-df-container\">\n",
       "      <div>\n",
       "<style scoped>\n",
       "    .dataframe tbody tr th:only-of-type {\n",
       "        vertical-align: middle;\n",
       "    }\n",
       "\n",
       "    .dataframe tbody tr th {\n",
       "        vertical-align: top;\n",
       "    }\n",
       "\n",
       "    .dataframe thead th {\n",
       "        text-align: right;\n",
       "    }\n",
       "</style>\n",
       "<table border=\"1\" class=\"dataframe\">\n",
       "  <thead>\n",
       "    <tr style=\"text-align: right;\">\n",
       "      <th></th>\n",
       "      <th>total_bill</th>\n",
       "      <th>tip</th>\n",
       "      <th>smoker</th>\n",
       "      <th>day</th>\n",
       "      <th>time</th>\n",
       "      <th>size</th>\n",
       "    </tr>\n",
       "  </thead>\n",
       "  <tbody>\n",
       "    <tr>\n",
       "      <th>0</th>\n",
       "      <td>16.99</td>\n",
       "      <td>1.01</td>\n",
       "      <td>No</td>\n",
       "      <td>Sun</td>\n",
       "      <td>Dinner</td>\n",
       "      <td>2</td>\n",
       "    </tr>\n",
       "    <tr>\n",
       "      <th>1</th>\n",
       "      <td>10.34</td>\n",
       "      <td>1.66</td>\n",
       "      <td>No</td>\n",
       "      <td>Sun</td>\n",
       "      <td>Dinner</td>\n",
       "      <td>3</td>\n",
       "    </tr>\n",
       "    <tr>\n",
       "      <th>2</th>\n",
       "      <td>21.01</td>\n",
       "      <td>3.50</td>\n",
       "      <td>No</td>\n",
       "      <td>Sun</td>\n",
       "      <td>Dinner</td>\n",
       "      <td>3</td>\n",
       "    </tr>\n",
       "    <tr>\n",
       "      <th>3</th>\n",
       "      <td>23.68</td>\n",
       "      <td>3.31</td>\n",
       "      <td>No</td>\n",
       "      <td>Sun</td>\n",
       "      <td>Dinner</td>\n",
       "      <td>2</td>\n",
       "    </tr>\n",
       "    <tr>\n",
       "      <th>4</th>\n",
       "      <td>24.59</td>\n",
       "      <td>3.61</td>\n",
       "      <td>No</td>\n",
       "      <td>Sun</td>\n",
       "      <td>Dinner</td>\n",
       "      <td>4</td>\n",
       "    </tr>\n",
       "  </tbody>\n",
       "</table>\n",
       "</div>\n",
       "      <button class=\"colab-df-convert\" onclick=\"convertToInteractive('df-ddccb355-a5e6-4f22-810c-3c1933bb32ba')\"\n",
       "              title=\"Convert this dataframe to an interactive table.\"\n",
       "              style=\"display:none;\">\n",
       "        \n",
       "  <svg xmlns=\"http://www.w3.org/2000/svg\" height=\"24px\"viewBox=\"0 0 24 24\"\n",
       "       width=\"24px\">\n",
       "    <path d=\"M0 0h24v24H0V0z\" fill=\"none\"/>\n",
       "    <path d=\"M18.56 5.44l.94 2.06.94-2.06 2.06-.94-2.06-.94-.94-2.06-.94 2.06-2.06.94zm-11 1L8.5 8.5l.94-2.06 2.06-.94-2.06-.94L8.5 2.5l-.94 2.06-2.06.94zm10 10l.94 2.06.94-2.06 2.06-.94-2.06-.94-.94-2.06-.94 2.06-2.06.94z\"/><path d=\"M17.41 7.96l-1.37-1.37c-.4-.4-.92-.59-1.43-.59-.52 0-1.04.2-1.43.59L10.3 9.45l-7.72 7.72c-.78.78-.78 2.05 0 2.83L4 21.41c.39.39.9.59 1.41.59.51 0 1.02-.2 1.41-.59l7.78-7.78 2.81-2.81c.8-.78.8-2.07 0-2.86zM5.41 20L4 18.59l7.72-7.72 1.47 1.35L5.41 20z\"/>\n",
       "  </svg>\n",
       "      </button>\n",
       "      \n",
       "  <style>\n",
       "    .colab-df-container {\n",
       "      display:flex;\n",
       "      flex-wrap:wrap;\n",
       "      gap: 12px;\n",
       "    }\n",
       "\n",
       "    .colab-df-convert {\n",
       "      background-color: #E8F0FE;\n",
       "      border: none;\n",
       "      border-radius: 50%;\n",
       "      cursor: pointer;\n",
       "      display: none;\n",
       "      fill: #1967D2;\n",
       "      height: 32px;\n",
       "      padding: 0 0 0 0;\n",
       "      width: 32px;\n",
       "    }\n",
       "\n",
       "    .colab-df-convert:hover {\n",
       "      background-color: #E2EBFA;\n",
       "      box-shadow: 0px 1px 2px rgba(60, 64, 67, 0.3), 0px 1px 3px 1px rgba(60, 64, 67, 0.15);\n",
       "      fill: #174EA6;\n",
       "    }\n",
       "\n",
       "    [theme=dark] .colab-df-convert {\n",
       "      background-color: #3B4455;\n",
       "      fill: #D2E3FC;\n",
       "    }\n",
       "\n",
       "    [theme=dark] .colab-df-convert:hover {\n",
       "      background-color: #434B5C;\n",
       "      box-shadow: 0px 1px 3px 1px rgba(0, 0, 0, 0.15);\n",
       "      filter: drop-shadow(0px 1px 2px rgba(0, 0, 0, 0.3));\n",
       "      fill: #FFFFFF;\n",
       "    }\n",
       "  </style>\n",
       "\n",
       "      <script>\n",
       "        const buttonEl =\n",
       "          document.querySelector('#df-ddccb355-a5e6-4f22-810c-3c1933bb32ba button.colab-df-convert');\n",
       "        buttonEl.style.display =\n",
       "          google.colab.kernel.accessAllowed ? 'block' : 'none';\n",
       "\n",
       "        async function convertToInteractive(key) {\n",
       "          const element = document.querySelector('#df-ddccb355-a5e6-4f22-810c-3c1933bb32ba');\n",
       "          const dataTable =\n",
       "            await google.colab.kernel.invokeFunction('convertToInteractive',\n",
       "                                                     [key], {});\n",
       "          if (!dataTable) return;\n",
       "\n",
       "          const docLinkHtml = 'Like what you see? Visit the ' +\n",
       "            '<a target=\"_blank\" href=https://colab.research.google.com/notebooks/data_table.ipynb>data table notebook</a>'\n",
       "            + ' to learn more about interactive tables.';\n",
       "          element.innerHTML = '';\n",
       "          dataTable['output_type'] = 'display_data';\n",
       "          await google.colab.output.renderOutput(dataTable, element);\n",
       "          const docLink = document.createElement('div');\n",
       "          docLink.innerHTML = docLinkHtml;\n",
       "          element.appendChild(docLink);\n",
       "        }\n",
       "      </script>\n",
       "    </div>\n",
       "  </div>\n",
       "  "
      ],
      "text/plain": [
       "   total_bill   tip smoker  day    time  size\n",
       "0       16.99  1.01     No  Sun  Dinner     2\n",
       "1       10.34  1.66     No  Sun  Dinner     3\n",
       "2       21.01  3.50     No  Sun  Dinner     3\n",
       "3       23.68  3.31     No  Sun  Dinner     2\n",
       "4       24.59  3.61     No  Sun  Dinner     4"
      ]
     },
     "execution_count": 35,
     "metadata": {},
     "output_type": "execute_result"
    }
   ],
   "source": [
    "tips.head()"
   ]
  },
  {
   "cell_type": "code",
   "execution_count": null,
   "metadata": {
    "collapsed": false,
    "id": "08oQhAoRPd04",
    "jupyter": {
     "outputs_hidden": false
    }
   },
   "outputs": [],
   "source": [
    "party_counts = pd.crosstab(tips['day'], tips['size'])"
   ]
  },
  {
   "cell_type": "code",
   "execution_count": null,
   "metadata": {
    "colab": {
     "base_uri": "https://localhost:8080/",
     "height": 206
    },
    "collapsed": false,
    "executionInfo": {
     "elapsed": 267,
     "status": "ok",
     "timestamp": 1678649672117,
     "user": {
      "displayName": "Александр Александров",
      "userId": "05407862560270528968"
     },
     "user_tz": -180
    },
    "id": "gr5WYEPwPd04",
    "jupyter": {
     "outputs_hidden": false
    },
    "outputId": "7f7d5747-cc96-4dde-b9c9-e7f8a13d0d3b"
   },
   "outputs": [
    {
     "data": {
      "text/html": [
       "\n",
       "  <div id=\"df-63f621d1-ebe1-45cd-b539-c725ee9241ea\">\n",
       "    <div class=\"colab-df-container\">\n",
       "      <div>\n",
       "<style scoped>\n",
       "    .dataframe tbody tr th:only-of-type {\n",
       "        vertical-align: middle;\n",
       "    }\n",
       "\n",
       "    .dataframe tbody tr th {\n",
       "        vertical-align: top;\n",
       "    }\n",
       "\n",
       "    .dataframe thead th {\n",
       "        text-align: right;\n",
       "    }\n",
       "</style>\n",
       "<table border=\"1\" class=\"dataframe\">\n",
       "  <thead>\n",
       "    <tr style=\"text-align: right;\">\n",
       "      <th>size</th>\n",
       "      <th>1</th>\n",
       "      <th>2</th>\n",
       "      <th>3</th>\n",
       "      <th>4</th>\n",
       "      <th>5</th>\n",
       "      <th>6</th>\n",
       "    </tr>\n",
       "    <tr>\n",
       "      <th>day</th>\n",
       "      <th></th>\n",
       "      <th></th>\n",
       "      <th></th>\n",
       "      <th></th>\n",
       "      <th></th>\n",
       "      <th></th>\n",
       "    </tr>\n",
       "  </thead>\n",
       "  <tbody>\n",
       "    <tr>\n",
       "      <th>Fri</th>\n",
       "      <td>1</td>\n",
       "      <td>16</td>\n",
       "      <td>1</td>\n",
       "      <td>1</td>\n",
       "      <td>0</td>\n",
       "      <td>0</td>\n",
       "    </tr>\n",
       "    <tr>\n",
       "      <th>Sat</th>\n",
       "      <td>2</td>\n",
       "      <td>53</td>\n",
       "      <td>18</td>\n",
       "      <td>13</td>\n",
       "      <td>1</td>\n",
       "      <td>0</td>\n",
       "    </tr>\n",
       "    <tr>\n",
       "      <th>Sun</th>\n",
       "      <td>0</td>\n",
       "      <td>39</td>\n",
       "      <td>15</td>\n",
       "      <td>18</td>\n",
       "      <td>3</td>\n",
       "      <td>1</td>\n",
       "    </tr>\n",
       "    <tr>\n",
       "      <th>Thur</th>\n",
       "      <td>1</td>\n",
       "      <td>48</td>\n",
       "      <td>4</td>\n",
       "      <td>5</td>\n",
       "      <td>1</td>\n",
       "      <td>3</td>\n",
       "    </tr>\n",
       "  </tbody>\n",
       "</table>\n",
       "</div>\n",
       "      <button class=\"colab-df-convert\" onclick=\"convertToInteractive('df-63f621d1-ebe1-45cd-b539-c725ee9241ea')\"\n",
       "              title=\"Convert this dataframe to an interactive table.\"\n",
       "              style=\"display:none;\">\n",
       "        \n",
       "  <svg xmlns=\"http://www.w3.org/2000/svg\" height=\"24px\"viewBox=\"0 0 24 24\"\n",
       "       width=\"24px\">\n",
       "    <path d=\"M0 0h24v24H0V0z\" fill=\"none\"/>\n",
       "    <path d=\"M18.56 5.44l.94 2.06.94-2.06 2.06-.94-2.06-.94-.94-2.06-.94 2.06-2.06.94zm-11 1L8.5 8.5l.94-2.06 2.06-.94-2.06-.94L8.5 2.5l-.94 2.06-2.06.94zm10 10l.94 2.06.94-2.06 2.06-.94-2.06-.94-.94-2.06-.94 2.06-2.06.94z\"/><path d=\"M17.41 7.96l-1.37-1.37c-.4-.4-.92-.59-1.43-.59-.52 0-1.04.2-1.43.59L10.3 9.45l-7.72 7.72c-.78.78-.78 2.05 0 2.83L4 21.41c.39.39.9.59 1.41.59.51 0 1.02-.2 1.41-.59l7.78-7.78 2.81-2.81c.8-.78.8-2.07 0-2.86zM5.41 20L4 18.59l7.72-7.72 1.47 1.35L5.41 20z\"/>\n",
       "  </svg>\n",
       "      </button>\n",
       "      \n",
       "  <style>\n",
       "    .colab-df-container {\n",
       "      display:flex;\n",
       "      flex-wrap:wrap;\n",
       "      gap: 12px;\n",
       "    }\n",
       "\n",
       "    .colab-df-convert {\n",
       "      background-color: #E8F0FE;\n",
       "      border: none;\n",
       "      border-radius: 50%;\n",
       "      cursor: pointer;\n",
       "      display: none;\n",
       "      fill: #1967D2;\n",
       "      height: 32px;\n",
       "      padding: 0 0 0 0;\n",
       "      width: 32px;\n",
       "    }\n",
       "\n",
       "    .colab-df-convert:hover {\n",
       "      background-color: #E2EBFA;\n",
       "      box-shadow: 0px 1px 2px rgba(60, 64, 67, 0.3), 0px 1px 3px 1px rgba(60, 64, 67, 0.15);\n",
       "      fill: #174EA6;\n",
       "    }\n",
       "\n",
       "    [theme=dark] .colab-df-convert {\n",
       "      background-color: #3B4455;\n",
       "      fill: #D2E3FC;\n",
       "    }\n",
       "\n",
       "    [theme=dark] .colab-df-convert:hover {\n",
       "      background-color: #434B5C;\n",
       "      box-shadow: 0px 1px 3px 1px rgba(0, 0, 0, 0.15);\n",
       "      filter: drop-shadow(0px 1px 2px rgba(0, 0, 0, 0.3));\n",
       "      fill: #FFFFFF;\n",
       "    }\n",
       "  </style>\n",
       "\n",
       "      <script>\n",
       "        const buttonEl =\n",
       "          document.querySelector('#df-63f621d1-ebe1-45cd-b539-c725ee9241ea button.colab-df-convert');\n",
       "        buttonEl.style.display =\n",
       "          google.colab.kernel.accessAllowed ? 'block' : 'none';\n",
       "\n",
       "        async function convertToInteractive(key) {\n",
       "          const element = document.querySelector('#df-63f621d1-ebe1-45cd-b539-c725ee9241ea');\n",
       "          const dataTable =\n",
       "            await google.colab.kernel.invokeFunction('convertToInteractive',\n",
       "                                                     [key], {});\n",
       "          if (!dataTable) return;\n",
       "\n",
       "          const docLinkHtml = 'Like what you see? Visit the ' +\n",
       "            '<a target=\"_blank\" href=https://colab.research.google.com/notebooks/data_table.ipynb>data table notebook</a>'\n",
       "            + ' to learn more about interactive tables.';\n",
       "          element.innerHTML = '';\n",
       "          dataTable['output_type'] = 'display_data';\n",
       "          await google.colab.output.renderOutput(dataTable, element);\n",
       "          const docLink = document.createElement('div');\n",
       "          docLink.innerHTML = docLinkHtml;\n",
       "          element.appendChild(docLink);\n",
       "        }\n",
       "      </script>\n",
       "    </div>\n",
       "  </div>\n",
       "  "
      ],
      "text/plain": [
       "size  1   2   3   4  5  6\n",
       "day                      \n",
       "Fri   1  16   1   1  0  0\n",
       "Sat   2  53  18  13  1  0\n",
       "Sun   0  39  15  18  3  1\n",
       "Thur  1  48   4   5  1  3"
      ]
     },
     "execution_count": 37,
     "metadata": {},
     "output_type": "execute_result"
    }
   ],
   "source": [
    "party_counts"
   ]
  },
  {
   "cell_type": "code",
   "execution_count": null,
   "metadata": {
    "collapsed": false,
    "id": "QqweRZxNPd04",
    "jupyter": {
     "outputs_hidden": false
    }
   },
   "outputs": [],
   "source": [
    "party_counts = party_counts.loc[:, 2:5]"
   ]
  },
  {
   "cell_type": "markdown",
   "metadata": {
    "id": "t3O9lEcjPd04"
   },
   "source": [
    "Теперь нормализуем данные так, чтобы сумма в каждой строке была равна\n",
    "$1$ и построим столбчатую диаграмму:"
   ]
  },
  {
   "cell_type": "code",
   "execution_count": null,
   "metadata": {
    "collapsed": false,
    "id": "bPuHPlk6Pd05",
    "jupyter": {
     "outputs_hidden": false
    }
   },
   "outputs": [],
   "source": [
    "party_pcts = party_counts.div(party_counts.sum(1), axis=0)"
   ]
  },
  {
   "cell_type": "code",
   "execution_count": null,
   "metadata": {
    "colab": {
     "base_uri": "https://localhost:8080/",
     "height": 206
    },
    "collapsed": false,
    "executionInfo": {
     "elapsed": 661,
     "status": "ok",
     "timestamp": 1678649701260,
     "user": {
      "displayName": "Александр Александров",
      "userId": "05407862560270528968"
     },
     "user_tz": -180
    },
    "id": "kVzj0TuGPd05",
    "jupyter": {
     "outputs_hidden": false
    },
    "outputId": "09394819-6645-45da-d872-f0d1d092bff8"
   },
   "outputs": [
    {
     "data": {
      "text/html": [
       "\n",
       "  <div id=\"df-35f82cdb-1857-45a8-9542-8465a3a5b320\">\n",
       "    <div class=\"colab-df-container\">\n",
       "      <div>\n",
       "<style scoped>\n",
       "    .dataframe tbody tr th:only-of-type {\n",
       "        vertical-align: middle;\n",
       "    }\n",
       "\n",
       "    .dataframe tbody tr th {\n",
       "        vertical-align: top;\n",
       "    }\n",
       "\n",
       "    .dataframe thead th {\n",
       "        text-align: right;\n",
       "    }\n",
       "</style>\n",
       "<table border=\"1\" class=\"dataframe\">\n",
       "  <thead>\n",
       "    <tr style=\"text-align: right;\">\n",
       "      <th>size</th>\n",
       "      <th>2</th>\n",
       "      <th>3</th>\n",
       "      <th>4</th>\n",
       "      <th>5</th>\n",
       "    </tr>\n",
       "    <tr>\n",
       "      <th>day</th>\n",
       "      <th></th>\n",
       "      <th></th>\n",
       "      <th></th>\n",
       "      <th></th>\n",
       "    </tr>\n",
       "  </thead>\n",
       "  <tbody>\n",
       "    <tr>\n",
       "      <th>Fri</th>\n",
       "      <td>0.888889</td>\n",
       "      <td>0.055556</td>\n",
       "      <td>0.055556</td>\n",
       "      <td>0.000000</td>\n",
       "    </tr>\n",
       "    <tr>\n",
       "      <th>Sat</th>\n",
       "      <td>0.623529</td>\n",
       "      <td>0.211765</td>\n",
       "      <td>0.152941</td>\n",
       "      <td>0.011765</td>\n",
       "    </tr>\n",
       "    <tr>\n",
       "      <th>Sun</th>\n",
       "      <td>0.520000</td>\n",
       "      <td>0.200000</td>\n",
       "      <td>0.240000</td>\n",
       "      <td>0.040000</td>\n",
       "    </tr>\n",
       "    <tr>\n",
       "      <th>Thur</th>\n",
       "      <td>0.827586</td>\n",
       "      <td>0.068966</td>\n",
       "      <td>0.086207</td>\n",
       "      <td>0.017241</td>\n",
       "    </tr>\n",
       "  </tbody>\n",
       "</table>\n",
       "</div>\n",
       "      <button class=\"colab-df-convert\" onclick=\"convertToInteractive('df-35f82cdb-1857-45a8-9542-8465a3a5b320')\"\n",
       "              title=\"Convert this dataframe to an interactive table.\"\n",
       "              style=\"display:none;\">\n",
       "        \n",
       "  <svg xmlns=\"http://www.w3.org/2000/svg\" height=\"24px\"viewBox=\"0 0 24 24\"\n",
       "       width=\"24px\">\n",
       "    <path d=\"M0 0h24v24H0V0z\" fill=\"none\"/>\n",
       "    <path d=\"M18.56 5.44l.94 2.06.94-2.06 2.06-.94-2.06-.94-.94-2.06-.94 2.06-2.06.94zm-11 1L8.5 8.5l.94-2.06 2.06-.94-2.06-.94L8.5 2.5l-.94 2.06-2.06.94zm10 10l.94 2.06.94-2.06 2.06-.94-2.06-.94-.94-2.06-.94 2.06-2.06.94z\"/><path d=\"M17.41 7.96l-1.37-1.37c-.4-.4-.92-.59-1.43-.59-.52 0-1.04.2-1.43.59L10.3 9.45l-7.72 7.72c-.78.78-.78 2.05 0 2.83L4 21.41c.39.39.9.59 1.41.59.51 0 1.02-.2 1.41-.59l7.78-7.78 2.81-2.81c.8-.78.8-2.07 0-2.86zM5.41 20L4 18.59l7.72-7.72 1.47 1.35L5.41 20z\"/>\n",
       "  </svg>\n",
       "      </button>\n",
       "      \n",
       "  <style>\n",
       "    .colab-df-container {\n",
       "      display:flex;\n",
       "      flex-wrap:wrap;\n",
       "      gap: 12px;\n",
       "    }\n",
       "\n",
       "    .colab-df-convert {\n",
       "      background-color: #E8F0FE;\n",
       "      border: none;\n",
       "      border-radius: 50%;\n",
       "      cursor: pointer;\n",
       "      display: none;\n",
       "      fill: #1967D2;\n",
       "      height: 32px;\n",
       "      padding: 0 0 0 0;\n",
       "      width: 32px;\n",
       "    }\n",
       "\n",
       "    .colab-df-convert:hover {\n",
       "      background-color: #E2EBFA;\n",
       "      box-shadow: 0px 1px 2px rgba(60, 64, 67, 0.3), 0px 1px 3px 1px rgba(60, 64, 67, 0.15);\n",
       "      fill: #174EA6;\n",
       "    }\n",
       "\n",
       "    [theme=dark] .colab-df-convert {\n",
       "      background-color: #3B4455;\n",
       "      fill: #D2E3FC;\n",
       "    }\n",
       "\n",
       "    [theme=dark] .colab-df-convert:hover {\n",
       "      background-color: #434B5C;\n",
       "      box-shadow: 0px 1px 3px 1px rgba(0, 0, 0, 0.15);\n",
       "      filter: drop-shadow(0px 1px 2px rgba(0, 0, 0, 0.3));\n",
       "      fill: #FFFFFF;\n",
       "    }\n",
       "  </style>\n",
       "\n",
       "      <script>\n",
       "        const buttonEl =\n",
       "          document.querySelector('#df-35f82cdb-1857-45a8-9542-8465a3a5b320 button.colab-df-convert');\n",
       "        buttonEl.style.display =\n",
       "          google.colab.kernel.accessAllowed ? 'block' : 'none';\n",
       "\n",
       "        async function convertToInteractive(key) {\n",
       "          const element = document.querySelector('#df-35f82cdb-1857-45a8-9542-8465a3a5b320');\n",
       "          const dataTable =\n",
       "            await google.colab.kernel.invokeFunction('convertToInteractive',\n",
       "                                                     [key], {});\n",
       "          if (!dataTable) return;\n",
       "\n",
       "          const docLinkHtml = 'Like what you see? Visit the ' +\n",
       "            '<a target=\"_blank\" href=https://colab.research.google.com/notebooks/data_table.ipynb>data table notebook</a>'\n",
       "            + ' to learn more about interactive tables.';\n",
       "          element.innerHTML = '';\n",
       "          dataTable['output_type'] = 'display_data';\n",
       "          await google.colab.output.renderOutput(dataTable, element);\n",
       "          const docLink = document.createElement('div');\n",
       "          docLink.innerHTML = docLinkHtml;\n",
       "          element.appendChild(docLink);\n",
       "        }\n",
       "      </script>\n",
       "    </div>\n",
       "  </div>\n",
       "  "
      ],
      "text/plain": [
       "size         2         3         4         5\n",
       "day                                         \n",
       "Fri   0.888889  0.055556  0.055556  0.000000\n",
       "Sat   0.623529  0.211765  0.152941  0.011765\n",
       "Sun   0.520000  0.200000  0.240000  0.040000\n",
       "Thur  0.827586  0.068966  0.086207  0.017241"
      ]
     },
     "execution_count": 40,
     "metadata": {},
     "output_type": "execute_result"
    }
   ],
   "source": [
    "party_pcts"
   ]
  },
  {
   "cell_type": "code",
   "execution_count": null,
   "metadata": {
    "colab": {
     "base_uri": "https://localhost:8080/",
     "height": 309
    },
    "collapsed": false,
    "executionInfo": {
     "elapsed": 1228,
     "status": "ok",
     "timestamp": 1678649709874,
     "user": {
      "displayName": "Александр Александров",
      "userId": "05407862560270528968"
     },
     "user_tz": -180
    },
    "id": "RRCNZLtIPd05",
    "jupyter": {
     "outputs_hidden": false
    },
    "outputId": "1f69a726-4299-4a8b-a1af-dbc25016013c"
   },
   "outputs": [
    {
     "data": {
      "text/plain": [
       "<AxesSubplot:xlabel='day'>"
      ]
     },
     "execution_count": 41,
     "metadata": {},
     "output_type": "execute_result"
    },
    {
     "data": {
      "image/png": "[encoded data removed]",
      "text/plain": [
       "<Figure size 432x288 with 1 Axes>"
      ]
     },
     "metadata": {
      "needs_background": "light"
     },
     "output_type": "display_data"
    }
   ],
   "source": [
    "party_pcts.plot.bar()"
   ]
  },
  {
   "cell_type": "markdown",
   "metadata": {
    "id": "_DK3eYcZPd05"
   },
   "source": [
    "Таким образом, видно, что количество участников вечеринок\n",
    "в данном наборе увеличивается в выходные дни.\n",
    "\n",
    "В случае, если требуется агрегировать или суммировать данные перед\n",
    "построением графика, использование пакета `seaborn` может значительно\n",
    "упростить задачу. Давайте посмотрим на процент чаевых в день с помощью\n",
    "библиотеки `seaborn`:"
   ]
  },
  {
   "cell_type": "code",
   "execution_count": null,
   "metadata": {
    "collapsed": false,
    "id": "wt41C1NcPd05",
    "jupyter": {
     "outputs_hidden": false
    }
   },
   "outputs": [],
   "source": [
    "import seaborn as sns"
   ]
  },
  {
   "cell_type": "code",
   "execution_count": null,
   "metadata": {
    "collapsed": false,
    "id": "p4T5YataPd05",
    "jupyter": {
     "outputs_hidden": false
    }
   },
   "outputs": [],
   "source": [
    "tips['tip_pct'] = tips['tip']/(tips['total_bill'] - tips['tip'])"
   ]
  },
  {
   "cell_type": "code",
   "execution_count": null,
   "metadata": {
    "colab": {
     "base_uri": "https://localhost:8080/",
     "height": 206
    },
    "collapsed": false,
    "executionInfo": {
     "elapsed": 3,
     "status": "ok",
     "timestamp": 1678649731461,
     "user": {
      "displayName": "Александр Александров",
      "userId": "05407862560270528968"
     },
     "user_tz": -180
    },
    "id": "82tFMXbUPd05",
    "jupyter": {
     "outputs_hidden": false
    },
    "outputId": "1ff1c685-5fae-439d-d8dd-121753a14855"
   },
   "outputs": [
    {
     "data": {
      "text/html": [
       "\n",
       "  <div id=\"df-b4d8addd-eecc-4d39-9a5b-42258cba347b\">\n",
       "    <div class=\"colab-df-container\">\n",
       "      <div>\n",
       "<style scoped>\n",
       "    .dataframe tbody tr th:only-of-type {\n",
       "        vertical-align: middle;\n",
       "    }\n",
       "\n",
       "    .dataframe tbody tr th {\n",
       "        vertical-align: top;\n",
       "    }\n",
       "\n",
       "    .dataframe thead th {\n",
       "        text-align: right;\n",
       "    }\n",
       "</style>\n",
       "<table border=\"1\" class=\"dataframe\">\n",
       "  <thead>\n",
       "    <tr style=\"text-align: right;\">\n",
       "      <th></th>\n",
       "      <th>total_bill</th>\n",
       "      <th>tip</th>\n",
       "      <th>smoker</th>\n",
       "      <th>day</th>\n",
       "      <th>time</th>\n",
       "      <th>size</th>\n",
       "      <th>tip_pct</th>\n",
       "    </tr>\n",
       "  </thead>\n",
       "  <tbody>\n",
       "    <tr>\n",
       "      <th>0</th>\n",
       "      <td>16.99</td>\n",
       "      <td>1.01</td>\n",
       "      <td>No</td>\n",
       "      <td>Sun</td>\n",
       "      <td>Dinner</td>\n",
       "      <td>2</td>\n",
       "      <td>0.063204</td>\n",
       "    </tr>\n",
       "    <tr>\n",
       "      <th>1</th>\n",
       "      <td>10.34</td>\n",
       "      <td>1.66</td>\n",
       "      <td>No</td>\n",
       "      <td>Sun</td>\n",
       "      <td>Dinner</td>\n",
       "      <td>3</td>\n",
       "      <td>0.191244</td>\n",
       "    </tr>\n",
       "    <tr>\n",
       "      <th>2</th>\n",
       "      <td>21.01</td>\n",
       "      <td>3.50</td>\n",
       "      <td>No</td>\n",
       "      <td>Sun</td>\n",
       "      <td>Dinner</td>\n",
       "      <td>3</td>\n",
       "      <td>0.199886</td>\n",
       "    </tr>\n",
       "    <tr>\n",
       "      <th>3</th>\n",
       "      <td>23.68</td>\n",
       "      <td>3.31</td>\n",
       "      <td>No</td>\n",
       "      <td>Sun</td>\n",
       "      <td>Dinner</td>\n",
       "      <td>2</td>\n",
       "      <td>0.162494</td>\n",
       "    </tr>\n",
       "    <tr>\n",
       "      <th>4</th>\n",
       "      <td>24.59</td>\n",
       "      <td>3.61</td>\n",
       "      <td>No</td>\n",
       "      <td>Sun</td>\n",
       "      <td>Dinner</td>\n",
       "      <td>4</td>\n",
       "      <td>0.172069</td>\n",
       "    </tr>\n",
       "  </tbody>\n",
       "</table>\n",
       "</div>\n",
       "      <button class=\"colab-df-convert\" onclick=\"convertToInteractive('df-b4d8addd-eecc-4d39-9a5b-42258cba347b')\"\n",
       "              title=\"Convert this dataframe to an interactive table.\"\n",
       "              style=\"display:none;\">\n",
       "        \n",
       "  <svg xmlns=\"http://www.w3.org/2000/svg\" height=\"24px\"viewBox=\"0 0 24 24\"\n",
       "       width=\"24px\">\n",
       "    <path d=\"M0 0h24v24H0V0z\" fill=\"none\"/>\n",
       "    <path d=\"M18.56 5.44l.94 2.06.94-2.06 2.06-.94-2.06-.94-.94-2.06-.94 2.06-2.06.94zm-11 1L8.5 8.5l.94-2.06 2.06-.94-2.06-.94L8.5 2.5l-.94 2.06-2.06.94zm10 10l.94 2.06.94-2.06 2.06-.94-2.06-.94-.94-2.06-.94 2.06-2.06.94z\"/><path d=\"M17.41 7.96l-1.37-1.37c-.4-.4-.92-.59-1.43-.59-.52 0-1.04.2-1.43.59L10.3 9.45l-7.72 7.72c-.78.78-.78 2.05 0 2.83L4 21.41c.39.39.9.59 1.41.59.51 0 1.02-.2 1.41-.59l7.78-7.78 2.81-2.81c.8-.78.8-2.07 0-2.86zM5.41 20L4 18.59l7.72-7.72 1.47 1.35L5.41 20z\"/>\n",
       "  </svg>\n",
       "      </button>\n",
       "      \n",
       "  <style>\n",
       "    .colab-df-container {\n",
       "      display:flex;\n",
       "      flex-wrap:wrap;\n",
       "      gap: 12px;\n",
       "    }\n",
       "\n",
       "    .colab-df-convert {\n",
       "      background-color: #E8F0FE;\n",
       "      border: none;\n",
       "      border-radius: 50%;\n",
       "      cursor: pointer;\n",
       "      display: none;\n",
       "      fill: #1967D2;\n",
       "      height: 32px;\n",
       "      padding: 0 0 0 0;\n",
       "      width: 32px;\n",
       "    }\n",
       "\n",
       "    .colab-df-convert:hover {\n",
       "      background-color: #E2EBFA;\n",
       "      box-shadow: 0px 1px 2px rgba(60, 64, 67, 0.3), 0px 1px 3px 1px rgba(60, 64, 67, 0.15);\n",
       "      fill: #174EA6;\n",
       "    }\n",
       "\n",
       "    [theme=dark] .colab-df-convert {\n",
       "      background-color: #3B4455;\n",
       "      fill: #D2E3FC;\n",
       "    }\n",
       "\n",
       "    [theme=dark] .colab-df-convert:hover {\n",
       "      background-color: #434B5C;\n",
       "      box-shadow: 0px 1px 3px 1px rgba(0, 0, 0, 0.15);\n",
       "      filter: drop-shadow(0px 1px 2px rgba(0, 0, 0, 0.3));\n",
       "      fill: #FFFFFF;\n",
       "    }\n",
       "  </style>\n",
       "\n",
       "      <script>\n",
       "        const buttonEl =\n",
       "          document.querySelector('#df-b4d8addd-eecc-4d39-9a5b-42258cba347b button.colab-df-convert');\n",
       "        buttonEl.style.display =\n",
       "          google.colab.kernel.accessAllowed ? 'block' : 'none';\n",
       "\n",
       "        async function convertToInteractive(key) {\n",
       "          const element = document.querySelector('#df-b4d8addd-eecc-4d39-9a5b-42258cba347b');\n",
       "          const dataTable =\n",
       "            await google.colab.kernel.invokeFunction('convertToInteractive',\n",
       "                                                     [key], {});\n",
       "          if (!dataTable) return;\n",
       "\n",
       "          const docLinkHtml = 'Like what you see? Visit the ' +\n",
       "            '<a target=\"_blank\" href=https://colab.research.google.com/notebooks/data_table.ipynb>data table notebook</a>'\n",
       "            + ' to learn more about interactive tables.';\n",
       "          element.innerHTML = '';\n",
       "          dataTable['output_type'] = 'display_data';\n",
       "          await google.colab.output.renderOutput(dataTable, element);\n",
       "          const docLink = document.createElement('div');\n",
       "          docLink.innerHTML = docLinkHtml;\n",
       "          element.appendChild(docLink);\n",
       "        }\n",
       "      </script>\n",
       "    </div>\n",
       "  </div>\n",
       "  "
      ],
      "text/plain": [
       "   total_bill   tip smoker  day    time  size   tip_pct\n",
       "0       16.99  1.01     No  Sun  Dinner     2  0.063204\n",
       "1       10.34  1.66     No  Sun  Dinner     3  0.191244\n",
       "2       21.01  3.50     No  Sun  Dinner     3  0.199886\n",
       "3       23.68  3.31     No  Sun  Dinner     2  0.162494\n",
       "4       24.59  3.61     No  Sun  Dinner     4  0.172069"
      ]
     },
     "execution_count": 44,
     "metadata": {},
     "output_type": "execute_result"
    }
   ],
   "source": [
    "tips.head()"
   ]
  },
  {
   "cell_type": "code",
   "execution_count": null,
   "metadata": {
    "colab": {
     "base_uri": "https://localhost:8080/",
     "height": 297
    },
    "collapsed": false,
    "executionInfo": {
     "elapsed": 528,
     "status": "ok",
     "timestamp": 1678649735010,
     "user": {
      "displayName": "Александр Александров",
      "userId": "05407862560270528968"
     },
     "user_tz": -180
    },
    "id": "9ntCneCmPd05",
    "jupyter": {
     "outputs_hidden": false
    },
    "outputId": "6799f4ec-aae3-4b6c-da3a-6fffad172f7b"
   },
   "outputs": [
    {
     "data": {
      "text/plain": [
       "<AxesSubplot:xlabel='tip_pct', ylabel='day'>"
      ]
     },
     "execution_count": 45,
     "metadata": {},
     "output_type": "execute_result"
    },
    {
     "data": {
      "image/png": "[encoded data removed]",
      "text/plain": [
       "<Figure size 432x288 with 1 Axes>"
      ]
     },
     "metadata": {
      "needs_background": "light"
     },
     "output_type": "display_data"
    }
   ],
   "source": [
    "sns.barplot(x='tip_pct', y='day', data=tips, orient='h')"
   ]
  },
  {
   "cell_type": "markdown",
   "metadata": {
    "id": "vNiLmSIiPd05"
   },
   "source": [
    "Функция `barplot` библиотеки `seaborn` принимает параметр `data`, который\n",
    "может быть объектом `DataFrame`. Остальные параметры ссылаются на\n",
    "имена столбцов. Поскольку в день имеется несколько наблюдений, то\n",
    "столбцы диаграммы представляют собой среднее значение параметра\n",
    "`tip_pct`. Черные линии, нарисованные на столбцах диаграммы,\n",
    "представляют 95-процентный доверительный интервал (это можно настроить\n",
    "с помощью опционального параметра). \n",
    "\n",
    "Функция `barplot` имеет параметр `hue`, который позволяет разделить\n",
    "отображение по дополнительному категориальному значению:"
   ]
  },
  {
   "cell_type": "code",
   "execution_count": null,
   "metadata": {
    "colab": {
     "base_uri": "https://localhost:8080/",
     "height": 297
    },
    "collapsed": false,
    "executionInfo": {
     "elapsed": 536,
     "status": "ok",
     "timestamp": 1678649815940,
     "user": {
      "displayName": "Александр Александров",
      "userId": "05407862560270528968"
     },
     "user_tz": -180
    },
    "id": "3uLdUo_8Pd05",
    "jupyter": {
     "outputs_hidden": false
    },
    "outputId": "71e06358-e1bc-45f8-c91e-0bc6d6b60f67"
   },
   "outputs": [
    {
     "data": {
      "text/plain": [
       "<AxesSubplot:xlabel='tip_pct', ylabel='day'>"
      ]
     },
     "execution_count": 46,
     "metadata": {},
     "output_type": "execute_result"
    },
    {
     "data": {
      "image/png": "[encoded data removed]",
      "text/plain": [
       "<Figure size 432x288 with 1 Axes>"
      ]
     },
     "metadata": {
      "needs_background": "light"
     },
     "output_type": "display_data"
    }
   ],
   "source": [
    "sns.barplot(x='tip_pct', y='day', hue='time', data=tips, orient='h')"
   ]
  },
  {
   "cell_type": "markdown",
   "metadata": {
    "id": "HRx8KTrfPd06"
   },
   "source": [
    "## Гистограммы и графики плотности распределения\n",
    "\n",
    "*Гистограмма* — это своего рода столбчатая диаграмма, которая дает\n",
    "дискретное отображение частоты значений.  Составим гистограмму\n",
    "процентных долей от общего счета, используя метод `plot.hist` объекта\n",
    "`Series`:"
   ]
  },
  {
   "cell_type": "code",
   "execution_count": null,
   "metadata": {
    "colab": {
     "base_uri": "https://localhost:8080/",
     "height": 282
    },
    "collapsed": false,
    "executionInfo": {
     "elapsed": 811,
     "status": "ok",
     "timestamp": 1678649837855,
     "user": {
      "displayName": "Александр Александров",
      "userId": "05407862560270528968"
     },
     "user_tz": -180
    },
    "id": "KdyvrsvbPd06",
    "jupyter": {
     "outputs_hidden": false
    },
    "outputId": "b63765f9-93fd-4a8d-9879-926f072bf028"
   },
   "outputs": [
    {
     "data": {
      "text/plain": [
       "<AxesSubplot:ylabel='Frequency'>"
      ]
     },
     "execution_count": 47,
     "metadata": {},
     "output_type": "execute_result"
    },
    {
     "data": {
      "image/png": "[encoded data removed]",
      "text/plain": [
       "<Figure size 432x288 with 1 Axes>"
      ]
     },
     "metadata": {
      "needs_background": "light"
     },
     "output_type": "display_data"
    }
   ],
   "source": [
    "tips['tip_pct'].plot.hist(bins=50)"
   ]
  },
  {
   "cell_type": "markdown",
   "metadata": {
    "id": "fZEZ9MIHPd06"
   },
   "source": [
    "Связанный с гистограммой тип графиков — *график плотности*, \n",
    "который формируется путем вычисления оценки непрерывного распределения\n",
    "вероятности, которое могло бы генерироваться наблюдаемыми данными.\n",
    "Обычная процедура заключается в аппроксимации этого распределение как\n",
    "смеси «ядер», то есть более простых распределений, таких как нормальное\n",
    "распределение. Таким образом, графики под графиками плотности также\n",
    "можно понимать графики оценки плотности ядра\n",
    "(*K*ernel *D*ensity *E*stimate). Функции `plot.kde` и `plot.density`\n",
    "строят график плотности, используя подход KDE:"
   ]
  },
  {
   "cell_type": "code",
   "execution_count": null,
   "metadata": {
    "colab": {
     "base_uri": "https://localhost:8080/",
     "height": 282
    },
    "collapsed": false,
    "executionInfo": {
     "elapsed": 544,
     "status": "ok",
     "timestamp": 1678649847910,
     "user": {
      "displayName": "Александр Александров",
      "userId": "05407862560270528968"
     },
     "user_tz": -180
    },
    "id": "nUvGKQWsPd06",
    "jupyter": {
     "outputs_hidden": false
    },
    "outputId": "28184724-aad2-42e1-9740-96f4c1be36a7"
   },
   "outputs": [
    {
     "data": {
      "text/plain": [
       "<AxesSubplot:ylabel='Density'>"
      ]
     },
     "execution_count": 48,
     "metadata": {},
     "output_type": "execute_result"
    },
    {
     "data": {
      "image/png": "[encoded data removed]",
      "text/plain": [
       "<Figure size 432x288 with 1 Axes>"
      ]
     },
     "metadata": {
      "needs_background": "light"
     },
     "output_type": "display_data"
    }
   ],
   "source": [
    "tips['tip_pct'].plot.kde()"
   ]
  },
  {
   "cell_type": "markdown",
   "metadata": {
    "id": "H1qkhUllPd06"
   },
   "source": [
    "Библиотека `seaborn` упрощает создание гистограмм и графиков плотности\n",
    "с помощью метода `distplot`, который позволяет одновременно строить как\n",
    "гистограмму, так и непрерывную оценку плотности. В качестве примера\n",
    "рассмотрим бимодальное распределение, состоящее из двух разных\n",
    "стандартных нормальных распределений:"
   ]
  },
  {
   "cell_type": "code",
   "execution_count": null,
   "metadata": {
    "collapsed": false,
    "id": "egLviGhvPd06",
    "jupyter": {
     "outputs_hidden": false
    }
   },
   "outputs": [],
   "source": [
    "comp1 = np.random.normal(0, 1, size=200)\n",
    "comp2 = np.random.normal(10, 2, size=200)\n",
    "values = pd.Series(np.concatenate([comp1, comp2]))"
   ]
  },
  {
   "cell_type": "code",
   "execution_count": null,
   "metadata": {
    "colab": {
     "base_uri": "https://localhost:8080/",
     "height": 337
    },
    "collapsed": false,
    "executionInfo": {
     "elapsed": 564,
     "status": "ok",
     "timestamp": 1678649858460,
     "user": {
      "displayName": "Александр Александров",
      "userId": "05407862560270528968"
     },
     "user_tz": -180
    },
    "id": "LDQxdb9QPd06",
    "jupyter": {
     "outputs_hidden": false
    },
    "outputId": "5f239028-95a8-4d49-df93-6fc978be4a79"
   },
   "outputs": [
    {
     "name": "stderr",
     "output_type": "stream",
     "text": [
      "/usr/local/lib/python3.9/dist-packages/seaborn/distributions.py:2619: FutureWarning: `distplot` is a deprecated function and will be removed in a future version. Please adapt your code to use either `displot` (a figure-level function with similar flexibility) or `histplot` (an axes-level function for histograms).\n",
      "  warnings.warn(msg, FutureWarning)\n"
     ]
    },
    {
     "data": {
      "text/plain": [
       "<AxesSubplot:ylabel='Density'>"
      ]
     },
     "execution_count": 50,
     "metadata": {},
     "output_type": "execute_result"
    },
    {
     "data": {
      "image/png": "[encoded data removed]",
      "text/plain": [
       "<Figure size 432x288 with 1 Axes>"
      ]
     },
     "metadata": {
      "needs_background": "light"
     },
     "output_type": "display_data"
    }
   ],
   "source": [
    "sns.distplot(values, bins=100, color='k')"
   ]
  },
  {
   "cell_type": "markdown",
   "metadata": {
    "id": "76AzMDbKPd06"
   },
   "source": [
    "## Диаграммы рассеяния или точечные графики\n",
    "\n",
    "Диаграммы рассеяния полезны при изучении связей между двумя одномерными\n",
    "рядами данных. Например, загрузим набор данных из файла\n",
    "macrodata.csv проекта Statmodels. Выберем\n",
    "некоторые переменные и вычислим «логарифмические разности»:"
   ]
  },
  {
   "cell_type": "code",
   "execution_count": null,
   "metadata": {
    "collapsed": false,
    "id": "s-rX7074Pd06",
    "jupyter": {
     "outputs_hidden": false
    }
   },
   "outputs": [],
   "source": [
    "macro = pd.read_csv('/content/drive/MyDrive/Colab Notebooks/занятие 2/macrodata.csv')"
   ]
  },
  {
   "cell_type": "code",
   "execution_count": null,
   "metadata": {
    "collapsed": false,
    "id": "Qewb2A0sPd06",
    "jupyter": {
     "outputs_hidden": false
    }
   },
   "outputs": [],
   "source": [
    "data = macro[['cpi', 'm1', 'tbilrate', 'unemp']]"
   ]
  },
  {
   "cell_type": "code",
   "execution_count": null,
   "metadata": {
    "collapsed": false,
    "id": "wKq_7Z0oPd07",
    "jupyter": {
     "outputs_hidden": false
    }
   },
   "outputs": [],
   "source": [
    "trans_data = np.log(data).diff().dropna()"
   ]
  },
  {
   "cell_type": "code",
   "execution_count": null,
   "metadata": {
    "colab": {
     "base_uri": "https://localhost:8080/",
     "height": 206
    },
    "collapsed": false,
    "executionInfo": {
     "elapsed": 3,
     "status": "ok",
     "timestamp": 1678649948487,
     "user": {
      "displayName": "Александр Александров",
      "userId": "05407862560270528968"
     },
     "user_tz": -180
    },
    "id": "_hUCTR9xPd07",
    "jupyter": {
     "outputs_hidden": false
    },
    "outputId": "bd768a0b-4748-43ca-dacd-a57e3b79a25d"
   },
   "outputs": [
    {
     "data": {
      "text/html": [
       "\n",
       "  <div id=\"df-49c396b8-e909-4350-b98c-fbf52546fd5f\">\n",
       "    <div class=\"colab-df-container\">\n",
       "      <div>\n",
       "<style scoped>\n",
       "    .dataframe tbody tr th:only-of-type {\n",
       "        vertical-align: middle;\n",
       "    }\n",
       "\n",
       "    .dataframe tbody tr th {\n",
       "        vertical-align: top;\n",
       "    }\n",
       "\n",
       "    .dataframe thead th {\n",
       "        text-align: right;\n",
       "    }\n",
       "</style>\n",
       "<table border=\"1\" class=\"dataframe\">\n",
       "  <thead>\n",
       "    <tr style=\"text-align: right;\">\n",
       "      <th></th>\n",
       "      <th>cpi</th>\n",
       "      <th>m1</th>\n",
       "      <th>tbilrate</th>\n",
       "      <th>unemp</th>\n",
       "    </tr>\n",
       "  </thead>\n",
       "  <tbody>\n",
       "    <tr>\n",
       "      <th>198</th>\n",
       "      <td>-0.007904</td>\n",
       "      <td>0.045361</td>\n",
       "      <td>-0.396881</td>\n",
       "      <td>0.105361</td>\n",
       "    </tr>\n",
       "    <tr>\n",
       "      <th>199</th>\n",
       "      <td>-0.021979</td>\n",
       "      <td>0.066753</td>\n",
       "      <td>-2.277267</td>\n",
       "      <td>0.139762</td>\n",
       "    </tr>\n",
       "    <tr>\n",
       "      <th>200</th>\n",
       "      <td>0.002340</td>\n",
       "      <td>0.010286</td>\n",
       "      <td>0.606136</td>\n",
       "      <td>0.160343</td>\n",
       "    </tr>\n",
       "    <tr>\n",
       "      <th>201</th>\n",
       "      <td>0.008419</td>\n",
       "      <td>0.037461</td>\n",
       "      <td>-0.200671</td>\n",
       "      <td>0.127339</td>\n",
       "    </tr>\n",
       "    <tr>\n",
       "      <th>202</th>\n",
       "      <td>0.008894</td>\n",
       "      <td>0.012202</td>\n",
       "      <td>-0.405465</td>\n",
       "      <td>0.042560</td>\n",
       "    </tr>\n",
       "  </tbody>\n",
       "</table>\n",
       "</div>\n",
       "      <button class=\"colab-df-convert\" onclick=\"convertToInteractive('df-49c396b8-e909-4350-b98c-fbf52546fd5f')\"\n",
       "              title=\"Convert this dataframe to an interactive table.\"\n",
       "              style=\"display:none;\">\n",
       "        \n",
       "  <svg xmlns=\"http://www.w3.org/2000/svg\" height=\"24px\"viewBox=\"0 0 24 24\"\n",
       "       width=\"24px\">\n",
       "    <path d=\"M0 0h24v24H0V0z\" fill=\"none\"/>\n",
       "    <path d=\"M18.56 5.44l.94 2.06.94-2.06 2.06-.94-2.06-.94-.94-2.06-.94 2.06-2.06.94zm-11 1L8.5 8.5l.94-2.06 2.06-.94-2.06-.94L8.5 2.5l-.94 2.06-2.06.94zm10 10l.94 2.06.94-2.06 2.06-.94-2.06-.94-.94-2.06-.94 2.06-2.06.94z\"/><path d=\"M17.41 7.96l-1.37-1.37c-.4-.4-.92-.59-1.43-.59-.52 0-1.04.2-1.43.59L10.3 9.45l-7.72 7.72c-.78.78-.78 2.05 0 2.83L4 21.41c.39.39.9.59 1.41.59.51 0 1.02-.2 1.41-.59l7.78-7.78 2.81-2.81c.8-.78.8-2.07 0-2.86zM5.41 20L4 18.59l7.72-7.72 1.47 1.35L5.41 20z\"/>\n",
       "  </svg>\n",
       "      </button>\n",
       "      \n",
       "  <style>\n",
       "    .colab-df-container {\n",
       "      display:flex;\n",
       "      flex-wrap:wrap;\n",
       "      gap: 12px;\n",
       "    }\n",
       "\n",
       "    .colab-df-convert {\n",
       "      background-color: #E8F0FE;\n",
       "      border: none;\n",
       "      border-radius: 50%;\n",
       "      cursor: pointer;\n",
       "      display: none;\n",
       "      fill: #1967D2;\n",
       "      height: 32px;\n",
       "      padding: 0 0 0 0;\n",
       "      width: 32px;\n",
       "    }\n",
       "\n",
       "    .colab-df-convert:hover {\n",
       "      background-color: #E2EBFA;\n",
       "      box-shadow: 0px 1px 2px rgba(60, 64, 67, 0.3), 0px 1px 3px 1px rgba(60, 64, 67, 0.15);\n",
       "      fill: #174EA6;\n",
       "    }\n",
       "\n",
       "    [theme=dark] .colab-df-convert {\n",
       "      background-color: #3B4455;\n",
       "      fill: #D2E3FC;\n",
       "    }\n",
       "\n",
       "    [theme=dark] .colab-df-convert:hover {\n",
       "      background-color: #434B5C;\n",
       "      box-shadow: 0px 1px 3px 1px rgba(0, 0, 0, 0.15);\n",
       "      filter: drop-shadow(0px 1px 2px rgba(0, 0, 0, 0.3));\n",
       "      fill: #FFFFFF;\n",
       "    }\n",
       "  </style>\n",
       "\n",
       "      <script>\n",
       "        const buttonEl =\n",
       "          document.querySelector('#df-49c396b8-e909-4350-b98c-fbf52546fd5f button.colab-df-convert');\n",
       "        buttonEl.style.display =\n",
       "          google.colab.kernel.accessAllowed ? 'block' : 'none';\n",
       "\n",
       "        async function convertToInteractive(key) {\n",
       "          const element = document.querySelector('#df-49c396b8-e909-4350-b98c-fbf52546fd5f');\n",
       "          const dataTable =\n",
       "            await google.colab.kernel.invokeFunction('convertToInteractive',\n",
       "                                                     [key], {});\n",
       "          if (!dataTable) return;\n",
       "\n",
       "          const docLinkHtml = 'Like what you see? Visit the ' +\n",
       "            '<a target=\"_blank\" href=https://colab.research.google.com/notebooks/data_table.ipynb>data table notebook</a>'\n",
       "            + ' to learn more about interactive tables.';\n",
       "          element.innerHTML = '';\n",
       "          dataTable['output_type'] = 'display_data';\n",
       "          await google.colab.output.renderOutput(dataTable, element);\n",
       "          const docLink = document.createElement('div');\n",
       "          docLink.innerHTML = docLinkHtml;\n",
       "          element.appendChild(docLink);\n",
       "        }\n",
       "      </script>\n",
       "    </div>\n",
       "  </div>\n",
       "  "
      ],
      "text/plain": [
       "          cpi        m1  tbilrate     unemp\n",
       "198 -0.007904  0.045361 -0.396881  0.105361\n",
       "199 -0.021979  0.066753 -2.277267  0.139762\n",
       "200  0.002340  0.010286  0.606136  0.160343\n",
       "201  0.008419  0.037461 -0.200671  0.127339\n",
       "202  0.008894  0.012202 -0.405465  0.042560"
      ]
     },
     "execution_count": 56,
     "metadata": {},
     "output_type": "execute_result"
    }
   ],
   "source": [
    "trans_data[-5:]"
   ]
  },
  {
   "cell_type": "markdown",
   "metadata": {
    "id": "5SDZk0_3Pd07"
   },
   "source": [
    "Теперь воспользуемся функцией `regplot` библиотеки `seaborn`, которая\n",
    "строит графики рассеяния и предлагает график линейной регрессии:"
   ]
  },
  {
   "cell_type": "code",
   "execution_count": null,
   "metadata": {
    "colab": {
     "base_uri": "https://localhost:8080/",
     "height": 369
    },
    "collapsed": false,
    "executionInfo": {
     "elapsed": 1627,
     "status": "ok",
     "timestamp": 1678649956117,
     "user": {
      "displayName": "Александр Александров",
      "userId": "05407862560270528968"
     },
     "user_tz": -180
    },
    "id": "Nsn6AgWXPd07",
    "jupyter": {
     "outputs_hidden": false
    },
    "outputId": "4741511e-8394-4f46-a082-51528eef70c5"
   },
   "outputs": [
    {
     "name": "stderr",
     "output_type": "stream",
     "text": [
      "/usr/local/lib/python3.9/dist-packages/seaborn/_decorators.py:36: FutureWarning: Pass the following variables as keyword args: x, y. From version 0.12, the only valid positional argument will be `data`, and passing other arguments without an explicit keyword will result in an error or misinterpretation.\n",
      "  warnings.warn(\n"
     ]
    },
    {
     "data": {
      "text/plain": [
       "Text(0.5, 1.0, 'Зависимость $\\\\log$ m1 от $\\\\log$ unemp')"
      ]
     },
     "execution_count": 57,
     "metadata": {},
     "output_type": "execute_result"
    },
    {
     "data": {
      "image/png": "[encoded data removed]",
      "text/plain": [
       "<Figure size 432x288 with 1 Axes>"
      ]
     },
     "metadata": {
      "needs_background": "light"
     },
     "output_type": "display_data"
    }
   ],
   "source": [
    "sns.regplot('m1', 'unemp', data=trans_data)\n",
    "plt.title('Зависимость $\\log$ {} от $\\log$ {}'.format('m1', 'unemp'))"
   ]
  },
  {
   "cell_type": "markdown",
   "metadata": {
    "id": "vTO7MrQfPd07"
   },
   "source": [
    "При анализе данных полезно иметь возможность просматривать все\n",
    "диаграммы рассеяния среди группы переменных, т.е. строить, так\n",
    "называемые, *парные графики* или *матрицу диаграмм рассеяния*. В\n",
    "библиотеке `seaborn` для этого есть удобная функция `pairplot`,\n",
    "которая, в частности, поддерживает размещение гистограмм или оценок\n",
    "плотности каждой переменной по диагонали:"
   ]
  },
  {
   "cell_type": "code",
   "execution_count": null,
   "metadata": {
    "colab": {
     "base_uri": "https://localhost:8080/",
     "height": 743
    },
    "collapsed": false,
    "executionInfo": {
     "elapsed": 4161,
     "status": "ok",
     "timestamp": 1678649978644,
     "user": {
      "displayName": "Александр Александров",
      "userId": "05407862560270528968"
     },
     "user_tz": -180
    },
    "id": "eFCte2YSPd07",
    "jupyter": {
     "outputs_hidden": false
    },
    "outputId": "0cae7971-6c9d-4a82-d61b-0015b3a24ce7"
   },
   "outputs": [
    {
     "data": {
      "text/plain": [
       "<seaborn.axisgrid.PairGrid at 0x7f693488bd60>"
      ]
     },
     "execution_count": 58,
     "metadata": {},
     "output_type": "execute_result"
    },
    {
     "data": {
      "image/png": "[encoded data removed]",
      "text/plain": [
       "<Figure size 720x720 with 20 Axes>"
      ]
     },
     "metadata": {
      "needs_background": "light"
     },
     "output_type": "display_data"
    }
   ],
   "source": [
    "sns.pairplot(trans_data, diag_kind='kde', plot_kws={'alpha': 0.2})"
   ]
  },
  {
   "cell_type": "markdown",
   "metadata": {
    "id": "sFDAXlntPd07"
   },
   "source": [
    "## Категориальные данные\n",
    "\n",
    "Одним из способов визуализации данных с множеством категориальных\n",
    "переменных является использование сетки фасетов (*facet grid*). В\n",
    "библиотеке `seaborn` есть удобная функция `catplot`, которая\n",
    "упрощает создание сетки фасетов:"
   ]
  },
  {
   "cell_type": "code",
   "execution_count": null,
   "metadata": {
    "colab": {
     "base_uri": "https://localhost:8080/",
     "height": 386
    },
    "collapsed": false,
    "executionInfo": {
     "elapsed": 1244,
     "status": "ok",
     "timestamp": 1678650002133,
     "user": {
      "displayName": "Александр Александров",
      "userId": "05407862560270528968"
     },
     "user_tz": -180
    },
    "id": "4wpwedOnPd07",
    "jupyter": {
     "outputs_hidden": false
    },
    "outputId": "b21f57a6-d92a-4c43-cbdd-4f19a3703e17"
   },
   "outputs": [
    {
     "data": {
      "text/plain": [
       "<seaborn.axisgrid.FacetGrid at 0x7f6934059670>"
      ]
     },
     "execution_count": 59,
     "metadata": {},
     "output_type": "execute_result"
    },
    {
     "data": {
      "image/png": "[encoded data removed]",
      "text/plain": [
       "<Figure size 789.625x360 with 2 Axes>"
      ]
     },
     "metadata": {
      "needs_background": "light"
     },
     "output_type": "display_data"
    }
   ],
   "source": [
    "sns.catplot(x='day', y='tip_pct', hue='time', col='smoker', kind='bar', data=tips[tips.tip_pct < 1])"
   ]
  },
  {
   "cell_type": "markdown",
   "metadata": {
    "id": "1L4WgEU5Pd07"
   },
   "source": [
    "Вместо отображения разными цветами  столбцов диаграмм в фасете мы\n",
    "также можем расширить сетку фасетов, добавив одну строку по времени:"
   ]
  },
  {
   "cell_type": "code",
   "execution_count": null,
   "metadata": {
    "colab": {
     "base_uri": "https://localhost:8080/",
     "height": 746
    },
    "collapsed": false,
    "executionInfo": {
     "elapsed": 2454,
     "status": "ok",
     "timestamp": 1678650021078,
     "user": {
      "displayName": "Александр Александров",
      "userId": "05407862560270528968"
     },
     "user_tz": -180
    },
    "id": "y5dvyIvxPd08",
    "jupyter": {
     "outputs_hidden": false
    },
    "outputId": "6f1e6032-4d70-4628-b963-0c157892bdb9"
   },
   "outputs": [
    {
     "data": {
      "text/plain": [
       "<seaborn.axisgrid.FacetGrid at 0x7f693408b550>"
      ]
     },
     "execution_count": 60,
     "metadata": {},
     "output_type": "execute_result"
    },
    {
     "data": {
      "image/png": "[encoded data removed]",
      "text/plain": [
       "<Figure size 720x720 with 4 Axes>"
      ]
     },
     "metadata": {
      "needs_background": "light"
     },
     "output_type": "display_data"
    }
   ],
   "source": [
    "sns.catplot(x='day', y='tip_pct', row='time', col='smoker', kind='bar', data=tips[tips.tip_pct < 1])"
   ]
  },
  {
   "cell_type": "markdown",
   "metadata": {
    "id": "_EF7KxC9Pd08"
   },
   "source": [
    "Функция `catplot` поддерживает другие типы графиков, которые могут быть\n",
    "полезны. Например, блочные графики, которые показывают медиану,\n",
    "квартили и выбросы:"
   ]
  },
  {
   "cell_type": "code",
   "execution_count": null,
   "metadata": {
    "colab": {
     "base_uri": "https://localhost:8080/",
     "height": 386
    },
    "collapsed": false,
    "executionInfo": {
     "elapsed": 560,
     "status": "ok",
     "timestamp": 1678650029669,
     "user": {
      "displayName": "Александр Александров",
      "userId": "05407862560270528968"
     },
     "user_tz": -180
    },
    "id": "WvUlHd_mPd08",
    "jupyter": {
     "outputs_hidden": false
    },
    "outputId": "9764513c-00b1-4101-ce9f-a422f0f4c9c2"
   },
   "outputs": [
    {
     "data": {
      "text/plain": [
       "<seaborn.axisgrid.FacetGrid at 0x7f692a48f2b0>"
      ]
     },
     "execution_count": 61,
     "metadata": {},
     "output_type": "execute_result"
    },
    {
     "data": {
      "image/png": "[encoded data removed]",
      "text/plain": [
       "<Figure size 360x360 with 1 Axes>"
      ]
     },
     "metadata": {
      "needs_background": "light"
     },
     "output_type": "display_data"
    }
   ],
   "source": [
    "sns.catplot(x='tip_pct', y='day', kind='box', data=tips[tips.tip_pct < 0.5])"
   ]
  },
  {
   "cell_type": "markdown",
   "metadata": {
    "id": "e9dego0JPd08"
   },
   "source": [
    "Можно создавать свои собственные сетки фасетов,\n",
    "используя более общий класс `seaborn.FacetGrid` (см.\n",
    "[документацию seaborn](https://seaborn.pydata.org/)).\n",
    "\n",
    "\n",
    "\n",
    "\n",
    "\n",
    "\n",
    "\n",
    "<!-- Local Variables: -->\n",
    "<!-- doconce-chapter-nickname: \"visual\" -->\n",
    "<!-- doconce-section-nickname: \"plt-with-pandas\" -->\n",
    "<!-- End: -->\n",
    "\n",
    "\n",
    "\n",
    "\n",
    "<!-- Local Variables: -->\n",
    "<!-- doconce-chapter-nickname: \"visual\" -->\n",
    "<!-- End: -->"
   ]
  }
 ],
 "metadata": {
  "colab": {
   "provenance": [
    {
     "file_id": "1lmjUF4JtKDPB1b9fp9GSoAwTQhWbNdeZ",
     "timestamp": 1678648789293
    },
    {
     "file_id": "https://github.com/slemeshevsky/python-course-ipynb/blob/master/visual.ipynb",
     "timestamp": 1678648626644
    }
   ]
  },
  "kernelspec": {
   "display_name": "Python 3 (ipykernel)",
   "language": "python",
   "name": "python3"
  },
  "language_info": {
   "codemirror_mode": {
    "name": "ipython",
    "version": 3
   },
   "file_extension": ".py",
   "mimetype": "text/x-python",
   "name": "python",
   "nbconvert_exporter": "python",
   "pygments_lexer": "ipython3",
   "version": "3.10.10"
  }
 },
 "nbformat": 4,
 "nbformat_minor": 4
}
